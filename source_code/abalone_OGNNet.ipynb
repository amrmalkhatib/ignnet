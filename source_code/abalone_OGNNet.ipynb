{
 "cells": [
  {
   "cell_type": "code",
   "execution_count": 1,
   "id": "34f98c97",
   "metadata": {
    "scrolled": true
   },
   "outputs": [
    {
     "name": "stderr",
     "output_type": "stream",
     "text": [
      "c:\\users\\amr20\\appdata\\local\\programs\\python\\python38\\lib\\site-packages\\openml\\datasets\\functions.py:438: FutureWarning: Starting from Version 0.15 `download_data`, `download_qualities`, and `download_features_meta_data` will all be ``False`` instead of ``True`` by default to enable lazy loading. To disable this message until version 0.15 explicitly set `download_data`, `download_qualities`, and `download_features_meta_data` to a bool while calling `get_dataset`.\n",
      "  warnings.warn(\n"
     ]
    }
   ],
   "source": [
    "import pandas as pd\n",
    "import openml\n",
    "import data_preprocess as dp\n",
    "\n",
    "data_name = 'abalone'\n",
    "\n",
    "data = openml.datasets.get_dataset(720)\n",
    "\n",
    "X, y, categorical_indicator, attribute_names = data.get_data(\n",
    "    target=data.default_target_attribute, dataset_format=\"dataframe\"\n",
    ")"
   ]
  },
  {
   "cell_type": "markdown",
   "id": "a854335e",
   "metadata": {},
   "source": [
    "# Data Preprocessing"
   ]
  },
  {
   "cell_type": "code",
   "execution_count": 2,
   "id": "b83124ce",
   "metadata": {},
   "outputs": [
    {
     "data": {
      "text/html": [
       "<div>\n",
       "<style scoped>\n",
       "    .dataframe tbody tr th:only-of-type {\n",
       "        vertical-align: middle;\n",
       "    }\n",
       "\n",
       "    .dataframe tbody tr th {\n",
       "        vertical-align: top;\n",
       "    }\n",
       "\n",
       "    .dataframe thead th {\n",
       "        text-align: right;\n",
       "    }\n",
       "</style>\n",
       "<table border=\"1\" class=\"dataframe\">\n",
       "  <thead>\n",
       "    <tr style=\"text-align: right;\">\n",
       "      <th></th>\n",
       "      <th>Length</th>\n",
       "      <th>Diameter</th>\n",
       "      <th>Height</th>\n",
       "      <th>Whole weight</th>\n",
       "      <th>Shucked weight</th>\n",
       "      <th>Viscera weight</th>\n",
       "      <th>Shell weight</th>\n",
       "      <th>Sex_M</th>\n",
       "      <th>Sex_F</th>\n",
       "      <th>Sex_I</th>\n",
       "    </tr>\n",
       "  </thead>\n",
       "  <tbody>\n",
       "    <tr>\n",
       "      <th>0</th>\n",
       "      <td>0.455</td>\n",
       "      <td>0.365</td>\n",
       "      <td>0.095</td>\n",
       "      <td>0.5140</td>\n",
       "      <td>0.2245</td>\n",
       "      <td>0.1010</td>\n",
       "      <td>0.1500</td>\n",
       "      <td>1</td>\n",
       "      <td>0</td>\n",
       "      <td>0</td>\n",
       "    </tr>\n",
       "    <tr>\n",
       "      <th>1</th>\n",
       "      <td>0.350</td>\n",
       "      <td>0.265</td>\n",
       "      <td>0.090</td>\n",
       "      <td>0.2255</td>\n",
       "      <td>0.0995</td>\n",
       "      <td>0.0485</td>\n",
       "      <td>0.0700</td>\n",
       "      <td>1</td>\n",
       "      <td>0</td>\n",
       "      <td>0</td>\n",
       "    </tr>\n",
       "    <tr>\n",
       "      <th>2</th>\n",
       "      <td>0.530</td>\n",
       "      <td>0.420</td>\n",
       "      <td>0.135</td>\n",
       "      <td>0.6770</td>\n",
       "      <td>0.2565</td>\n",
       "      <td>0.1415</td>\n",
       "      <td>0.2100</td>\n",
       "      <td>0</td>\n",
       "      <td>1</td>\n",
       "      <td>0</td>\n",
       "    </tr>\n",
       "    <tr>\n",
       "      <th>3</th>\n",
       "      <td>0.440</td>\n",
       "      <td>0.365</td>\n",
       "      <td>0.125</td>\n",
       "      <td>0.5160</td>\n",
       "      <td>0.2155</td>\n",
       "      <td>0.1140</td>\n",
       "      <td>0.1550</td>\n",
       "      <td>1</td>\n",
       "      <td>0</td>\n",
       "      <td>0</td>\n",
       "    </tr>\n",
       "    <tr>\n",
       "      <th>4</th>\n",
       "      <td>0.330</td>\n",
       "      <td>0.255</td>\n",
       "      <td>0.080</td>\n",
       "      <td>0.2050</td>\n",
       "      <td>0.0895</td>\n",
       "      <td>0.0395</td>\n",
       "      <td>0.0550</td>\n",
       "      <td>0</td>\n",
       "      <td>0</td>\n",
       "      <td>1</td>\n",
       "    </tr>\n",
       "    <tr>\n",
       "      <th>...</th>\n",
       "      <td>...</td>\n",
       "      <td>...</td>\n",
       "      <td>...</td>\n",
       "      <td>...</td>\n",
       "      <td>...</td>\n",
       "      <td>...</td>\n",
       "      <td>...</td>\n",
       "      <td>...</td>\n",
       "      <td>...</td>\n",
       "      <td>...</td>\n",
       "    </tr>\n",
       "    <tr>\n",
       "      <th>4172</th>\n",
       "      <td>0.565</td>\n",
       "      <td>0.450</td>\n",
       "      <td>0.165</td>\n",
       "      <td>0.8870</td>\n",
       "      <td>0.3700</td>\n",
       "      <td>0.2390</td>\n",
       "      <td>0.2490</td>\n",
       "      <td>0</td>\n",
       "      <td>1</td>\n",
       "      <td>0</td>\n",
       "    </tr>\n",
       "    <tr>\n",
       "      <th>4173</th>\n",
       "      <td>0.590</td>\n",
       "      <td>0.440</td>\n",
       "      <td>0.135</td>\n",
       "      <td>0.9660</td>\n",
       "      <td>0.4390</td>\n",
       "      <td>0.2145</td>\n",
       "      <td>0.2605</td>\n",
       "      <td>1</td>\n",
       "      <td>0</td>\n",
       "      <td>0</td>\n",
       "    </tr>\n",
       "    <tr>\n",
       "      <th>4174</th>\n",
       "      <td>0.600</td>\n",
       "      <td>0.475</td>\n",
       "      <td>0.205</td>\n",
       "      <td>1.1760</td>\n",
       "      <td>0.5255</td>\n",
       "      <td>0.2875</td>\n",
       "      <td>0.3080</td>\n",
       "      <td>1</td>\n",
       "      <td>0</td>\n",
       "      <td>0</td>\n",
       "    </tr>\n",
       "    <tr>\n",
       "      <th>4175</th>\n",
       "      <td>0.625</td>\n",
       "      <td>0.485</td>\n",
       "      <td>0.150</td>\n",
       "      <td>1.0945</td>\n",
       "      <td>0.5310</td>\n",
       "      <td>0.2610</td>\n",
       "      <td>0.2960</td>\n",
       "      <td>0</td>\n",
       "      <td>1</td>\n",
       "      <td>0</td>\n",
       "    </tr>\n",
       "    <tr>\n",
       "      <th>4176</th>\n",
       "      <td>0.710</td>\n",
       "      <td>0.555</td>\n",
       "      <td>0.195</td>\n",
       "      <td>1.9485</td>\n",
       "      <td>0.9455</td>\n",
       "      <td>0.3765</td>\n",
       "      <td>0.4950</td>\n",
       "      <td>1</td>\n",
       "      <td>0</td>\n",
       "      <td>0</td>\n",
       "    </tr>\n",
       "  </tbody>\n",
       "</table>\n",
       "<p>4177 rows × 10 columns</p>\n",
       "</div>"
      ],
      "text/plain": [
       "      Length  Diameter  Height  Whole weight  Shucked weight  Viscera weight  \\\n",
       "0      0.455     0.365   0.095        0.5140          0.2245          0.1010   \n",
       "1      0.350     0.265   0.090        0.2255          0.0995          0.0485   \n",
       "2      0.530     0.420   0.135        0.6770          0.2565          0.1415   \n",
       "3      0.440     0.365   0.125        0.5160          0.2155          0.1140   \n",
       "4      0.330     0.255   0.080        0.2050          0.0895          0.0395   \n",
       "...      ...       ...     ...           ...             ...             ...   \n",
       "4172   0.565     0.450   0.165        0.8870          0.3700          0.2390   \n",
       "4173   0.590     0.440   0.135        0.9660          0.4390          0.2145   \n",
       "4174   0.600     0.475   0.205        1.1760          0.5255          0.2875   \n",
       "4175   0.625     0.485   0.150        1.0945          0.5310          0.2610   \n",
       "4176   0.710     0.555   0.195        1.9485          0.9455          0.3765   \n",
       "\n",
       "      Shell weight  Sex_M  Sex_F  Sex_I  \n",
       "0           0.1500      1      0      0  \n",
       "1           0.0700      1      0      0  \n",
       "2           0.2100      0      1      0  \n",
       "3           0.1550      1      0      0  \n",
       "4           0.0550      0      0      1  \n",
       "...            ...    ...    ...    ...  \n",
       "4172        0.2490      0      1      0  \n",
       "4173        0.2605      1      0      0  \n",
       "4174        0.3080      1      0      0  \n",
       "4175        0.2960      0      1      0  \n",
       "4176        0.4950      1      0      0  \n",
       "\n",
       "[4177 rows x 10 columns]"
      ]
     },
     "execution_count": 2,
     "metadata": {},
     "output_type": "execute_result"
    }
   ],
   "source": [
    "nominal = [b for a, b in zip(categorical_indicator, attribute_names) if a]\n",
    "encoded_data = pd.get_dummies(X, columns=nominal)\n",
    "\n",
    "columns = encoded_data.columns\n",
    "updates = {}\n",
    "for col in columns:\n",
    "    if any(x in col for x in set((',', '[', ']', '<', '>'))):\n",
    "        updates[col] = col.replace(',', '_').replace('[', '_').replace(']', '_').replace('<', 'less').replace('>', 'greater')\n",
    "encoded_data = encoded_data.rename(columns=updates)\n",
    "\n",
    "encoded_data.fillna(0, inplace=True)\n",
    "encoded_data"
   ]
  },
  {
   "cell_type": "code",
   "execution_count": 3,
   "id": "e5c57b9c",
   "metadata": {},
   "outputs": [],
   "source": [
    "mapping = {'P': 1, 'N': 0}\n",
    "\n",
    "y = y.replace(mapping)"
   ]
  },
  {
   "cell_type": "code",
   "execution_count": 4,
   "id": "747e1b0a",
   "metadata": {},
   "outputs": [
    {
     "name": "stdout",
     "output_type": "stream",
     "text": [
      "train shape: (2506, 10)\n",
      " test shape: (835, 10)\n",
      " dev shape: (836, 10)\n"
     ]
    }
   ],
   "source": [
    "import numpy as np\n",
    "from sklearn.model_selection import train_test_split\n",
    "\n",
    "train_data, left_out, train_label, y_left_out = train_test_split(encoded_data, y, test_size=0.4, random_state=42)\n",
    "test_data, dev_data, test_label, dev_label = train_test_split(left_out, y_left_out, test_size=0.5, random_state=42)\n",
    "\n",
    "print(f'train shape: {train_data.shape}\\n test shape: {test_data.shape}\\n dev shape: {dev_data.shape}')"
   ]
  },
  {
   "cell_type": "code",
   "execution_count": 5,
   "id": "cfa7fd8f",
   "metadata": {},
   "outputs": [],
   "source": [
    "normalized_train_data = dp.min_max_normalize(train_data, train_data)\n",
    "\n",
    "normalized_test_data = dp.min_max_normalize(test_data, train_data)\n",
    "\n",
    "normalized_dev_data = dp.min_max_normalize(dev_data, train_data)"
   ]
  },
  {
   "cell_type": "markdown",
   "id": "a3bc7f32",
   "metadata": {},
   "source": [
    "# Build graph"
   ]
  },
  {
   "cell_type": "code",
   "execution_count": 6,
   "id": "3e6f5635",
   "metadata": {},
   "outputs": [],
   "source": [
    "adj_matrix, index_to_name, name_to_index = dp.compute_adjacency_matrix(data=normalized_train_data, \n",
    "                                                                       self_loop_weight=20, threshold=0.2)\n",
    "        "
   ]
  },
  {
   "cell_type": "code",
   "execution_count": 7,
   "id": "92224a23",
   "metadata": {},
   "outputs": [],
   "source": [
    "#oversampled_data, oversampled_labels = dp.oversample(normalized_train_data, train_label, oversampled_class=1, num_folds=2)\n",
    "\n",
    "train = dp.transform_to_tensors(normalized_train_data, train_label, adj_matrix)\n",
    "\n",
    "test = dp.transform_to_tensors(normalized_test_data, test_label, adj_matrix)\n",
    "\n",
    "dev = dp.transform_to_tensors(normalized_dev_data, dev_label, adj_matrix)\n"
   ]
  },
  {
   "cell_type": "code",
   "execution_count": 8,
   "id": "48ac24f2",
   "metadata": {},
   "outputs": [],
   "source": [
    "from torch.utils.data import DataLoader\n",
    "import torch\n",
    "\n",
    "batch_size = 64\n",
    "\n",
    "train_dataset = dp.Data(data=train)\n",
    "val_dataset = dp.Data(data=dev)\n",
    "test_dataset = dp.Data(data=test)\n",
    "\n",
    "train_dataloader = DataLoader(train_dataset, batch_size=batch_size, shuffle=True, drop_last=False)\n",
    "val_dataloader = DataLoader(val_dataset, batch_size=batch_size, shuffle=False, drop_last=False)\n",
    "test_dataloader = DataLoader(test_dataset, batch_size=batch_size, shuffle=False, drop_last=False)"
   ]
  },
  {
   "cell_type": "markdown",
   "id": "fe7b1674",
   "metadata": {},
   "source": [
    "# Train OGNNet"
   ]
  },
  {
   "cell_type": "code",
   "execution_count": 9,
   "id": "4e60ec10",
   "metadata": {},
   "outputs": [],
   "source": [
    "from sklearn.metrics import roc_auc_score, roc_curve, precision_score, recall_score, f1_score"
   ]
  },
  {
   "cell_type": "code",
   "execution_count": 10,
   "id": "fb19766d",
   "metadata": {
    "scrolled": true
   },
   "outputs": [
    {
     "name": "stderr",
     "output_type": "stream",
     "text": [
      "100%|██████████████████████████████████████████████████████████████████████████████████| 40/40 [00:02<00:00, 15.21it/s]\n",
      "100%|█████████████████████████████████████████████████████████████████████████████████| 14/14 [00:00<00:00, 122.59it/s]\n",
      " 15%|████████████▍                                                                      | 6/40 [00:00<00:00, 55.43it/s]"
     ]
    },
    {
     "name": "stdout",
     "output_type": "stream",
     "text": [
      "Acc at dev is : 0.703\n",
      "ROC is : 0.702,  prec 0.717696386730793,  recall 0.7020857659637796, f-score 0.6975256769374416\n",
      "Acc at epoch : 1 is : 0.6755785942077637, loss : 29.101772636175156\n"
     ]
    },
    {
     "name": "stderr",
     "output_type": "stream",
     "text": [
      "100%|██████████████████████████████████████████████████████████████████████████████████| 40/40 [00:00<00:00, 54.34it/s]\n",
      "100%|█████████████████████████████████████████████████████████████████████████████████| 14/14 [00:00<00:00, 120.50it/s]\n",
      " 15%|████████████▍                                                                      | 6/40 [00:00<00:00, 52.95it/s]"
     ]
    },
    {
     "name": "stdout",
     "output_type": "stream",
     "text": [
      "Acc at dev is : 0.749\n",
      "ROC is : 0.750,  prec 0.7686688311688312,  recall 0.7500858575451611, f-score 0.7446994154087776\n",
      "Acc at epoch : 2 is : 0.7178770899772644, loss : 22.22740250825882\n"
     ]
    },
    {
     "name": "stderr",
     "output_type": "stream",
     "text": [
      "100%|██████████████████████████████████████████████████████████████████████████████████| 40/40 [00:00<00:00, 54.10it/s]\n",
      "100%|█████████████████████████████████████████████████████████████████████████████████| 14/14 [00:00<00:00, 120.21it/s]\n",
      " 15%|████████████▍                                                                      | 6/40 [00:00<00:00, 52.57it/s]"
     ]
    },
    {
     "name": "stdout",
     "output_type": "stream",
     "text": [
      "Acc at dev is : 0.727\n",
      "ROC is : 0.7291709595439247,  prec 0.7708417891062587,  recall 0.7291709595439247, f-score 0.716903115420261\n",
      "Acc at epoch : 3 is : 0.7302473783493042, loss : 20.81871211528778\n"
     ]
    },
    {
     "name": "stderr",
     "output_type": "stream",
     "text": [
      "100%|██████████████████████████████████████████████████████████████████████████████████| 40/40 [00:00<00:00, 54.62it/s]\n",
      "100%|█████████████████████████████████████████████████████████████████████████████████| 14/14 [00:00<00:00, 119.26it/s]\n",
      " 15%|████████████▍                                                                      | 6/40 [00:00<00:00, 55.81it/s]"
     ]
    },
    {
     "name": "stdout",
     "output_type": "stream",
     "text": [
      "Acc at dev is : 0.679\n",
      "ROC is : 0.6770382581221237,  prec 0.7367865017148456,  recall 0.6770382581221237, f-score 0.6569468687796662\n",
      "Acc at epoch : 4 is : 0.7170789837837219, loss : 21.878767997026443\n"
     ]
    },
    {
     "name": "stderr",
     "output_type": "stream",
     "text": [
      "100%|██████████████████████████████████████████████████████████████████████████████████| 40/40 [00:00<00:00, 54.98it/s]\n",
      "100%|█████████████████████████████████████████████████████████████████████████████████| 14/14 [00:00<00:00, 117.78it/s]\n",
      " 15%|████████████▍                                                                      | 6/40 [00:00<00:00, 54.55it/s]"
     ]
    },
    {
     "name": "stdout",
     "output_type": "stream",
     "text": [
      "Acc at dev is : 0.746\n",
      "ROC is : 0.7478764567163496,  prec 0.7726254029008863,  recall 0.7478764567163496, f-score 0.7408934346181061\n",
      "Acc at epoch : 5 is : 0.7537909150123596, loss : 20.085292249917984\n"
     ]
    },
    {
     "name": "stderr",
     "output_type": "stream",
     "text": [
      "100%|██████████████████████████████████████████████████████████████████████████████████| 40/40 [00:00<00:00, 55.02it/s]\n",
      "100%|█████████████████████████████████████████████████████████████████████████████████| 14/14 [00:00<00:00, 119.88it/s]\n",
      " 12%|██████████▍                                                                        | 5/40 [00:00<00:00, 45.20it/s]"
     ]
    },
    {
     "name": "stdout",
     "output_type": "stream",
     "text": [
      "Acc at dev is : 0.774\n",
      "ROC is : 0.775,  prec 0.780597416419595,  recall 0.7746468392975707, f-score 0.7728675607024826\n",
      "Acc at epoch : 6 is : 0.7458100318908691, loss : 19.979416698217392\n"
     ]
    },
    {
     "name": "stderr",
     "output_type": "stream",
     "text": [
      "100%|██████████████████████████████████████████████████████████████████████████████████| 40/40 [00:00<00:00, 52.10it/s]\n",
      "100%|█████████████████████████████████████████████████████████████████████████████████| 14/14 [00:00<00:00, 113.79it/s]\n",
      " 15%|████████████▍                                                                      | 6/40 [00:00<00:00, 52.91it/s]"
     ]
    },
    {
     "name": "stdout",
     "output_type": "stream",
     "text": [
      "Acc at dev is : 0.779\n",
      "ROC is : 0.778,  prec 0.7870921767721868,  recall 0.7778750829956269, f-score 0.7767142372465369\n",
      "Acc at epoch : 7 is : 0.7789305448532104, loss : 18.646852612495422\n"
     ]
    },
    {
     "name": "stderr",
     "output_type": "stream",
     "text": [
      "100%|██████████████████████████████████████████████████████████████████████████████████| 40/40 [00:00<00:00, 51.01it/s]\n",
      "100%|█████████████████████████████████████████████████████████████████████████████████| 14/14 [00:00<00:00, 110.85it/s]\n",
      " 15%|████████████▍                                                                      | 6/40 [00:00<00:00, 52.64it/s]"
     ]
    },
    {
     "name": "stdout",
     "output_type": "stream",
     "text": [
      "Acc at dev is : 0.782\n",
      "ROC is : 0.782,  prec 0.7887396694214877,  recall 0.781566957437553, f-score 0.7807595432826702\n",
      "Acc at epoch : 8 is : 0.7609736919403076, loss : 19.623301535844803\n"
     ]
    },
    {
     "name": "stderr",
     "output_type": "stream",
     "text": [
      "100%|██████████████████████████████████████████████████████████████████████████████████| 40/40 [00:00<00:00, 52.90it/s]\n",
      "100%|█████████████████████████████████████████████████████████████████████████████████| 14/14 [00:00<00:00, 116.11it/s]\n",
      " 12%|██████████▍                                                                        | 5/40 [00:00<00:00, 48.23it/s]"
     ]
    },
    {
     "name": "stdout",
     "output_type": "stream",
     "text": [
      "Acc at dev is : 0.794\n",
      "ROC is : 0.794,  prec 0.7986240454460793,  recall 0.7936671474689196, f-score 0.7932632862326967\n",
      "Acc at epoch : 9 is : 0.7745410799980164, loss : 18.982252717018127\n"
     ]
    },
    {
     "name": "stderr",
     "output_type": "stream",
     "text": [
      "100%|██████████████████████████████████████████████████████████████████████████████████| 40/40 [00:00<00:00, 52.66it/s]\n",
      "100%|█████████████████████████████████████████████████████████████████████████████████| 14/14 [00:00<00:00, 114.96it/s]\n",
      " 15%|████████████▍                                                                      | 6/40 [00:00<00:00, 52.26it/s]"
     ]
    },
    {
     "name": "stdout",
     "output_type": "stream",
     "text": [
      "Acc at dev is : 0.793\n",
      "ROC is : 0.7933981271607482,  prec 0.794600419552286,  recall 0.7933981271607482, f-score 0.7929054494270205\n",
      "Acc at epoch : 10 is : 0.7905027866363525, loss : 18.04744291305542\n"
     ]
    },
    {
     "name": "stderr",
     "output_type": "stream",
     "text": [
      "100%|██████████████████████████████████████████████████████████████████████████████████| 40/40 [00:00<00:00, 51.87it/s]\n",
      "100%|█████████████████████████████████████████████████████████████████████████████████| 14/14 [00:00<00:00, 110.27it/s]\n",
      " 15%|████████████▍                                                                      | 6/40 [00:00<00:00, 54.14it/s]"
     ]
    },
    {
     "name": "stdout",
     "output_type": "stream",
     "text": [
      "Acc at dev is : 0.726\n",
      "ROC is : 0.7246434049957644,  prec 0.7474668179955232,  recall 0.7246434049957644, f-score 0.719181206773893\n",
      "Acc at epoch : 11 is : 0.7833200097084045, loss : 17.65083798766136\n"
     ]
    },
    {
     "name": "stderr",
     "output_type": "stream",
     "text": [
      "100%|██████████████████████████████████████████████████████████████████████████████████| 40/40 [00:00<00:00, 53.80it/s]\n",
      "100%|█████████████████████████████████████████████████████████████████████████████████| 14/14 [00:00<00:00, 108.08it/s]\n",
      " 15%|████████████▍                                                                      | 6/40 [00:00<00:00, 53.80it/s]"
     ]
    },
    {
     "name": "stdout",
     "output_type": "stream",
     "text": [
      "Acc at dev is : 0.798\n",
      "ROC is : 0.798,  prec 0.7984873274204196,  recall 0.7976108707099847, f-score 0.797635809197513\n",
      "Acc at epoch : 12 is : 0.764165997505188, loss : 19.43185356259346\n"
     ]
    },
    {
     "name": "stderr",
     "output_type": "stream",
     "text": [
      "100%|██████████████████████████████████████████████████████████████████████████████████| 40/40 [00:00<00:00, 53.50it/s]\n",
      "100%|█████████████████████████████████████████████████████████████████████████████████| 14/14 [00:00<00:00, 111.07it/s]\n",
      " 12%|██████████▍                                                                        | 5/40 [00:00<00:00, 49.15it/s]"
     ]
    },
    {
     "name": "stdout",
     "output_type": "stream",
     "text": [
      "Acc at dev is : 0.781\n",
      "ROC is : 0.7803821233143302,  prec 0.7873037378518348,  recall 0.7803821233143302, f-score 0.7795990693453003\n",
      "Acc at epoch : 13 is : 0.7881085276603699, loss : 18.084784388542175\n"
     ]
    },
    {
     "name": "stderr",
     "output_type": "stream",
     "text": [
      "100%|██████████████████████████████████████████████████████████████████████████████████| 40/40 [00:00<00:00, 52.76it/s]\n",
      "100%|█████████████████████████████████████████████████████████████████████████████████| 14/14 [00:00<00:00, 113.71it/s]\n",
      " 15%|████████████▍                                                                      | 6/40 [00:00<00:00, 53.92it/s]"
     ]
    },
    {
     "name": "stdout",
     "output_type": "stream",
     "text": [
      "Acc at dev is : 0.773\n",
      "ROC is : 0.773622272591982,  prec 0.7829509671614935,  recall 0.773622272591982, f-score 0.7710288996009871\n",
      "Acc at epoch : 14 is : 0.7857142686843872, loss : 17.699282437562943\n"
     ]
    },
    {
     "name": "stderr",
     "output_type": "stream",
     "text": [
      "100%|██████████████████████████████████████████████████████████████████████████████████| 40/40 [00:00<00:00, 53.74it/s]\n",
      "100%|█████████████████████████████████████████████████████████████████████████████████| 14/14 [00:00<00:00, 107.24it/s]\n",
      " 15%|████████████▍                                                                      | 6/40 [00:00<00:00, 54.65it/s]"
     ]
    },
    {
     "name": "stdout",
     "output_type": "stream",
     "text": [
      "Acc at dev is : 0.794\n",
      "ROC is : 0.7948806007738627,  prec 0.7994884315777235,  recall 0.7948806007738627, f-score 0.7935778762891335\n",
      "Acc at epoch : 15 is : 0.7932960987091064, loss : 17.84498655796051\n"
     ]
    },
    {
     "name": "stderr",
     "output_type": "stream",
     "text": [
      "100%|██████████████████████████████████████████████████████████████████████████████████| 40/40 [00:00<00:00, 52.85it/s]\n",
      "100%|█████████████████████████████████████████████████████████████████████████████████| 14/14 [00:00<00:00, 105.75it/s]\n",
      " 12%|██████████▍                                                                        | 5/40 [00:00<00:00, 47.23it/s]"
     ]
    },
    {
     "name": "stdout",
     "output_type": "stream",
     "text": [
      "Acc at dev is : 0.788\n",
      "ROC is : 0.7889335348123726,  prec 0.7939970529822538,  recall 0.7889335348123727, f-score 0.7874866256399946\n",
      "Acc at epoch : 16 is : 0.7956903576850891, loss : 17.66502547264099\n"
     ]
    },
    {
     "name": "stderr",
     "output_type": "stream",
     "text": [
      "100%|██████████████████████████████████████████████████████████████████████████████████| 40/40 [00:00<00:00, 50.77it/s]\n",
      "100%|█████████████████████████████████████████████████████████████████████████████████| 14/14 [00:00<00:00, 109.22it/s]\n",
      " 15%|████████████▍                                                                      | 6/40 [00:00<00:00, 52.25it/s]"
     ]
    },
    {
     "name": "stdout",
     "output_type": "stream",
     "text": [
      "Acc at dev is : 0.772\n",
      "ROC is : 0.7711095084369347,  prec 0.7734652402094652,  recall 0.7711095084369348, f-score 0.7709250595727404\n",
      "Acc at epoch : 17 is : 0.7805267572402954, loss : 17.910142093896866\n"
     ]
    },
    {
     "name": "stderr",
     "output_type": "stream",
     "text": [
      "100%|██████████████████████████████████████████████████████████████████████████████████| 40/40 [00:00<00:00, 52.08it/s]\n",
      "100%|█████████████████████████████████████████████████████████████████████████████████| 14/14 [00:00<00:00, 111.73it/s]\n",
      " 15%|████████████▍                                                                      | 6/40 [00:00<00:00, 53.56it/s]"
     ]
    },
    {
     "name": "stdout",
     "output_type": "stream",
     "text": [
      "Acc at dev is : 0.763\n",
      "ROC is : 0.7623348673214735,  prec 0.7707978823974286,  recall 0.7623348673214736, f-score 0.7610780413734173\n",
      "Acc at epoch : 18 is : 0.7928970456123352, loss : 17.538509726524353\n"
     ]
    },
    {
     "name": "stderr",
     "output_type": "stream",
     "text": [
      "100%|██████████████████████████████████████████████████████████████████████████████████| 40/40 [00:00<00:00, 51.77it/s]\n",
      "100%|█████████████████████████████████████████████████████████████████████████████████| 14/14 [00:00<00:00, 111.68it/s]\n",
      " 15%|████████████▍                                                                      | 6/40 [00:00<00:00, 53.42it/s]"
     ]
    },
    {
     "name": "stdout",
     "output_type": "stream",
     "text": [
      "Acc at dev is : 0.780\n",
      "ROC is : 0.7794262426448703,  prec 0.7825311942959001,  recall 0.7794262426448704, f-score 0.7791763327744218\n",
      "Acc at epoch : 19 is : 0.7881085276603699, loss : 17.910138487815857\n"
     ]
    },
    {
     "name": "stderr",
     "output_type": "stream",
     "text": [
      "100%|██████████████████████████████████████████████████████████████████████████████████| 40/40 [00:00<00:00, 53.14it/s]\n",
      "100%|█████████████████████████████████████████████████████████████████████████████████| 14/14 [00:00<00:00, 103.87it/s]\n",
      " 15%|████████████▍                                                                      | 6/40 [00:00<00:00, 53.66it/s]"
     ]
    },
    {
     "name": "stdout",
     "output_type": "stream",
     "text": [
      "Acc at dev is : 0.770\n",
      "ROC is : 0.7703596858758615,  prec 0.7703349282296651,  recall 0.7703596858758615, f-score 0.7703296703296704\n",
      "Acc at epoch : 20 is : 0.7741420865058899, loss : 18.268249064683914\n"
     ]
    },
    {
     "name": "stderr",
     "output_type": "stream",
     "text": [
      "100%|██████████████████████████████████████████████████████████████████████████████████| 40/40 [00:00<00:00, 51.97it/s]\n",
      "100%|█████████████████████████████████████████████████████████████████████████████████| 14/14 [00:00<00:00, 105.89it/s]\n",
      " 15%|████████████▍                                                                      | 6/40 [00:00<00:00, 54.28it/s]"
     ]
    },
    {
     "name": "stdout",
     "output_type": "stream",
     "text": [
      "Acc at dev is : 0.791\n",
      "ROC is : 0.7901126450992513,  prec 0.7944696525159334,  recall 0.7901126450992513, f-score 0.7897598836565973\n",
      "Acc at epoch : 21 is : 0.7865123748779297, loss : 17.486521810293198\n"
     ]
    },
    {
     "name": "stderr",
     "output_type": "stream",
     "text": [
      "100%|██████████████████████████████████████████████████████████████████████████████████| 40/40 [00:00<00:00, 49.05it/s]\n",
      "100%|█████████████████████████████████████████████████████████████████████████████████| 14/14 [00:00<00:00, 102.33it/s]\n",
      " 12%|██████████▍                                                                        | 5/40 [00:00<00:00, 48.52it/s]"
     ]
    },
    {
     "name": "stdout",
     "output_type": "stream",
     "text": [
      "Acc at dev is : 0.786\n",
      "ROC is : 0.7863349131121643,  prec 0.7885696980185168,  recall 0.7863349131121643, f-score 0.7855510191213328\n",
      "Acc at epoch : 22 is : 0.798483669757843, loss : 17.481952399015427\n"
     ]
    },
    {
     "name": "stderr",
     "output_type": "stream",
     "text": [
      "100%|██████████████████████████████████████████████████████████████████████████████████| 40/40 [00:00<00:00, 48.62it/s]\n",
      "100%|█████████████████████████████████████████████████████████████████████████████████| 14/14 [00:00<00:00, 111.21it/s]\n",
      " 15%|████████████▍                                                                      | 6/40 [00:00<00:00, 51.76it/s]"
     ]
    },
    {
     "name": "stdout",
     "output_type": "stream",
     "text": [
      "Acc at dev is : 0.783\n",
      "ROC is : 0.783988140211095,  prec 0.7867206416902157,  recall 0.7839881402110951, f-score 0.7830678955796693\n",
      "Acc at epoch : 23 is : 0.8004788756370544, loss : 18.567659586668015\n"
     ]
    },
    {
     "name": "stderr",
     "output_type": "stream",
     "text": [
      "100%|██████████████████████████████████████████████████████████████████████████████████| 40/40 [00:00<00:00, 52.53it/s]\n",
      "100%|█████████████████████████████████████████████████████████████████████████████████| 14/14 [00:00<00:00, 110.83it/s]\n",
      " 15%|████████████▍                                                                      | 6/40 [00:00<00:00, 53.41it/s]"
     ]
    },
    {
     "name": "stdout",
     "output_type": "stream",
     "text": [
      "Acc at dev is : 0.781\n",
      "ROC is : 0.7813895185108868,  prec 0.782218203737191,  recall 0.7813895185108868, f-score 0.7809873521011832\n",
      "Acc at epoch : 24 is : 0.7829210162162781, loss : 17.87713199853897\n"
     ]
    },
    {
     "name": "stderr",
     "output_type": "stream",
     "text": [
      "100%|██████████████████████████████████████████████████████████████████████████████████| 40/40 [00:00<00:00, 52.39it/s]\n",
      "100%|█████████████████████████████████████████████████████████████████████████████████| 14/14 [00:00<00:00, 108.54it/s]\n",
      " 15%|████████████▍                                                                      | 6/40 [00:00<00:00, 52.75it/s]"
     ]
    },
    {
     "name": "stdout",
     "output_type": "stream",
     "text": [
      "Acc at dev is : 0.767\n",
      "ROC is : 0.7671257183414613,  prec 0.7685784660716033,  recall 0.7671257183414613, f-score 0.766502856766361\n",
      "Acc at epoch : 25 is : 0.7909018397331238, loss : 17.410186052322388\n"
     ]
    },
    {
     "name": "stderr",
     "output_type": "stream",
     "text": [
      "100%|██████████████████████████████████████████████████████████████████████████████████| 40/40 [00:00<00:00, 52.57it/s]\n",
      "100%|█████████████████████████████████████████████████████████████████████████████████| 14/14 [00:00<00:00, 107.17it/s]\n",
      " 12%|██████████▍                                                                        | 5/40 [00:00<00:00, 43.82it/s]"
     ]
    },
    {
     "name": "stdout",
     "output_type": "stream",
     "text": [
      "Acc at dev is : 0.775\n",
      "ROC is : 0.774664010806603,  prec 0.7774398704902867,  recall 0.774664010806603, f-score 0.7744366945090273\n",
      "Acc at epoch : 26 is : 0.7877094745635986, loss : 17.5288308262825\n"
     ]
    },
    {
     "name": "stderr",
     "output_type": "stream",
     "text": [
      "100%|██████████████████████████████████████████████████████████████████████████████████| 40/40 [00:00<00:00, 51.10it/s]\n",
      "100%|█████████████████████████████████████████████████████████████████████████████████| 14/14 [00:00<00:00, 110.59it/s]\n",
      " 15%|████████████▍                                                                      | 6/40 [00:00<00:00, 51.49it/s]"
     ]
    },
    {
     "name": "stdout",
     "output_type": "stream",
     "text": [
      "Acc at dev is : 0.786\n",
      "ROC is : 0.7865180758751745,  prec 0.7911729633830672,  recall 0.7865180758751746, f-score 0.7851470577678232\n",
      "Acc at epoch : 27 is : 0.792497992515564, loss : 17.226829275488853\n"
     ]
    },
    {
     "name": "stderr",
     "output_type": "stream",
     "text": [
      "100%|██████████████████████████████████████████████████████████████████████████████████| 40/40 [00:00<00:00, 51.76it/s]\n",
      "100%|█████████████████████████████████████████████████████████████████████████████████| 14/14 [00:00<00:00, 103.37it/s]\n",
      " 15%|████████████▍                                                                      | 6/40 [00:00<00:00, 51.57it/s]"
     ]
    },
    {
     "name": "stdout",
     "output_type": "stream",
     "text": [
      "Acc at dev is : 0.776\n",
      "ROC is : 0.7769020308171348,  prec 0.7807344347533411,  recall 0.7769020308171348, f-score 0.7756657975435912\n",
      "Acc at epoch : 28 is : 0.7897046804428101, loss : 17.488150984048843\n"
     ]
    },
    {
     "name": "stderr",
     "output_type": "stream",
     "text": [
      "100%|██████████████████████████████████████████████████████████████████████████████████| 40/40 [00:00<00:00, 51.99it/s]\n",
      "100%|█████████████████████████████████████████████████████████████████████████████████| 14/14 [00:00<00:00, 110.48it/s]\n",
      " 15%|████████████▍                                                                      | 6/40 [00:00<00:00, 53.61it/s]"
     ]
    },
    {
     "name": "stdout",
     "output_type": "stream",
     "text": [
      "Acc at dev is : 0.788\n",
      "ROC is : 0.7887961627401149,  prec 0.7918582791033983,  recall 0.788796162740115, f-score 0.7878157375873812\n",
      "Acc at epoch : 29 is : 0.7928970456123352, loss : 17.26947931945324\n"
     ]
    },
    {
     "name": "stderr",
     "output_type": "stream",
     "text": [
      "100%|██████████████████████████████████████████████████████████████████████████████████| 40/40 [00:00<00:00, 53.04it/s]\n",
      "100%|█████████████████████████████████████████████████████████████████████████████████| 14/14 [00:00<00:00, 110.19it/s]\n",
      " 15%|████████████▍                                                                      | 6/40 [00:00<00:00, 52.01it/s]"
     ]
    },
    {
     "name": "stdout",
     "output_type": "stream",
     "text": [
      "Acc at dev is : 0.768\n",
      "ROC is : 0.7691805755889827,  prec 0.7876541397533764,  recall 0.7691805755889827, f-score 0.7644358975848666\n",
      "Acc at epoch : 30 is : 0.7940942049026489, loss : 17.519998013973236\n"
     ]
    },
    {
     "name": "stderr",
     "output_type": "stream",
     "text": [
      "100%|██████████████████████████████████████████████████████████████████████████████████| 40/40 [00:00<00:00, 49.72it/s]\n",
      "100%|█████████████████████████████████████████████████████████████████████████████████| 14/14 [00:00<00:00, 102.49it/s]\n",
      " 15%|████████████▍                                                                      | 6/40 [00:00<00:00, 50.47it/s]"
     ]
    },
    {
     "name": "stdout",
     "output_type": "stream",
     "text": [
      "Acc at dev is : 0.786\n",
      "ROC is : 0.7863807038029168,  prec 0.7891362262559017,  recall 0.7863807038029169, f-score 0.7854649354075183\n",
      "Acc at epoch : 31 is : 0.8000798225402832, loss : 17.05835124850273\n"
     ]
    },
    {
     "name": "stderr",
     "output_type": "stream",
     "text": [
      "100%|██████████████████████████████████████████████████████████████████████████████████| 40/40 [00:00<00:00, 47.45it/s]\n",
      "100%|█████████████████████████████████████████████████████████████████████████████████| 14/14 [00:00<00:00, 102.09it/s]\n",
      " 15%|████████████▍                                                                      | 6/40 [00:00<00:00, 53.26it/s]"
     ]
    },
    {
     "name": "stdout",
     "output_type": "stream",
     "text": [
      "Acc at dev is : 0.783\n",
      "ROC is : 0.784537628500126,  prec 0.7980222178258185,  recall 0.784537628500126, f-score 0.7812312501174692\n",
      "Acc at epoch : 32 is : 0.8016759753227234, loss : 17.631224781274796\n"
     ]
    },
    {
     "name": "stderr",
     "output_type": "stream",
     "text": [
      "100%|██████████████████████████████████████████████████████████████████████████████████| 40/40 [00:00<00:00, 52.20it/s]\n",
      "100%|█████████████████████████████████████████████████████████████████████████████████| 14/14 [00:00<00:00, 109.33it/s]\n",
      " 15%|████████████▍                                                                      | 6/40 [00:00<00:00, 53.29it/s]"
     ]
    },
    {
     "name": "stdout",
     "output_type": "stream",
     "text": [
      "Acc at dev is : 0.789\n",
      "ROC is : 0.7893170318474254,  prec 0.7897150193731802,  recall 0.7893170318474254, f-score 0.7893531244273411\n",
      "Acc at epoch : 33 is : 0.7916999459266663, loss : 17.89725375175476\n"
     ]
    },
    {
     "name": "stderr",
     "output_type": "stream",
     "text": [
      "100%|██████████████████████████████████████████████████████████████████████████████████| 40/40 [00:00<00:00, 52.30it/s]\n",
      "100%|█████████████████████████████████████████████████████████████████████████████████| 14/14 [00:00<00:00, 106.53it/s]\n",
      " 15%|████████████▍                                                                      | 6/40 [00:00<00:00, 53.05it/s]"
     ]
    },
    {
     "name": "stdout",
     "output_type": "stream",
     "text": [
      "Acc at dev is : 0.788\n",
      "ROC is : 0.7888877441216201,  prec 0.7932263555713066,  recall 0.7888877441216201, f-score 0.7876061990535204\n",
      "Acc at epoch : 34 is : 0.798483669757843, loss : 17.31393674015999\n"
     ]
    },
    {
     "name": "stderr",
     "output_type": "stream",
     "text": [
      "100%|██████████████████████████████████████████████████████████████████████████████████| 40/40 [00:00<00:00, 52.52it/s]\n",
      "100%|█████████████████████████████████████████████████████████████████████████████████| 14/14 [00:00<00:00, 110.08it/s]\n",
      " 15%|████████████▍                                                                      | 6/40 [00:00<00:00, 52.78it/s]"
     ]
    },
    {
     "name": "stdout",
     "output_type": "stream",
     "text": [
      "Acc at dev is : 0.787\n",
      "ROC is : 0.7874510611992582,  prec 0.7889129234167893,  recall 0.7874510611992582, f-score 0.7868751969293346\n",
      "Acc at epoch : 35 is : 0.7972865104675293, loss : 17.697351545095444\n"
     ]
    },
    {
     "name": "stderr",
     "output_type": "stream",
     "text": [
      "100%|██████████████████████████████████████████████████████████████████████████████████| 40/40 [00:00<00:00, 51.93it/s]\n",
      "100%|██████████████████████████████████████████████████████████████████████████████████| 14/14 [00:00<00:00, 93.56it/s]\n",
      " 12%|██████████▍                                                                        | 5/40 [00:00<00:00, 46.96it/s]"
     ]
    },
    {
     "name": "stdout",
     "output_type": "stream",
     "text": [
      "Acc at dev is : 0.791\n",
      "ROC is : 0.7906392380429058,  prec 0.790654210957132,  recall 0.7906392380429059, f-score 0.7906455928965463\n",
      "Acc at epoch : 36 is : 0.7889066338539124, loss : 17.4652159512043\n"
     ]
    },
    {
     "name": "stderr",
     "output_type": "stream",
     "text": [
      "100%|██████████████████████████████████████████████████████████████████████████████████| 40/40 [00:00<00:00, 49.87it/s]\n",
      "100%|█████████████████████████████████████████████████████████████████████████████████| 14/14 [00:00<00:00, 110.54it/s]\n",
      " 15%|████████████▍                                                                      | 6/40 [00:00<00:00, 53.66it/s]"
     ]
    },
    {
     "name": "stdout",
     "output_type": "stream",
     "text": [
      "Acc at dev is : 0.781\n",
      "ROC is : 0.7818703207637888,  prec 0.7888286734819558,  recall 0.7818703207637887, f-score 0.7799287949077571\n",
      "Acc at epoch : 37 is : 0.8020750284194946, loss : 16.927776768803596\n"
     ]
    },
    {
     "name": "stderr",
     "output_type": "stream",
     "text": [
      "100%|██████████████████████████████████████████████████████████████████████████████████| 40/40 [00:00<00:00, 52.04it/s]\n",
      "100%|█████████████████████████████████████████████████████████████████████████████████| 14/14 [00:00<00:00, 109.64it/s]\n",
      " 12%|██████████▍                                                                        | 5/40 [00:00<00:00, 49.04it/s]"
     ]
    },
    {
     "name": "stdout",
     "output_type": "stream",
     "text": [
      "Acc at dev is : 0.804\n",
      "ROC is : 0.804,  prec 0.8039590584356109,  recall 0.8039242621974952, f-score 0.8038266284347224\n",
      "Acc at epoch : 38 is : 0.7893056869506836, loss : 17.799737721681595\n"
     ]
    },
    {
     "name": "stderr",
     "output_type": "stream",
     "text": [
      "100%|██████████████████████████████████████████████████████████████████████████████████| 40/40 [00:00<00:00, 52.18it/s]\n",
      "100%|█████████████████████████████████████████████████████████████████████████████████| 14/14 [00:00<00:00, 106.82it/s]\n",
      " 12%|██████████▍                                                                        | 5/40 [00:00<00:00, 49.52it/s]"
     ]
    },
    {
     "name": "stdout",
     "output_type": "stream",
     "text": [
      "Acc at dev is : 0.766\n",
      "ROC is : 0.7644984774595325,  prec 0.7785614390432098,  recall 0.7644984774595325, f-score 0.7622836185535302\n",
      "Acc at epoch : 39 is : 0.7988826632499695, loss : 17.430920243263245\n"
     ]
    },
    {
     "name": "stderr",
     "output_type": "stream",
     "text": [
      "100%|██████████████████████████████████████████████████████████████████████████████████| 40/40 [00:00<00:00, 51.22it/s]\n",
      "100%|█████████████████████████████████████████████████████████████████████████████████| 14/14 [00:00<00:00, 109.90it/s]\n",
      " 15%|████████████▍                                                                      | 6/40 [00:00<00:00, 52.96it/s]"
     ]
    },
    {
     "name": "stdout",
     "output_type": "stream",
     "text": [
      "Acc at dev is : 0.774\n",
      "ROC is : 0.7751047462050965,  prec 0.792135446107839,  recall 0.7751047462050965, f-score 0.7708383189240697\n",
      "Acc at epoch : 40 is : 0.7889066338539124, loss : 17.436749517917633\n"
     ]
    },
    {
     "name": "stderr",
     "output_type": "stream",
     "text": [
      "100%|██████████████████████████████████████████████████████████████████████████████████| 40/40 [00:00<00:00, 52.57it/s]\n",
      "100%|█████████████████████████████████████████████████████████████████████████████████| 14/14 [00:00<00:00, 107.44it/s]\n",
      " 15%|████████████▍                                                                      | 6/40 [00:00<00:00, 51.21it/s]"
     ]
    },
    {
     "name": "stdout",
     "output_type": "stream",
     "text": [
      "Acc at dev is : 0.791\n",
      "ROC is : 0.7912803077134419,  prec 0.7956548514724935,  recall 0.7912803077134418, f-score 0.790006129007718\n",
      "Acc at epoch : 41 is : 0.7964884042739868, loss : 17.20655956864357\n"
     ]
    },
    {
     "name": "stderr",
     "output_type": "stream",
     "text": [
      "100%|██████████████████████████████████████████████████████████████████████████████████| 40/40 [00:00<00:00, 51.85it/s]\n",
      "100%|█████████████████████████████████████████████████████████████████████████████████| 14/14 [00:00<00:00, 100.63it/s]\n",
      " 12%|██████████▍                                                                        | 5/40 [00:00<00:00, 46.93it/s]"
     ]
    },
    {
     "name": "stdout",
     "output_type": "stream",
     "text": [
      "Acc at dev is : 0.780\n",
      "ROC is : 0.7794720333356228,  prec 0.7820290658718606,  recall 0.7794720333356229, f-score 0.7792929292929293\n",
      "Acc at epoch : 42 is : 0.7916999459266663, loss : 17.328710451722145\n"
     ]
    },
    {
     "name": "stderr",
     "output_type": "stream",
     "text": [
      "100%|██████████████████████████████████████████████████████████████████████████████████| 40/40 [00:00<00:00, 47.87it/s]\n",
      "100%|██████████████████████████████████████████████████████████████████████████████████| 14/14 [00:00<00:00, 97.68it/s]\n",
      " 15%|████████████▍                                                                      | 6/40 [00:00<00:00, 53.21it/s]"
     ]
    },
    {
     "name": "stdout",
     "output_type": "stream",
     "text": [
      "Acc at dev is : 0.783\n",
      "ROC is : 0.7839652448657187,  prec 0.7864326830366679,  recall 0.7839652448657188, f-score 0.7831126705854192\n",
      "Acc at epoch : 43 is : 0.7936951518058777, loss : 17.955732107162476\n"
     ]
    },
    {
     "name": "stderr",
     "output_type": "stream",
     "text": [
      "100%|██████████████████████████████████████████████████████████████████████████████████| 40/40 [00:00<00:00, 51.82it/s]\n",
      "100%|█████████████████████████████████████████████████████████████████████████████████| 14/14 [00:00<00:00, 104.05it/s]\n",
      " 15%|████████████▍                                                                      | 6/40 [00:00<00:00, 51.68it/s]"
     ]
    },
    {
     "name": "stdout",
     "output_type": "stream",
     "text": [
      "Acc at dev is : 0.791\n",
      "ROC is : 0.791692423930215,  prec 0.804872722921839,  recall 0.791692423930215, f-score 0.7885859536102958\n",
      "Acc at epoch : 44 is : 0.7845171689987183, loss : 18.16786190867424\n"
     ]
    },
    {
     "name": "stderr",
     "output_type": "stream",
     "text": [
      "100%|██████████████████████████████████████████████████████████████████████████████████| 40/40 [00:00<00:00, 52.02it/s]\n",
      "100%|█████████████████████████████████████████████████████████████████████████████████| 14/14 [00:00<00:00, 108.76it/s]\n",
      " 15%|████████████▍                                                                      | 6/40 [00:00<00:00, 52.15it/s]"
     ]
    },
    {
     "name": "stdout",
     "output_type": "stream",
     "text": [
      "Acc at dev is : 0.788\n",
      "ROC is : 0.7887274767039861,  prec 0.7909809350754232,  recall 0.7887274767039861, f-score 0.7879470971199773\n",
      "Acc at epoch : 45 is : 0.8072625994682312, loss : 16.887636825442314\n"
     ]
    },
    {
     "name": "stderr",
     "output_type": "stream",
     "text": [
      "100%|██████████████████████████████████████████████████████████████████████████████████| 40/40 [00:00<00:00, 44.38it/s]\n",
      "100%|█████████████████████████████████████████████████████████████████████████████████| 14/14 [00:00<00:00, 105.01it/s]\n",
      " 15%|████████████▍                                                                      | 6/40 [00:00<00:00, 49.63it/s]"
     ]
    },
    {
     "name": "stdout",
     "output_type": "stream",
     "text": [
      "Acc at dev is : 0.797\n",
      "ROC is : 0.7963344552052568,  prec 0.7978414948453608,  recall 0.7963344552052567, f-score 0.7963138131682288\n",
      "Acc at epoch : 46 is : 0.8064644932746887, loss : 17.06353983283043\n"
     ]
    },
    {
     "name": "stderr",
     "output_type": "stream",
     "text": [
      "100%|██████████████████████████████████████████████████████████████████████████████████| 40/40 [00:00<00:00, 47.55it/s]\n",
      "100%|██████████████████████████████████████████████████████████████████████████████████| 14/14 [00:00<00:00, 99.24it/s]\n",
      " 15%|████████████▍                                                                      | 6/40 [00:00<00:00, 51.64it/s]"
     ]
    },
    {
     "name": "stdout",
     "output_type": "stream",
     "text": [
      "Acc at dev is : 0.787\n",
      "ROC is : 0.786787096183346,  prec 0.7880533517304817,  recall 0.7867870961833459, f-score 0.7867689203750831\n",
      "Acc at epoch : 47 is : 0.7972865104675293, loss : 17.0616092979908\n"
     ]
    },
    {
     "name": "stderr",
     "output_type": "stream",
     "text": [
      "100%|██████████████████████████████████████████████████████████████████████████████████| 40/40 [00:00<00:00, 49.60it/s]\n",
      "100%|██████████████████████████████████████████████████████████████████████████████████| 14/14 [00:00<00:00, 94.49it/s]\n",
      " 12%|██████████▍                                                                        | 5/40 [00:00<00:00, 48.79it/s]"
     ]
    },
    {
     "name": "stdout",
     "output_type": "stream",
     "text": [
      "Acc at dev is : 0.794\n",
      "ROC is : 0.7940334729949401,  prec 0.7948232323232323,  recall 0.7940334729949401, f-score 0.794059179055312\n",
      "Acc at epoch : 48 is : 0.7968874573707581, loss : 17.344875425100327\n"
     ]
    },
    {
     "name": "stderr",
     "output_type": "stream",
     "text": [
      "100%|██████████████████████████████████████████████████████████████████████████████████| 40/40 [00:00<00:00, 47.41it/s]\n",
      "100%|█████████████████████████████████████████████████████████████████████████████████| 14/14 [00:00<00:00, 106.14it/s]\n",
      " 12%|██████████▍                                                                        | 5/40 [00:00<00:00, 46.72it/s]"
     ]
    },
    {
     "name": "stdout",
     "output_type": "stream",
     "text": [
      "Acc at dev is : 0.762\n",
      "ROC is : 0.7634624630812555,  prec 0.7911698285078093,  recall 0.7634624630812556, f-score 0.756518277520925\n",
      "Acc at epoch : 49 is : 0.7940942049026489, loss : 17.34229451417923\n"
     ]
    },
    {
     "name": "stderr",
     "output_type": "stream",
     "text": [
      "100%|██████████████████████████████████████████████████████████████████████████████████| 40/40 [00:00<00:00, 45.10it/s]\n",
      "100%|█████████████████████████████████████████████████████████████████████████████████| 14/14 [00:00<00:00, 104.49it/s]\n",
      " 15%|████████████▍                                                                      | 6/40 [00:00<00:00, 52.07it/s]"
     ]
    },
    {
     "name": "stdout",
     "output_type": "stream",
     "text": [
      "Acc at dev is : 0.791\n",
      "ROC is : 0.791211621677313,  prec 0.7945992738811458,  recall 0.7912116216773131, f-score 0.7901651570892766\n",
      "Acc at epoch : 50 is : 0.7889066338539124, loss : 18.05835798382759\n"
     ]
    },
    {
     "name": "stderr",
     "output_type": "stream",
     "text": [
      "100%|██████████████████████████████████████████████████████████████████████████████████| 40/40 [00:00<00:00, 50.92it/s]\n",
      "100%|██████████████████████████████████████████████████████████████████████████████████| 14/14 [00:00<00:00, 98.45it/s]\n",
      " 15%|████████████▍                                                                      | 6/40 [00:00<00:00, 49.81it/s]"
     ]
    },
    {
     "name": "stdout",
     "output_type": "stream",
     "text": [
      "Acc at dev is : 0.793\n",
      "ROC is : 0.79289442956247,  prec 0.7933528248344656,  recall 0.79289442956247, f-score 0.7929315417600276\n",
      "Acc at epoch : 51 is : 0.791300892829895, loss : 16.903329074382782\n"
     ]
    },
    {
     "name": "stderr",
     "output_type": "stream",
     "text": [
      "100%|██████████████████████████████████████████████████████████████████████████████████| 40/40 [00:00<00:00, 48.72it/s]\n",
      "100%|█████████████████████████████████████████████████████████████████████████████████| 14/14 [00:00<00:00, 103.22it/s]\n",
      " 12%|██████████▍                                                                        | 5/40 [00:00<00:00, 47.21it/s]"
     ]
    },
    {
     "name": "stdout",
     "output_type": "stream",
     "text": [
      "Acc at dev is : 0.795\n",
      "ROC is : 0.7958822721340751,  prec 0.7979440803693394,  recall 0.7958822721340751, f-score 0.7951729029207592\n",
      "Acc at epoch : 52 is : 0.7964884042739868, loss : 16.942752599716187\n"
     ]
    },
    {
     "name": "stderr",
     "output_type": "stream",
     "text": [
      "100%|██████████████████████████████████████████████████████████████████████████████████| 40/40 [00:00<00:00, 50.16it/s]\n",
      "100%|█████████████████████████████████████████████████████████████████████████████████| 14/14 [00:00<00:00, 101.15it/s]\n",
      " 15%|████████████▍                                                                      | 6/40 [00:00<00:00, 50.72it/s]"
     ]
    },
    {
     "name": "stdout",
     "output_type": "stream",
     "text": [
      "Acc at dev is : 0.782\n",
      "ROC is : 0.7830780502323879,  prec 0.7902892561983471,  recall 0.7830780502323877, f-score 0.7810926376731525\n",
      "Acc at epoch : 53 is : 0.7960894107818604, loss : 16.907826364040375\n"
     ]
    },
    {
     "name": "stderr",
     "output_type": "stream",
     "text": [
      "100%|██████████████████████████████████████████████████████████████████████████████████| 40/40 [00:00<00:00, 49.62it/s]\n",
      "100%|██████████████████████████████████████████████████████████████████████████████████| 14/14 [00:00<00:00, 98.22it/s]\n",
      " 12%|██████████▍                                                                        | 5/40 [00:00<00:00, 42.86it/s]"
     ]
    },
    {
     "name": "stdout",
     "output_type": "stream",
     "text": [
      "Acc at dev is : 0.781\n",
      "ROC is : 0.7819847974906702,  prec 0.7913382101609117,  recall 0.7819847974906702, f-score 0.7795101281968134\n",
      "Acc at epoch : 54 is : 0.7972865104675293, loss : 17.255821138620377\n"
     ]
    },
    {
     "name": "stderr",
     "output_type": "stream",
     "text": [
      "100%|██████████████████████████████████████████████████████████████████████████████████| 40/40 [00:00<00:00, 48.38it/s]\n",
      "100%|██████████████████████████████████████████████████████████████████████████████████| 14/14 [00:00<00:00, 97.56it/s]\n",
      " 12%|██████████▍                                                                        | 5/40 [00:00<00:00, 44.27it/s]"
     ]
    },
    {
     "name": "stdout",
     "output_type": "stream",
     "text": [
      "Acc at dev is : 0.787\n",
      "ROC is : 0.7879089681067839,  prec 0.7961889956661014,  recall 0.7879089681067839, f-score 0.7857459613557174\n",
      "Acc at epoch : 55 is : 0.8008778691291809, loss : 16.976591050624847\n"
     ]
    },
    {
     "name": "stderr",
     "output_type": "stream",
     "text": [
      "100%|██████████████████████████████████████████████████████████████████████████████████| 40/40 [00:00<00:00, 46.94it/s]\n",
      "100%|██████████████████████████████████████████████████████████████████████████████████| 14/14 [00:00<00:00, 97.78it/s]\n",
      " 12%|██████████▍                                                                        | 5/40 [00:00<00:00, 46.32it/s]"
     ]
    },
    {
     "name": "stdout",
     "output_type": "stream",
     "text": [
      "Acc at dev is : 0.786\n",
      "ROC is : 0.7862204363852828,  prec 0.7873933158998822,  recall 0.7862204363852829, f-score 0.7857229794649518\n",
      "Acc at epoch : 56 is : 0.8028731346130371, loss : 17.088862717151642\n"
     ]
    },
    {
     "name": "stderr",
     "output_type": "stream",
     "text": [
      "100%|██████████████████████████████████████████████████████████████████████████████████| 40/40 [00:00<00:00, 50.53it/s]\n",
      "100%|█████████████████████████████████████████████████████████████████████████████████| 14/14 [00:00<00:00, 105.99it/s]\n",
      " 12%|██████████▍                                                                        | 5/40 [00:00<00:00, 45.44it/s]"
     ]
    },
    {
     "name": "stdout",
     "output_type": "stream",
     "text": [
      "Acc at dev is : 0.791\n",
      "ROC is : 0.7906850287336584,  prec 0.7906600733732823,  recall 0.7906850287336584, f-score 0.7906623683054526\n",
      "Acc at epoch : 57 is : 0.7964884042739868, loss : 17.13817811012268\n"
     ]
    },
    {
     "name": "stderr",
     "output_type": "stream",
     "text": [
      "100%|██████████████████████████████████████████████████████████████████████████████████| 40/40 [00:00<00:00, 49.31it/s]\n",
      "100%|█████████████████████████████████████████████████████████████████████████████████| 14/14 [00:00<00:00, 102.12it/s]\n",
      " 12%|██████████▍                                                                        | 5/40 [00:00<00:00, 47.63it/s]"
     ]
    },
    {
     "name": "stdout",
     "output_type": "stream",
     "text": [
      "Acc at dev is : 0.795\n",
      "ROC is : 0.7955388419534308,  prec 0.7955540672814383,  recall 0.7955388419534308, f-score 0.7954542527847532\n",
      "Acc at epoch : 58 is : 0.8000798225402832, loss : 16.913078770041466\n"
     ]
    },
    {
     "name": "stderr",
     "output_type": "stream",
     "text": [
      "100%|██████████████████████████████████████████████████████████████████████████████████| 40/40 [00:00<00:00, 49.38it/s]\n",
      "100%|█████████████████████████████████████████████████████████████████████████████████| 14/14 [00:00<00:00, 105.09it/s]\n",
      " 12%|██████████▍                                                                        | 5/40 [00:00<00:00, 46.74it/s]"
     ]
    },
    {
     "name": "stdout",
     "output_type": "stream",
     "text": [
      "Acc at dev is : 0.787\n",
      "ROC is : 0.7875655379261396,  prec 0.7901966220743514,  recall 0.7875655379261396, f-score 0.7866857798165137\n",
      "Acc at epoch : 59 is : 0.7897046804428101, loss : 17.73595467209816\n"
     ]
    },
    {
     "name": "stderr",
     "output_type": "stream",
     "text": [
      "100%|██████████████████████████████████████████████████████████████████████████████████| 40/40 [00:00<00:00, 49.43it/s]\n",
      "100%|█████████████████████████████████████████████████████████████████████████████████| 14/14 [00:00<00:00, 100.60it/s]\n",
      " 15%|████████████▍                                                                      | 6/40 [00:00<00:00, 50.78it/s]"
     ]
    },
    {
     "name": "stdout",
     "output_type": "stream",
     "text": [
      "Acc at dev is : 0.792\n",
      "ROC is : 0.7924422464912882,  prec 0.7963229323744345,  recall 0.7924422464912884, f-score 0.7912878787878788\n",
      "Acc at epoch : 60 is : 0.7944931983947754, loss : 17.11755681037903\n"
     ]
    },
    {
     "name": "stderr",
     "output_type": "stream",
     "text": [
      "100%|██████████████████████████████████████████████████████████████████████████████████| 40/40 [00:00<00:00, 51.12it/s]\n",
      "100%|██████████████████████████████████████████████████████████████████████████████████| 14/14 [00:00<00:00, 97.41it/s]\n",
      " 15%|████████████▍                                                                      | 6/40 [00:00<00:00, 51.37it/s]"
     ]
    },
    {
     "name": "stdout",
     "output_type": "stream",
     "text": [
      "Acc at dev is : 0.785\n",
      "ROC is : 0.7851729743343178,  prec 0.7877821676948314,  recall 0.7851729743343179, f-score 0.784288990825688\n",
      "Acc at epoch : 61 is : 0.7988826632499695, loss : 17.118253886699677\n"
     ]
    },
    {
     "name": "stderr",
     "output_type": "stream",
     "text": [
      "100%|██████████████████████████████████████████████████████████████████████████████████| 40/40 [00:00<00:00, 49.89it/s]\n",
      "100%|█████████████████████████████████████████████████████████████████████████████████| 14/14 [00:00<00:00, 101.34it/s]\n",
      " 12%|██████████▍                                                                        | 5/40 [00:00<00:00, 47.18it/s]"
     ]
    },
    {
     "name": "stdout",
     "output_type": "stream",
     "text": [
      "Acc at dev is : 0.785\n",
      "ROC is : 0.7851500789889415,  prec 0.7875,  recall 0.7851500789889416, f-score 0.78433227276636\n",
      "Acc at epoch : 62 is : 0.7944931983947754, loss : 17.304954081773758\n"
     ]
    },
    {
     "name": "stderr",
     "output_type": "stream",
     "text": [
      "100%|██████████████████████████████████████████████████████████████████████████████████| 40/40 [00:00<00:00, 49.18it/s]\n",
      "100%|█████████████████████████████████████████████████████████████████████████████████| 14/14 [00:00<00:00, 104.54it/s]\n",
      " 15%|████████████▍                                                                      | 6/40 [00:00<00:00, 50.83it/s]"
     ]
    },
    {
     "name": "stdout",
     "output_type": "stream",
     "text": [
      "Acc at dev is : 0.797\n",
      "ROC is : 0.7968839434942875,  prec 0.7974082568807339,  recall 0.7968839434942876, f-score 0.7965936739659367\n",
      "Acc at epoch : 63 is : 0.8036711812019348, loss : 16.801137879490852\n"
     ]
    },
    {
     "name": "stderr",
     "output_type": "stream",
     "text": [
      "100%|██████████████████████████████████████████████████████████████████████████████████| 40/40 [00:00<00:00, 51.14it/s]\n",
      "100%|██████████████████████████████████████████████████████████████████████████████████| 14/14 [00:00<00:00, 99.17it/s]\n",
      " 12%|██████████▍                                                                        | 5/40 [00:00<00:00, 48.26it/s]"
     ]
    },
    {
     "name": "stdout",
     "output_type": "stream",
     "text": [
      "Acc at dev is : 0.788\n",
      "ROC is : 0.7887274767039861,  prec 0.7909809350754232,  recall 0.7887274767039861, f-score 0.7879470971199773\n",
      "Acc at epoch : 64 is : 0.8008778691291809, loss : 16.984724640846252\n"
     ]
    },
    {
     "name": "stderr",
     "output_type": "stream",
     "text": [
      "100%|██████████████████████████████████████████████████████████████████████████████████| 40/40 [00:00<00:00, 49.39it/s]\n",
      "100%|█████████████████████████████████████████████████████████████████████████████████| 14/14 [00:00<00:00, 106.27it/s]\n",
      " 12%|██████████▍                                                                        | 5/40 [00:00<00:00, 47.48it/s]"
     ]
    },
    {
     "name": "stdout",
     "output_type": "stream",
     "text": [
      "Acc at dev is : 0.789\n",
      "ROC is : 0.7898665201364562,  prec 0.7915486470926886,  recall 0.7898665201364563, f-score 0.7892372570590392\n",
      "Acc at epoch : 65 is : 0.7992817163467407, loss : 16.929203867912292\n"
     ]
    },
    {
     "name": "stderr",
     "output_type": "stream",
     "text": [
      "100%|██████████████████████████████████████████████████████████████████████████████████| 40/40 [00:00<00:00, 49.13it/s]\n",
      "100%|█████████████████████████████████████████████████████████████████████████████████| 14/14 [00:00<00:00, 104.01it/s]\n",
      " 15%|████████████▍                                                                      | 6/40 [00:00<00:00, 50.44it/s]"
     ]
    },
    {
     "name": "stdout",
     "output_type": "stream",
     "text": [
      "Acc at dev is : 0.788\n",
      "ROC is : 0.7888419534308675,  prec 0.7925136944613512,  recall 0.7888419534308675, f-score 0.7877158929024872\n",
      "Acc at epoch : 66 is : 0.8008778691291809, loss : 16.698145240545273\n"
     ]
    },
    {
     "name": "stderr",
     "output_type": "stream",
     "text": [
      "100%|██████████████████████████████████████████████████████████████████████████████████| 40/40 [00:00<00:00, 50.13it/s]\n",
      "100%|█████████████████████████████████████████████████████████████████████████████████| 14/14 [00:00<00:00, 105.52it/s]\n",
      " 12%|██████████▍                                                                        | 5/40 [00:00<00:00, 49.36it/s]"
     ]
    },
    {
     "name": "stdout",
     "output_type": "stream",
     "text": [
      "Acc at dev is : 0.793\n",
      "ROC is : 0.7931004876708565,  prec 0.7930753249429097,  recall 0.7931004876708565, f-score 0.793059536090956\n",
      "Acc at epoch : 67 is : 0.8064644932746887, loss : 17.03027629852295\n"
     ]
    },
    {
     "name": "stderr",
     "output_type": "stream",
     "text": [
      "100%|██████████████████████████████████████████████████████████████████████████████████| 40/40 [00:00<00:00, 48.51it/s]\n",
      "100%|█████████████████████████████████████████████████████████████████████████████████| 14/14 [00:00<00:00, 105.68it/s]\n",
      " 15%|████████████▍                                                                      | 6/40 [00:00<00:00, 50.76it/s]"
     ]
    },
    {
     "name": "stdout",
     "output_type": "stream",
     "text": [
      "Acc at dev is : 0.788\n",
      "ROC is : 0.7888190580854911,  prec 0.7921788777005079,  recall 0.7888190580854912, f-score 0.7877670445988684\n",
      "Acc at epoch : 68 is : 0.8072625994682312, loss : 16.9593346118927\n"
     ]
    },
    {
     "name": "stderr",
     "output_type": "stream",
     "text": [
      "100%|██████████████████████████████████████████████████████████████████████████████████| 40/40 [00:00<00:00, 49.32it/s]\n",
      "100%|█████████████████████████████████████████████████████████████████████████████████| 14/14 [00:00<00:00, 105.37it/s]\n",
      " 12%|██████████▍                                                                        | 5/40 [00:00<00:00, 47.16it/s]"
     ]
    },
    {
     "name": "stdout",
     "output_type": "stream",
     "text": [
      "Acc at dev is : 0.782\n",
      "ROC is : 0.7831238409231404,  prec 0.7912662521198417,  recall 0.7831238409231402, f-score 0.7809312638580932\n",
      "Acc at epoch : 69 is : 0.7940942049026489, loss : 17.4528107047081\n"
     ]
    },
    {
     "name": "stderr",
     "output_type": "stream",
     "text": [
      "100%|██████████████████████████████████████████████████████████████████████████████████| 40/40 [00:00<00:00, 48.65it/s]\n",
      "100%|██████████████████████████████████████████████████████████████████████████████████| 14/14 [00:00<00:00, 90.91it/s]\n",
      " 12%|██████████▍                                                                        | 5/40 [00:00<00:00, 46.26it/s]"
     ]
    },
    {
     "name": "stdout",
     "output_type": "stream",
     "text": [
      "Acc at dev is : 0.793\n",
      "ROC is : 0.7935354992330059,  prec 0.7960860955064288,  recall 0.7935354992330059, f-score 0.792698850891036\n",
      "Acc at epoch : 70 is : 0.8000798225402832, loss : 17.040783435106277\n"
     ]
    },
    {
     "name": "stderr",
     "output_type": "stream",
     "text": [
      "100%|██████████████████████████████████████████████████████████████████████████████████| 40/40 [00:00<00:00, 49.52it/s]\n",
      "100%|█████████████████████████████████████████████████████████████████████████████████| 14/14 [00:00<00:00, 105.89it/s]\n",
      " 12%|██████████▍                                                                        | 5/40 [00:00<00:00, 48.52it/s]"
     ]
    },
    {
     "name": "stdout",
     "output_type": "stream",
     "text": [
      "Acc at dev is : 0.789\n",
      "ROC is : 0.7889278109760286,  prec 0.7930950390189521,  recall 0.7889278109760286, f-score 0.7885916261961551\n",
      "Acc at epoch : 71 is : 0.8032721281051636, loss : 17.159416556358337\n"
     ]
    },
    {
     "name": "stderr",
     "output_type": "stream",
     "text": [
      "100%|██████████████████████████████████████████████████████████████████████████████████| 40/40 [00:00<00:00, 49.55it/s]\n",
      "100%|█████████████████████████████████████████████████████████████████████████████████| 14/14 [00:00<00:00, 103.70it/s]\n",
      " 15%|████████████▍                                                                      | 6/40 [00:00<00:00, 50.57it/s]"
     ]
    },
    {
     "name": "stdout",
     "output_type": "stream",
     "text": [
      "Acc at dev is : 0.800\n",
      "ROC is : 0.7999576436110539,  prec 0.8011868157130952,  recall 0.7999576436110538, f-score 0.7999641800454196\n",
      "Acc at epoch : 72 is : 0.791300892829895, loss : 16.923046603798866\n"
     ]
    },
    {
     "name": "stderr",
     "output_type": "stream",
     "text": [
      "100%|██████████████████████████████████████████████████████████████████████████████████| 40/40 [00:00<00:00, 50.16it/s]\n",
      "100%|█████████████████████████████████████████████████████████████████████████████████| 14/14 [00:00<00:00, 100.25it/s]\n",
      " 12%|██████████▍                                                                        | 5/40 [00:00<00:00, 48.94it/s]"
     ]
    },
    {
     "name": "stdout",
     "output_type": "stream",
     "text": [
      "Acc at dev is : 0.779\n",
      "ROC is : 0.7777835016141219,  prec 0.789158995441952,  recall 0.7777835016141219, f-score 0.7762853179465001\n",
      "Acc at epoch : 73 is : 0.805267333984375, loss : 17.208660900592804\n"
     ]
    },
    {
     "name": "stderr",
     "output_type": "stream",
     "text": [
      "100%|██████████████████████████████████████████████████████████████████████████████████| 40/40 [00:00<00:00, 49.46it/s]\n",
      "100%|█████████████████████████████████████████████████████████████████████████████████| 14/14 [00:00<00:00, 102.20it/s]\n",
      " 12%|██████████▍                                                                        | 5/40 [00:00<00:00, 47.99it/s]"
     ]
    },
    {
     "name": "stdout",
     "output_type": "stream",
     "text": [
      "Acc at dev is : 0.793\n",
      "ROC is : 0.7936728713052636,  prec 0.7980833473736804,  recall 0.7936728713052636, f-score 0.7924060589619155\n",
      "Acc at epoch : 74 is : 0.7920989394187927, loss : 17.263978898525238\n"
     ]
    },
    {
     "name": "stderr",
     "output_type": "stream",
     "text": [
      "100%|██████████████████████████████████████████████████████████████████████████████████| 40/40 [00:00<00:00, 46.28it/s]\n",
      "100%|██████████████████████████████████████████████████████████████████████████████████| 14/14 [00:00<00:00, 93.08it/s]\n",
      " 12%|██████████▍                                                                        | 5/40 [00:00<00:00, 41.60it/s]"
     ]
    },
    {
     "name": "stdout",
     "output_type": "stream",
     "text": [
      "Acc at dev is : 0.792\n",
      "ROC is : 0.7921446070013967,  prec 0.7929292929292929,  recall 0.7921446070013967, f-score 0.7917694954850754\n",
      "Acc at epoch : 75 is : 0.7968874573707581, loss : 17.181195080280304\n"
     ]
    },
    {
     "name": "stderr",
     "output_type": "stream",
     "text": [
      "100%|██████████████████████████████████████████████████████████████████████████████████| 40/40 [00:00<00:00, 48.44it/s]\n",
      "100%|██████████████████████████████████████████████████████████████████████████████████| 14/14 [00:00<00:00, 93.90it/s]\n",
      " 12%|██████████▍                                                                        | 5/40 [00:00<00:00, 42.77it/s]"
     ]
    },
    {
     "name": "stdout",
     "output_type": "stream",
     "text": [
      "Acc at dev is : 0.791\n",
      "ROC is : 0.7907537147697873,  prec 0.7907686935815317,  recall 0.7907537147697873, f-score 0.7906695569434607\n",
      "Acc at epoch : 76 is : 0.7956903576850891, loss : 17.005304157733917\n"
     ]
    },
    {
     "name": "stderr",
     "output_type": "stream",
     "text": [
      "100%|██████████████████████████████████████████████████████████████████████████████████| 40/40 [00:01<00:00, 37.39it/s]\n",
      "100%|██████████████████████████████████████████████████████████████████████████████████| 14/14 [00:00<00:00, 69.94it/s]\n",
      " 10%|████████▎                                                                          | 4/40 [00:00<00:01, 31.19it/s]"
     ]
    },
    {
     "name": "stdout",
     "output_type": "stream",
     "text": [
      "Acc at dev is : 0.806\n",
      "ROC is : 0.806,  prec 0.8069954128440366,  recall 0.8064541978615747, f-score 0.8061657363675396\n",
      "Acc at epoch : 77 is : 0.7988826632499695, loss : 16.842712998390198\n"
     ]
    },
    {
     "name": "stderr",
     "output_type": "stream",
     "text": [
      "100%|██████████████████████████████████████████████████████████████████████████████████| 40/40 [00:01<00:00, 27.26it/s]\n",
      "100%|██████████████████████████████████████████████████████████████████████████████████| 14/14 [00:00<00:00, 31.56it/s]\n",
      "  5%|████▏                                                                              | 2/40 [00:00<00:02, 17.07it/s]"
     ]
    },
    {
     "name": "stdout",
     "output_type": "stream",
     "text": [
      "Acc at dev is : 0.782\n",
      "ROC is : 0.7829635735055064,  prec 0.7881087255519035,  recall 0.7829635735055063, f-score 0.7814510939510939\n",
      "Acc at epoch : 78 is : 0.7964884042739868, loss : 16.758548200130463\n"
     ]
    },
    {
     "name": "stderr",
     "output_type": "stream",
     "text": [
      "100%|██████████████████████████████████████████████████████████████████████████████████| 40/40 [00:02<00:00, 15.84it/s]\n",
      "100%|██████████████████████████████████████████████████████████████████████████████████| 14/14 [00:00<00:00, 23.23it/s]\n",
      "  5%|████▏                                                                              | 2/40 [00:00<00:02, 17.39it/s]"
     ]
    },
    {
     "name": "stdout",
     "output_type": "stream",
     "text": [
      "Acc at dev is : 0.786\n",
      "ROC is : 0.7862662270760353,  prec 0.7878230693530843,  recall 0.7862662270760354, f-score 0.785661596723993\n",
      "Acc at epoch : 79 is : 0.7936951518058777, loss : 17.399659365415573\n"
     ]
    },
    {
     "name": "stderr",
     "output_type": "stream",
     "text": [
      "100%|██████████████████████████████████████████████████████████████████████████████████| 40/40 [00:02<00:00, 15.60it/s]\n",
      "100%|██████████████████████████████████████████████████████████████████████████████████| 14/14 [00:00<00:00, 35.78it/s]\n",
      "  5%|████▏                                                                              | 2/40 [00:00<00:02, 16.94it/s]"
     ]
    },
    {
     "name": "stdout",
     "output_type": "stream",
     "text": [
      "Acc at dev is : 0.789\n",
      "ROC is : 0.7896604620280697,  prec 0.7899592042537587,  recall 0.7896604620280697, f-score 0.7894435572041054\n",
      "Acc at epoch : 80 is : 0.8028731346130371, loss : 16.829650163650513\n"
     ]
    },
    {
     "name": "stderr",
     "output_type": "stream",
     "text": [
      "100%|██████████████████████████████████████████████████████████████████████████████████| 40/40 [00:56<00:00,  1.42s/it]\n",
      "100%|██████████████████████████████████████████████████████████████████████████████████| 14/14 [00:00<00:00, 38.36it/s]\n",
      "  5%|████▏                                                                              | 2/40 [00:00<00:03, 11.60it/s]"
     ]
    },
    {
     "name": "stdout",
     "output_type": "stream",
     "text": [
      "Acc at dev is : 0.782\n",
      "ROC is : 0.7831467362685166,  prec 0.791777751563053,  recall 0.7831467362685166, f-score 0.7808466998525073\n",
      "Acc at epoch : 81 is : 0.799680769443512, loss : 16.96919694542885\n"
     ]
    },
    {
     "name": "stderr",
     "output_type": "stream",
     "text": [
      "100%|██████████████████████████████████████████████████████████████████████████████████| 40/40 [00:03<00:00, 13.22it/s]\n",
      "100%|██████████████████████████████████████████████████████████████████████████████████| 14/14 [00:00<00:00, 45.62it/s]\n",
      "  5%|████▏                                                                              | 2/40 [00:00<00:03, 12.43it/s]"
     ]
    },
    {
     "name": "stdout",
     "output_type": "stream",
     "text": [
      "Acc at dev is : 0.779\n",
      "ROC is : 0.7795006525173432,  prec 0.786844655916821,  recall 0.7795006525173432, f-score 0.7774442495398797\n",
      "Acc at epoch : 82 is : 0.7928970456123352, loss : 17.057381570339203\n"
     ]
    },
    {
     "name": "stderr",
     "output_type": "stream",
     "text": [
      "100%|██████████████████████████████████████████████████████████████████████████████████| 40/40 [00:02<00:00, 13.63it/s]\n",
      "100%|██████████████████████████████████████████████████████████████████████████████████| 14/14 [00:00<00:00, 57.33it/s]\n",
      "  5%|████▏                                                                              | 2/40 [00:00<00:02, 13.17it/s]"
     ]
    },
    {
     "name": "stdout",
     "output_type": "stream",
     "text": [
      "Acc at dev is : 0.783\n",
      "ROC is : 0.7839423495203425,  prec 0.7861584609616106,  recall 0.7839423495203426, f-score 0.7831549411226887\n",
      "Acc at epoch : 83 is : 0.8012769222259521, loss : 16.735934674739838\n"
     ]
    },
    {
     "name": "stderr",
     "output_type": "stream",
     "text": [
      "100%|██████████████████████████████████████████████████████████████████████████████████| 40/40 [00:02<00:00, 13.79it/s]\n",
      "100%|██████████████████████████████████████████████████████████████████████████████████| 14/14 [00:00<00:00, 51.20it/s]\n",
      "  5%|████▏                                                                              | 2/40 [00:00<00:02, 13.84it/s]"
     ]
    },
    {
     "name": "stdout",
     "output_type": "stream",
     "text": [
      "Acc at dev is : 0.799\n",
      "ROC is : 0.7991391350138517,  prec 0.7991733834035537,  recall 0.7991391350138517, f-score 0.7990419120550815\n",
      "Acc at epoch : 84 is : 0.8020750284194946, loss : 17.205105543136597\n"
     ]
    },
    {
     "name": "stderr",
     "output_type": "stream",
     "text": [
      "100%|██████████████████████████████████████████████████████████████████████████████████| 40/40 [00:02<00:00, 13.89it/s]\n",
      "100%|██████████████████████████████████████████████████████████████████████████████████| 14/14 [00:00<00:00, 58.87it/s]\n",
      "  5%|████▏                                                                              | 2/40 [00:00<00:02, 13.79it/s]"
     ]
    },
    {
     "name": "stdout",
     "output_type": "stream",
     "text": [
      "Acc at dev is : 0.791\n",
      "ROC is : 0.7910513542596791,  prec 0.7926342201734546,  recall 0.7910513542596791, f-score 0.7904512817134011\n",
      "Acc at epoch : 85 is : 0.8060654401779175, loss : 17.150699704885483\n"
     ]
    },
    {
     "name": "stderr",
     "output_type": "stream",
     "text": [
      "100%|██████████████████████████████████████████████████████████████████████████████████| 40/40 [00:02<00:00, 13.64it/s]\n",
      "100%|██████████████████████████████████████████████████████████████████████████████████| 14/14 [00:00<00:00, 48.89it/s]\n",
      "  5%|████▏                                                                              | 2/40 [00:00<00:03, 12.50it/s]"
     ]
    },
    {
     "name": "stdout",
     "output_type": "stream",
     "text": [
      "Acc at dev is : 0.789\n",
      "ROC is : 0.7899581015179614,  prec 0.7926110764538712,  recall 0.7899581015179613, f-score 0.7890825688073395\n",
      "Acc at epoch : 86 is : 0.7940942049026489, loss : 17.0829921066761\n"
     ]
    },
    {
     "name": "stderr",
     "output_type": "stream",
     "text": [
      "100%|██████████████████████████████████████████████████████████████████████████████████| 40/40 [00:03<00:00, 12.76it/s]\n",
      "100%|██████████████████████████████████████████████████████████████████████████████████| 14/14 [00:00<00:00, 43.57it/s]\n",
      "  5%|████▏                                                                              | 2/40 [00:00<00:03, 12.27it/s]"
     ]
    },
    {
     "name": "stdout",
     "output_type": "stream",
     "text": [
      "Acc at dev is : 0.787\n",
      "ROC is : 0.7880463401790416,  prec 0.7995476190476191,  recall 0.7880463401790416, f-score 0.7852115725478196\n",
      "Acc at epoch : 87 is : 0.8024740815162659, loss : 16.708431661128998\n"
     ]
    },
    {
     "name": "stderr",
     "output_type": "stream",
     "text": [
      "100%|██████████████████████████████████████████████████████████████████████████████████| 40/40 [00:03<00:00, 12.61it/s]\n",
      "100%|██████████████████████████████████████████████████████████████████████████████████| 14/14 [00:00<00:00, 44.49it/s]\n",
      "  5%|████▏                                                                              | 2/40 [00:00<00:02, 12.88it/s]"
     ]
    },
    {
     "name": "stdout",
     "output_type": "stream",
     "text": [
      "Acc at dev is : 0.787\n",
      "ROC is : 0.7874968518900108,  prec 0.7893851401179941,  recall 0.7874968518900107, f-score 0.786806801185107\n",
      "Acc at epoch : 88 is : 0.8056663870811462, loss : 16.78102833032608\n"
     ]
    },
    {
     "name": "stderr",
     "output_type": "stream",
     "text": [
      "100%|██████████████████████████████████████████████████████████████████████████████████| 40/40 [00:03<00:00, 12.90it/s]\n",
      "100%|██████████████████████████████████████████████████████████████████████████████████| 14/14 [00:00<00:00, 48.29it/s]\n",
      "  5%|████▏                                                                              | 2/40 [00:00<00:02, 13.06it/s]"
     ]
    },
    {
     "name": "stdout",
     "output_type": "stream",
     "text": [
      "Acc at dev is : 0.794\n",
      "ROC is : 0.7941708450671978,  prec 0.7943123511086677,  recall 0.7941708450671978, f-score 0.7942006583655361\n",
      "Acc at epoch : 89 is : 0.80686354637146, loss : 16.793434888124466\n"
     ]
    },
    {
     "name": "stderr",
     "output_type": "stream",
     "text": [
      "100%|██████████████████████████████████████████████████████████████████████████████████| 40/40 [00:03<00:00, 12.79it/s]\n",
      "100%|██████████████████████████████████████████████████████████████████████████████████| 14/14 [00:00<00:00, 46.87it/s]\n",
      "  5%|████▏                                                                              | 2/40 [00:00<00:02, 12.93it/s]"
     ]
    },
    {
     "name": "stdout",
     "output_type": "stream",
     "text": [
      "Acc at dev is : 0.791\n",
      "ROC is : 0.7907766101151636,  prec 0.7908315442965508,  recall 0.7907766101151636, f-score 0.7906671607856491\n",
      "Acc at epoch : 90 is : 0.7968874573707581, loss : 16.93519502878189\n"
     ]
    },
    {
     "name": "stderr",
     "output_type": "stream",
     "text": [
      "100%|██████████████████████████████████████████████████████████████████████████████████| 40/40 [00:03<00:00, 13.08it/s]\n",
      "100%|██████████████████████████████████████████████████████████████████████████████████| 14/14 [00:00<00:00, 47.79it/s]\n",
      "  5%|████▏                                                                              | 2/40 [00:00<00:02, 13.14it/s]"
     ]
    },
    {
     "name": "stdout",
     "output_type": "stream",
     "text": [
      "Acc at dev is : 0.794\n",
      "ROC is : 0.7946287519747236,  prec 0.796127117083947,  recall 0.7946287519747235, f-score 0.794059179055312\n",
      "Acc at epoch : 91 is : 0.8044692873954773, loss : 16.78914400935173\n"
     ]
    },
    {
     "name": "stderr",
     "output_type": "stream",
     "text": [
      "100%|██████████████████████████████████████████████████████████████████████████████████| 40/40 [00:03<00:00, 13.13it/s]\n",
      "100%|██████████████████████████████████████████████████████████████████████████████████| 14/14 [00:00<00:00, 49.63it/s]\n",
      "  5%|████▏                                                                              | 2/40 [00:00<00:02, 13.29it/s]"
     ]
    },
    {
     "name": "stdout",
     "output_type": "stream",
     "text": [
      "Acc at dev is : 0.778\n",
      "ROC is : 0.7787050392655173,  prec 0.7963242453748782,  recall 0.7787050392655173, f-score 0.7744120053620236\n",
      "Acc at epoch : 92 is : 0.8016759753227234, loss : 16.69852304458618\n"
     ]
    },
    {
     "name": "stderr",
     "output_type": "stream",
     "text": [
      "100%|██████████████████████████████████████████████████████████████████████████████████| 40/40 [00:03<00:00, 13.05it/s]\n",
      "100%|██████████████████████████████████████████████████████████████████████████████████| 14/14 [00:00<00:00, 49.21it/s]\n",
      "  5%|████▏                                                                              | 2/40 [00:00<00:02, 13.15it/s]"
     ]
    },
    {
     "name": "stdout",
     "output_type": "stream",
     "text": [
      "Acc at dev is : 0.786\n",
      "ROC is : 0.7864264944936694,  prec 0.7897584815198698,  recall 0.7864264944936694, f-score 0.78536893210846\n",
      "Acc at epoch : 93 is : 0.8064644932746887, loss : 16.438664808869362\n"
     ]
    },
    {
     "name": "stderr",
     "output_type": "stream",
     "text": [
      "100%|██████████████████████████████████████████████████████████████████████████████████| 40/40 [00:03<00:00, 13.04it/s]\n",
      "100%|██████████████████████████████████████████████████████████████████████████████████| 14/14 [00:00<00:00, 48.96it/s]\n",
      "  5%|████▏                                                                              | 2/40 [00:00<00:02, 13.22it/s]"
     ]
    },
    {
     "name": "stdout",
     "output_type": "stream",
     "text": [
      "Acc at dev is : 0.782\n",
      "ROC is : 0.7816814341644345,  prec 0.7868032729561507,  recall 0.7816814341644344, f-score 0.7811694587628866\n",
      "Acc at epoch : 94 is : 0.7956903576850891, loss : 17.026126220822334\n"
     ]
    },
    {
     "name": "stderr",
     "output_type": "stream",
     "text": [
      "100%|██████████████████████████████████████████████████████████████████████████████████| 40/40 [00:03<00:00, 13.03it/s]\n",
      "100%|██████████████████████████████████████████████████████████████████████████████████| 14/14 [00:00<00:00, 47.87it/s]\n",
      "  5%|████▏                                                                              | 2/40 [00:00<00:02, 13.22it/s]"
     ]
    },
    {
     "name": "stdout",
     "output_type": "stream",
     "text": [
      "Acc at dev is : 0.799\n",
      "ROC is : 0.7992994024314857,  prec 0.799958697597577,  recall 0.7992994024314857, f-score 0.7989694263139814\n",
      "Acc at epoch : 95 is : 0.8000798225402832, loss : 16.92479658126831\n"
     ]
    },
    {
     "name": "stderr",
     "output_type": "stream",
     "text": [
      "100%|██████████████████████████████████████████████████████████████████████████████████| 40/40 [00:03<00:00, 12.88it/s]\n",
      "100%|██████████████████████████████████████████████████████████████████████████████████| 14/14 [00:00<00:00, 47.54it/s]\n",
      "  5%|████▏                                                                              | 2/40 [00:00<00:02, 13.06it/s]"
     ]
    },
    {
     "name": "stdout",
     "output_type": "stream",
     "text": [
      "Acc at dev is : 0.797\n",
      "ROC is : 0.7970213155665452,  prec 0.7985318483063328,  recall 0.7970213155665453, f-score 0.7964538397639713\n",
      "Acc at epoch : 96 is : 0.799680769443512, loss : 17.20392844080925\n"
     ]
    },
    {
     "name": "stderr",
     "output_type": "stream",
     "text": [
      "100%|██████████████████████████████████████████████████████████████████████████████████| 40/40 [00:03<00:00, 12.73it/s]\n",
      "100%|██████████████████████████████████████████████████████████████████████████████████| 14/14 [00:00<00:00, 45.97it/s]\n",
      "  5%|████▏                                                                              | 2/40 [00:00<00:03, 12.16it/s]"
     ]
    },
    {
     "name": "stdout",
     "output_type": "stream",
     "text": [
      "Acc at dev is : 0.787\n",
      "ROC is : 0.7870389449824852,  prec 0.7870718080234476,  recall 0.7870389449824851, f-score 0.7870508703541519\n",
      "Acc at epoch : 97 is : 0.8020750284194946, loss : 16.8449427485466\n"
     ]
    },
    {
     "name": "stderr",
     "output_type": "stream",
     "text": [
      "100%|██████████████████████████████████████████████████████████████████████████████████| 40/40 [00:03<00:00, 12.58it/s]\n",
      "100%|██████████████████████████████████████████████████████████████████████████████████| 14/14 [00:00<00:00, 46.15it/s]\n",
      "  5%|████▏                                                                              | 2/40 [00:00<00:02, 12.93it/s]"
     ]
    },
    {
     "name": "stdout",
     "output_type": "stream",
     "text": [
      "Acc at dev is : 0.775\n",
      "ROC is : 0.7761522082560616,  prec 0.7889328063241107,  recall 0.7761522082560616, f-score 0.7728260869565218\n",
      "Acc at epoch : 98 is : 0.799680769443512, loss : 16.927746266126633\n"
     ]
    },
    {
     "name": "stderr",
     "output_type": "stream",
     "text": [
      "100%|██████████████████████████████████████████████████████████████████████████████████| 40/40 [00:03<00:00, 10.62it/s]\n",
      "100%|██████████████████████████████████████████████████████████████████████████████████| 14/14 [00:00<00:00, 38.23it/s]\n",
      "  5%|████▏                                                                              | 2/40 [00:00<00:03, 12.42it/s]"
     ]
    },
    {
     "name": "stdout",
     "output_type": "stream",
     "text": [
      "Acc at dev is : 0.793\n",
      "ROC is : 0.793787348032145,  prec 0.8001526289012473,  recall 0.7937873480321451, f-score 0.7920957037117964\n",
      "Acc at epoch : 99 is : 0.7956903576850891, loss : 16.82737848162651\n"
     ]
    },
    {
     "name": "stderr",
     "output_type": "stream",
     "text": [
      "100%|██████████████████████████████████████████████████████████████████████████████████| 40/40 [00:03<00:00, 12.74it/s]\n",
      "100%|██████████████████████████████████████████████████████████████████████████████████| 14/14 [00:00<00:00, 49.67it/s]\n",
      "  5%|████▏                                                                              | 2/40 [00:00<00:02, 13.15it/s]"
     ]
    },
    {
     "name": "stdout",
     "output_type": "stream",
     "text": [
      "Acc at dev is : 0.788\n",
      "ROC is : 0.7888190580854911,  prec 0.7921788777005079,  recall 0.7888190580854912, f-score 0.7877670445988684\n",
      "Acc at epoch : 100 is : 0.8108539581298828, loss : 16.402334317564964\n"
     ]
    },
    {
     "name": "stderr",
     "output_type": "stream",
     "text": [
      "100%|██████████████████████████████████████████████████████████████████████████████████| 40/40 [00:03<00:00, 13.09it/s]\n",
      "100%|██████████████████████████████████████████████████████████████████████████████████| 14/14 [00:00<00:00, 48.78it/s]\n",
      "  5%|████▏                                                                              | 2/40 [00:00<00:02, 13.28it/s]"
     ]
    },
    {
     "name": "stdout",
     "output_type": "stream",
     "text": [
      "Acc at dev is : 0.794\n",
      "ROC is : 0.7941937404125741,  prec 0.7942745906332302,  recall 0.7941937404125742, f-score 0.7942159736215424\n",
      "Acc at epoch : 101 is : 0.8008778691291809, loss : 16.99866235256195\n"
     ]
    },
    {
     "name": "stderr",
     "output_type": "stream",
     "text": [
      "100%|██████████████████████████████████████████████████████████████████████████████████| 40/40 [00:03<00:00, 12.99it/s]\n",
      "100%|██████████████████████████████████████████████████████████████████████████████████| 14/14 [00:00<00:00, 43.46it/s]\n",
      "  5%|████▏                                                                              | 2/40 [00:00<00:02, 12.77it/s]"
     ]
    },
    {
     "name": "stdout",
     "output_type": "stream",
     "text": [
      "Acc at dev is : 0.801\n",
      "ROC is : 0.8011424777342766,  prec 0.8024721168218927,  recall 0.8011424777342766, f-score 0.8011440493385606\n",
      "Acc at epoch : 102 is : 0.804070234298706, loss : 16.71338850259781\n"
     ]
    },
    {
     "name": "stderr",
     "output_type": "stream",
     "text": [
      "100%|██████████████████████████████████████████████████████████████████████████████████| 40/40 [00:03<00:00, 12.42it/s]\n",
      "100%|██████████████████████████████████████████████████████████████████████████████████| 14/14 [00:00<00:00, 43.93it/s]\n",
      "  5%|████▏                                                                              | 2/40 [00:00<00:03, 12.48it/s]"
     ]
    },
    {
     "name": "stdout",
     "output_type": "stream",
     "text": [
      "Acc at dev is : 0.797\n",
      "ROC is : 0.7969068388396638,  prec 0.7975608636791263,  recall 0.7969068388396638, f-score 0.7965762051986718\n",
      "Acc at epoch : 103 is : 0.8084596991539001, loss : 17.003329694271088\n"
     ]
    },
    {
     "name": "stderr",
     "output_type": "stream",
     "text": [
      "100%|██████████████████████████████████████████████████████████████████████████████████| 40/40 [00:03<00:00, 12.55it/s]\n",
      "100%|██████████████████████████████████████████████████████████████████████████████████| 14/14 [00:00<00:00, 42.61it/s]\n",
      "  5%|████▏                                                                              | 2/40 [00:00<00:02, 12.86it/s]"
     ]
    },
    {
     "name": "stdout",
     "output_type": "stream",
     "text": [
      "Acc at dev is : 0.797\n",
      "ROC is : 0.7971357922934267,  prec 0.7998544395924309,  recall 0.7971357922934268, f-score 0.7962729357798166\n",
      "Acc at epoch : 104 is : 0.8120510578155518, loss : 16.67067638039589\n"
     ]
    },
    {
     "name": "stderr",
     "output_type": "stream",
     "text": [
      "100%|██████████████████████████████████████████████████████████████████████████████████| 40/40 [00:03<00:00, 12.80it/s]\n",
      "100%|██████████████████████████████████████████████████████████████████████████████████| 14/14 [00:00<00:00, 43.00it/s]\n",
      "  5%|████▏                                                                              | 2/40 [00:00<00:02, 12.74it/s]"
     ]
    },
    {
     "name": "stdout",
     "output_type": "stream",
     "text": [
      "Acc at dev is : 0.783\n",
      "ROC is : 0.784377361082492,  prec 0.793810134891395,  recall 0.784377361082492, f-score 0.7819198535717116\n",
      "Acc at epoch : 105 is : 0.7972865104675293, loss : 16.866125643253326\n"
     ]
    },
    {
     "name": "stderr",
     "output_type": "stream",
     "text": [
      "100%|██████████████████████████████████████████████████████████████████████████████████| 40/40 [00:03<00:00, 12.97it/s]\n",
      "100%|██████████████████████████████████████████████████████████████████████████████████| 14/14 [00:00<00:00, 46.33it/s]\n",
      "  5%|████▏                                                                              | 2/40 [00:00<00:02, 13.16it/s]"
     ]
    },
    {
     "name": "stdout",
     "output_type": "stream",
     "text": [
      "Acc at dev is : 0.794\n",
      "ROC is : 0.7948119147377338,  prec 0.7983986837226549,  recall 0.7948119147377338, f-score 0.7937377713259469\n",
      "Acc at epoch : 106 is : 0.8060654401779175, loss : 16.739205181598663\n"
     ]
    },
    {
     "name": "stderr",
     "output_type": "stream",
     "text": [
      "100%|██████████████████████████████████████████████████████████████████████████████████| 40/40 [00:03<00:00, 13.30it/s]\n",
      "100%|██████████████████████████████████████████████████████████████████████████████████| 14/14 [00:00<00:00, 50.14it/s]\n",
      "  5%|████▏                                                                              | 2/40 [00:00<00:02, 13.35it/s]"
     ]
    },
    {
     "name": "stdout",
     "output_type": "stream",
     "text": [
      "Acc at dev is : 0.800\n",
      "ROC is : 0.800530027245461,  prec 0.8014150808002527,  recall 0.800530027245461, f-score 0.8001359989120087\n",
      "Acc at epoch : 107 is : 0.8088587522506714, loss : 16.922808289527893\n"
     ]
    },
    {
     "name": "stderr",
     "output_type": "stream",
     "text": [
      "100%|██████████████████████████████████████████████████████████████████████████████████| 40/40 [00:03<00:00, 13.20it/s]\n",
      "100%|██████████████████████████████████████████████████████████████████████████████████| 14/14 [00:00<00:00, 49.94it/s]\n",
      "  5%|████▏                                                                              | 2/40 [00:00<00:02, 14.02it/s]"
     ]
    },
    {
     "name": "stdout",
     "output_type": "stream",
     "text": [
      "Acc at dev is : 0.794\n",
      "ROC is : 0.794262426448703,  prec 0.7942422161172161,  recall 0.794262426448703, f-score 0.7942477749477721\n",
      "Acc at epoch : 108 is : 0.8008778691291809, loss : 16.89496061205864\n"
     ]
    },
    {
     "name": "stderr",
     "output_type": "stream",
     "text": [
      "100%|██████████████████████████████████████████████████████████████████████████████████| 40/40 [00:02<00:00, 13.98it/s]\n",
      "100%|██████████████████████████████████████████████████████████████████████████████████| 14/14 [00:00<00:00, 57.61it/s]\n",
      "  5%|████▏                                                                              | 2/40 [00:00<00:02, 13.60it/s]"
     ]
    },
    {
     "name": "stdout",
     "output_type": "stream",
     "text": [
      "Acc at dev is : 0.789\n",
      "ROC is : 0.7902557410078531,  prec 0.7976497933884298,  recall 0.7902557410078531, f-score 0.788309363903708\n",
      "Acc at epoch : 109 is : 0.8028731346130371, loss : 16.786130100488663\n"
     ]
    },
    {
     "name": "stderr",
     "output_type": "stream",
     "text": [
      "100%|██████████████████████████████████████████████████████████████████████████████████| 40/40 [00:02<00:00, 13.68it/s]\n",
      "100%|██████████████████████████████████████████████████████████████████████████████████| 14/14 [00:00<00:00, 55.90it/s]\n",
      "  5%|████▏                                                                              | 2/40 [00:00<00:02, 13.32it/s]"
     ]
    },
    {
     "name": "stdout",
     "output_type": "stream",
     "text": [
      "Acc at dev is : 0.788\n",
      "ROC is : 0.7888190580854911,  prec 0.7921788777005079,  recall 0.7888190580854912, f-score 0.7877670445988684\n",
      "Acc at epoch : 110 is : 0.7936951518058777, loss : 16.778856605291367\n"
     ]
    },
    {
     "name": "stderr",
     "output_type": "stream",
     "text": [
      "100%|██████████████████████████████████████████████████████████████████████████████████| 40/40 [00:02<00:00, 13.59it/s]\n",
      "100%|██████████████████████████████████████████████████████████████████████████████████| 14/14 [00:00<00:00, 56.51it/s]\n",
      "  5%|████▏                                                                              | 2/40 [00:00<00:02, 13.86it/s]"
     ]
    },
    {
     "name": "stdout",
     "output_type": "stream",
     "text": [
      "Acc at dev is : 0.789\n",
      "ROC is : 0.7903244270439821,  prec 0.7991742361684558,  recall 0.790324427043982, f-score 0.788071533923304\n",
      "Acc at epoch : 111 is : 0.804070234298706, loss : 16.46026387810707\n"
     ]
    },
    {
     "name": "stderr",
     "output_type": "stream",
     "text": [
      "100%|██████████████████████████████████████████████████████████████████████████████████| 40/40 [00:02<00:00, 13.60it/s]\n",
      "100%|██████████████████████████████████████████████████████████████████████████████████| 14/14 [00:00<00:00, 56.31it/s]\n",
      "  5%|████▏                                                                              | 2/40 [00:00<00:02, 13.74it/s]"
     ]
    },
    {
     "name": "stdout",
     "output_type": "stream",
     "text": [
      "Acc at dev is : 0.795\n",
      "ROC is : 0.795149621082034,  prec 0.7965499790088738,  recall 0.795149621082034, f-score 0.7951353311159103\n",
      "Acc at epoch : 112 is : 0.8048683404922485, loss : 16.746837824583054\n"
     ]
    },
    {
     "name": "stderr",
     "output_type": "stream",
     "text": [
      "100%|██████████████████████████████████████████████████████████████████████████████████| 40/40 [00:02<00:00, 13.55it/s]\n",
      "100%|██████████████████████████████████████████████████████████████████████████████████| 14/14 [00:00<00:00, 56.18it/s]\n",
      "  5%|████▏                                                                              | 2/40 [00:00<00:02, 13.80it/s]"
     ]
    },
    {
     "name": "stdout",
     "output_type": "stream",
     "text": [
      "Acc at dev is : 0.791\n",
      "ROC is : 0.7912345170226892,  prec 0.7949366721734341,  recall 0.7912345170226893, f-score 0.7901145833781653\n",
      "Acc at epoch : 113 is : 0.8008778691291809, loss : 16.736862003803253\n"
     ]
    },
    {
     "name": "stderr",
     "output_type": "stream",
     "text": [
      "100%|██████████████████████████████████████████████████████████████████████████████████| 40/40 [00:02<00:00, 13.66it/s]\n",
      "100%|██████████████████████████████████████████████████████████████████████████████████| 14/14 [00:00<00:00, 55.07it/s]\n",
      "  5%|████▏                                                                              | 2/40 [00:00<00:02, 13.69it/s]"
     ]
    },
    {
     "name": "stdout",
     "output_type": "stream",
     "text": [
      "Acc at dev is : 0.798\n",
      "ROC is : 0.7981374636536394,  prec 0.7990154711673699,  recall 0.7981374636536392, f-score 0.7977424180606556\n",
      "Acc at epoch : 114 is : 0.8056663870811462, loss : 16.584473580121994\n"
     ]
    },
    {
     "name": "stderr",
     "output_type": "stream",
     "text": [
      "100%|██████████████████████████████████████████████████████████████████████████████████| 40/40 [00:02<00:00, 13.54it/s]\n",
      "100%|██████████████████████████████████████████████████████████████████████████████████| 14/14 [00:00<00:00, 44.32it/s]\n",
      "  5%|████▏                                                                              | 2/40 [00:00<00:02, 13.09it/s]"
     ]
    },
    {
     "name": "stdout",
     "output_type": "stream",
     "text": [
      "Acc at dev is : 0.781\n",
      "ROC is : 0.7820763788721753,  prec 0.7936276700330682,  recall 0.7820763788721753, f-score 0.7791281373844121\n",
      "Acc at epoch : 115 is : 0.8108539581298828, loss : 16.587242275476456\n"
     ]
    },
    {
     "name": "stderr",
     "output_type": "stream",
     "text": [
      "100%|██████████████████████████████████████████████████████████████████████████████████| 40/40 [00:03<00:00, 12.94it/s]\n",
      "100%|██████████████████████████████████████████████████████████████████████████████████| 14/14 [00:00<00:00, 48.60it/s]\n",
      "  5%|████▏                                                                              | 2/40 [00:00<00:02, 13.22it/s]"
     ]
    },
    {
     "name": "stdout",
     "output_type": "stream",
     "text": [
      "Acc at dev is : 0.785\n",
      "ROC is : 0.7853561370973281,  prec 0.7905447933421917,  recall 0.7853561370973281, f-score 0.7838527302813016\n",
      "Acc at epoch : 116 is : 0.8060654401779175, loss : 16.76987537741661\n"
     ]
    },
    {
     "name": "stderr",
     "output_type": "stream",
     "text": [
      "100%|██████████████████████████████████████████████████████████████████████████████████| 40/40 [00:03<00:00, 13.27it/s]\n",
      "100%|██████████████████████████████████████████████████████████████████████████████████| 14/14 [00:00<00:00, 53.41it/s]\n",
      "  5%|████▏                                                                              | 2/40 [00:00<00:02, 13.72it/s]"
     ]
    },
    {
     "name": "stdout",
     "output_type": "stream",
     "text": [
      "Acc at dev is : 0.797\n",
      "ROC is : 0.7971357922934267,  prec 0.7998544395924309,  recall 0.7971357922934268, f-score 0.7962729357798166\n",
      "Acc at epoch : 117 is : 0.8020750284194946, loss : 16.6777483522892\n"
     ]
    },
    {
     "name": "stderr",
     "output_type": "stream",
     "text": [
      "100%|██████████████████████████████████████████████████████████████████████████████████| 40/40 [00:02<00:00, 13.69it/s]\n",
      "100%|██████████████████████████████████████████████████████████████████████████████████| 14/14 [00:00<00:00, 53.92it/s]\n",
      "  5%|████▏                                                                              | 2/40 [00:00<00:02, 13.60it/s]"
     ]
    },
    {
     "name": "stdout",
     "output_type": "stream",
     "text": [
      "Acc at dev is : 0.788\n",
      "ROC is : 0.7887961627401149,  prec 0.7918582791033983,  recall 0.788796162740115, f-score 0.7878157375873812\n",
      "Acc at epoch : 118 is : 0.8036711812019348, loss : 16.844233095645905\n"
     ]
    },
    {
     "name": "stderr",
     "output_type": "stream",
     "text": [
      "100%|██████████████████████████████████████████████████████████████████████████████████| 40/40 [00:02<00:00, 13.72it/s]\n",
      "100%|██████████████████████████████████████████████████████████████████████████████████| 14/14 [00:00<00:00, 55.88it/s]\n",
      "  5%|████▏                                                                              | 2/40 [00:00<00:02, 13.10it/s]"
     ]
    },
    {
     "name": "stdout",
     "output_type": "stream",
     "text": [
      "Acc at dev is : 0.782\n",
      "ROC is : 0.783169631613893,  prec 0.7923047835129513,  recall 0.783169631613893, f-score 0.7807595432826702\n",
      "Acc at epoch : 119 is : 0.7976855635643005, loss : 17.208309650421143\n"
     ]
    },
    {
     "name": "stderr",
     "output_type": "stream",
     "text": [
      "100%|██████████████████████████████████████████████████████████████████████████████████| 40/40 [00:02<00:00, 13.63it/s]\n",
      "100%|██████████████████████████████████████████████████████████████████████████████████| 14/14 [00:00<00:00, 55.28it/s]\n",
      "  5%|████▏                                                                              | 2/40 [00:00<00:02, 13.39it/s]"
     ]
    },
    {
     "name": "stdout",
     "output_type": "stream",
     "text": [
      "Acc at dev is : 0.782\n",
      "ROC is : 0.7828490967786248,  prec 0.7862903225806452,  recall 0.7828490967786249, f-score 0.7817457812867576\n",
      "Acc at epoch : 120 is : 0.7928970456123352, loss : 16.81965896487236\n"
     ]
    },
    {
     "name": "stderr",
     "output_type": "stream",
     "text": [
      "100%|██████████████████████████████████████████████████████████████████████████████████| 40/40 [00:03<00:00, 13.16it/s]\n",
      "100%|██████████████████████████████████████████████████████████████████████████████████| 14/14 [00:00<00:00, 52.61it/s]\n",
      "  5%|████▏                                                                              | 2/40 [00:00<00:02, 13.47it/s]"
     ]
    },
    {
     "name": "stdout",
     "output_type": "stream",
     "text": [
      "Acc at dev is : 0.785\n",
      "ROC is : 0.7850127069166839,  prec 0.7860934914506343,  recall 0.7850127069166839, f-score 0.7845397845397846\n",
      "Acc at epoch : 121 is : 0.804070234298706, loss : 16.708031684160233\n"
     ]
    },
    {
     "name": "stderr",
     "output_type": "stream",
     "text": [
      "100%|██████████████████████████████████████████████████████████████████████████████████| 40/40 [00:02<00:00, 13.64it/s]\n",
      "100%|██████████████████████████████████████████████████████████████████████████████████| 14/14 [00:00<00:00, 49.80it/s]\n",
      "  5%|████▏                                                                              | 2/40 [00:00<00:02, 13.35it/s]"
     ]
    },
    {
     "name": "stdout",
     "output_type": "stream",
     "text": [
      "Acc at dev is : 0.788\n",
      "ROC is : 0.788635895322481,  prec 0.7900053484239402,  recall 0.788635895322481, f-score 0.7880880059461155\n",
      "Acc at epoch : 122 is : 0.8056663870811462, loss : 16.537264347076416\n"
     ]
    },
    {
     "name": "stderr",
     "output_type": "stream",
     "text": [
      "100%|██████████████████████████████████████████████████████████████████████████████████| 40/40 [00:02<00:00, 13.49it/s]\n",
      "100%|██████████████████████████████████████████████████████████████████████████████████| 14/14 [00:00<00:00, 54.41it/s]\n",
      "  5%|████▏                                                                              | 2/40 [00:00<00:02, 13.82it/s]"
     ]
    },
    {
     "name": "stdout",
     "output_type": "stream",
     "text": [
      "Acc at dev is : 0.769\n",
      "ROC is : 0.768144561210706,  prec 0.7808522628489896,  recall 0.7681445612107058, f-score 0.7662459959985339\n",
      "Acc at epoch : 123 is : 0.8036711812019348, loss : 16.533961430191994\n"
     ]
    },
    {
     "name": "stderr",
     "output_type": "stream",
     "text": [
      "100%|██████████████████████████████████████████████████████████████████████████████████| 40/40 [00:02<00:00, 13.69it/s]\n",
      "100%|██████████████████████████████████████████████████████████████████████████████████| 14/14 [00:00<00:00, 54.55it/s]\n",
      "  5%|████▏                                                                              | 2/40 [00:00<00:02, 13.72it/s]"
     ]
    },
    {
     "name": "stdout",
     "output_type": "stream",
     "text": [
      "Acc at dev is : 0.798\n",
      "ROC is : 0.7981374636536394,  prec 0.7990154711673699,  recall 0.7981374636536392, f-score 0.7977424180606556\n",
      "Acc at epoch : 124 is : 0.8056663870811462, loss : 16.595711141824722\n"
     ]
    },
    {
     "name": "stderr",
     "output_type": "stream",
     "text": [
      "100%|██████████████████████████████████████████████████████████████████████████████████| 40/40 [00:02<00:00, 13.53it/s]\n",
      "100%|██████████████████████████████████████████████████████████████████████████████████| 14/14 [00:00<00:00, 42.29it/s]\n",
      "  5%|████▏                                                                              | 2/40 [00:00<00:03, 12.56it/s]"
     ]
    },
    {
     "name": "stdout",
     "output_type": "stream",
     "text": [
      "Acc at dev is : 0.791\n",
      "ROC is : 0.7910971449504315,  prec 0.7931256087931342,  recall 0.7910971449504316, f-score 0.7903816257960985\n",
      "Acc at epoch : 125 is : 0.8032721281051636, loss : 16.48162290453911\n"
     ]
    },
    {
     "name": "stderr",
     "output_type": "stream",
     "text": [
      "100%|██████████████████████████████████████████████████████████████████████████████████| 40/40 [00:03<00:00, 13.20it/s]\n",
      "100%|██████████████████████████████████████████████████████████████████████████████████| 14/14 [00:00<00:00, 48.22it/s]\n",
      "  5%|████▏                                                                              | 2/40 [00:00<00:02, 13.47it/s]"
     ]
    },
    {
     "name": "stdout",
     "output_type": "stream",
     "text": [
      "Acc at dev is : 0.782\n",
      "ROC is : 0.7830322595416351,  prec 0.78937265917603,  recall 0.7830322595416352, f-score 0.7812437098508767\n",
      "Acc at epoch : 126 is : 0.7960894107818604, loss : 16.949994534254074\n"
     ]
    },
    {
     "name": "stderr",
     "output_type": "stream",
     "text": [
      "100%|██████████████████████████████████████████████████████████████████████████████████| 40/40 [00:02<00:00, 13.61it/s]\n",
      "100%|██████████████████████████████████████████████████████████████████████████████████| 14/14 [00:00<00:00, 55.27it/s]\n",
      "  5%|████▏                                                                              | 2/40 [00:00<00:02, 13.63it/s]"
     ]
    },
    {
     "name": "stdout",
     "output_type": "stream",
     "text": [
      "Acc at dev is : 0.786\n",
      "ROC is : 0.7862204363852828,  prec 0.7873933158998822,  recall 0.7862204363852829, f-score 0.7857229794649518\n",
      "Acc at epoch : 127 is : 0.8108539581298828, loss : 16.67947879433632\n"
     ]
    },
    {
     "name": "stderr",
     "output_type": "stream",
     "text": [
      "100%|██████████████████████████████████████████████████████████████████████████████████| 40/40 [00:02<00:00, 13.72it/s]\n",
      "100%|██████████████████████████████████████████████████████████████████████████████████| 14/14 [00:00<00:00, 55.85it/s]\n",
      "  5%|████▏                                                                              | 2/40 [00:00<00:02, 13.66it/s]"
     ]
    },
    {
     "name": "stdout",
     "output_type": "stream",
     "text": [
      "Acc at dev is : 0.781\n",
      "ROC is : 0.7820992742175515,  prec 0.7942405626302247,  recall 0.7820992742175517, f-score 0.7790260495280463\n",
      "Acc at epoch : 128 is : 0.8072625994682312, loss : 16.519484847784042\n"
     ]
    },
    {
     "name": "stderr",
     "output_type": "stream",
     "text": [
      "100%|██████████████████████████████████████████████████████████████████████████████████| 40/40 [00:02<00:00, 13.68it/s]\n",
      "100%|██████████████████████████████████████████████████████████████████████████████████| 14/14 [00:00<00:00, 54.81it/s]\n",
      "  5%|████▏                                                                              | 2/40 [00:00<00:02, 13.68it/s]"
     ]
    },
    {
     "name": "stdout",
     "output_type": "stream",
     "text": [
      "Acc at dev is : 0.778\n",
      "ROC is : 0.7771023650891774,  prec 0.7793859649122807,  recall 0.7771023650891774, f-score 0.7769489852710822\n",
      "Acc at epoch : 129 is : 0.7976855635643005, loss : 16.613608568906784\n"
     ]
    },
    {
     "name": "stderr",
     "output_type": "stream",
     "text": [
      "100%|██████████████████████████████████████████████████████████████████████████████████| 40/40 [00:02<00:00, 13.40it/s]\n",
      "100%|██████████████████████████████████████████████████████████████████████████████████| 14/14 [00:00<00:00, 50.32it/s]\n",
      "  5%|████▏                                                                              | 2/40 [00:00<00:02, 13.45it/s]"
     ]
    },
    {
     "name": "stdout",
     "output_type": "stream",
     "text": [
      "Acc at dev is : 0.795\n",
      "ROC is : 0.795950958170204,  prec 0.7987985645186456,  recall 0.795950958170204, f-score 0.795053094718914\n",
      "Acc at epoch : 130 is : 0.8028731346130371, loss : 16.512171134352684\n"
     ]
    },
    {
     "name": "stderr",
     "output_type": "stream",
     "text": [
      "100%|██████████████████████████████████████████████████████████████████████████████████| 40/40 [00:02<00:00, 13.68it/s]\n",
      "100%|██████████████████████████████████████████████████████████████████████████████████| 14/14 [00:00<00:00, 54.43it/s]\n",
      "  5%|████▏                                                                              | 2/40 [00:00<00:02, 13.86it/s]"
     ]
    },
    {
     "name": "stdout",
     "output_type": "stream",
     "text": [
      "Acc at dev is : 0.807\n",
      "ROC is : 0.807,  prec 0.8074065807020254,  recall 0.807432973876411, f-score 0.8074093788410164\n",
      "Acc at epoch : 131 is : 0.8012769222259521, loss : 16.520601958036423\n"
     ]
    },
    {
     "name": "stderr",
     "output_type": "stream",
     "text": [
      "100%|██████████████████████████████████████████████████████████████████████████████████| 40/40 [00:02<00:00, 13.70it/s]\n",
      "100%|██████████████████████████████████████████████████████████████████████████████████| 14/14 [00:00<00:00, 56.01it/s]\n",
      "  5%|████▏                                                                              | 2/40 [00:00<00:02, 13.79it/s]"
     ]
    },
    {
     "name": "stdout",
     "output_type": "stream",
     "text": [
      "Acc at dev is : 0.791\n",
      "ROC is : 0.7909139821874213,  prec 0.7914895935490901,  recall 0.7909139821874213, f-score 0.7906024437825528\n",
      "Acc at epoch : 132 is : 0.8016759753227234, loss : 16.69981861114502\n"
     ]
    },
    {
     "name": "stderr",
     "output_type": "stream",
     "text": [
      "100%|██████████████████████████████████████████████████████████████████████████████████| 40/40 [00:02<00:00, 13.60it/s]\n",
      "100%|██████████████████████████████████████████████████████████████████████████████████| 14/14 [00:00<00:00, 56.83it/s]\n",
      "  5%|████▏                                                                              | 2/40 [00:00<00:02, 13.88it/s]"
     ]
    },
    {
     "name": "stdout",
     "output_type": "stream",
     "text": [
      "Acc at dev is : 0.792\n",
      "ROC is : 0.7919614442383863,  prec 0.791994870855468,  recall 0.7919614442383863, f-score 0.7918648374856201\n",
      "Acc at epoch : 133 is : 0.8092578053474426, loss : 16.55377623438835\n"
     ]
    },
    {
     "name": "stderr",
     "output_type": "stream",
     "text": [
      "100%|██████████████████████████████████████████████████████████████████████████████████| 40/40 [00:02<00:00, 13.73it/s]\n",
      "100%|██████████████████████████████████████████████████████████████████████████████████| 14/14 [00:00<00:00, 54.20it/s]\n",
      "  5%|████▏                                                                              | 2/40 [00:00<00:02, 13.36it/s]"
     ]
    },
    {
     "name": "stdout",
     "output_type": "stream",
     "text": [
      "Acc at dev is : 0.798\n",
      "ROC is : 0.7978856148545,  prec 0.7978600413225505,  recall 0.7978856148545002, f-score 0.7978442867015697\n",
      "Acc at epoch : 134 is : 0.8140462636947632, loss : 16.309833467006683\n"
     ]
    },
    {
     "name": "stderr",
     "output_type": "stream",
     "text": [
      "100%|██████████████████████████████████████████████████████████████████████████████████| 40/40 [00:02<00:00, 13.67it/s]\n",
      "100%|██████████████████████████████████████████████████████████████████████████████████| 14/14 [00:00<00:00, 56.30it/s]\n",
      "  5%|████▏                                                                              | 2/40 [00:00<00:02, 13.78it/s]"
     ]
    },
    {
     "name": "stdout",
     "output_type": "stream",
     "text": [
      "Acc at dev is : 0.770\n",
      "ROC is : 0.7698559882775833,  prec 0.7728545963840081,  recall 0.7698559882775832, f-score 0.769575303764614\n",
      "Acc at epoch : 135 is : 0.8104549050331116, loss : 16.431437999010086\n"
     ]
    },
    {
     "name": "stderr",
     "output_type": "stream",
     "text": [
      "100%|██████████████████████████████████████████████████████████████████████████████████| 40/40 [00:02<00:00, 13.73it/s]\n",
      "100%|██████████████████████████████████████████████████████████████████████████████████| 14/14 [00:00<00:00, 56.57it/s]\n",
      "  5%|████▏                                                                              | 2/40 [00:00<00:02, 13.77it/s]"
     ]
    },
    {
     "name": "stdout",
     "output_type": "stream",
     "text": [
      "Acc at dev is : 0.791\n",
      "ROC is : 0.790730819424411,  prec 0.7907191712217039,  recall 0.790730819424411, f-score 0.7906695569434607\n",
      "Acc at epoch : 136 is : 0.8012769222259521, loss : 16.541036754846573\n"
     ]
    },
    {
     "name": "stderr",
     "output_type": "stream",
     "text": [
      "100%|██████████████████████████████████████████████████████████████████████████████████| 40/40 [00:02<00:00, 13.79it/s]\n",
      "100%|██████████████████████████████████████████████████████████████████████████████████| 14/14 [00:00<00:00, 54.98it/s]\n",
      "  5%|████▏                                                                              | 2/40 [00:00<00:02, 13.66it/s]"
     ]
    },
    {
     "name": "stdout",
     "output_type": "stream",
     "text": [
      "Acc at dev is : 0.797\n",
      "ROC is : 0.7969526295304165,  prec 0.797907526931116,  recall 0.7969526295304165, f-score 0.7965342679127726\n",
      "Acc at epoch : 137 is : 0.8076615929603577, loss : 16.589335441589355\n"
     ]
    },
    {
     "name": "stderr",
     "output_type": "stream",
     "text": [
      "100%|██████████████████████████████████████████████████████████████████████████████████| 40/40 [00:02<00:00, 13.68it/s]\n",
      "100%|██████████████████████████████████████████████████████████████████████████████████| 14/14 [00:00<00:00, 56.59it/s]\n",
      "  5%|████▏                                                                              | 2/40 [00:00<00:02, 13.80it/s]"
     ]
    },
    {
     "name": "stdout",
     "output_type": "stream",
     "text": [
      "Acc at dev is : 0.781\n",
      "ROC is : 0.7819619021452938,  prec 0.7908055137400749,  recall 0.7819619021452939, f-score 0.7795990693453003\n",
      "Acc at epoch : 138 is : 0.7956903576850891, loss : 16.878258556127548\n"
     ]
    },
    {
     "name": "stderr",
     "output_type": "stream",
     "text": [
      "100%|██████████████████████████████████████████████████████████████████████████████████| 40/40 [00:02<00:00, 13.67it/s]\n",
      "100%|██████████████████████████████████████████████████████████████████████████████████| 14/14 [00:00<00:00, 55.92it/s]\n",
      "  5%|████▏                                                                              | 2/40 [00:00<00:02, 13.66it/s]"
     ]
    },
    {
     "name": "stdout",
     "output_type": "stream",
     "text": [
      "Acc at dev is : 0.785\n",
      "ROC is : 0.7856308812418437,  prec 0.796463962358309,  recall 0.7856308812418435, f-score 0.7828947368421053\n",
      "Acc at epoch : 139 is : 0.8048683404922485, loss : 16.80018162727356\n"
     ]
    },
    {
     "name": "stderr",
     "output_type": "stream",
     "text": [
      "100%|██████████████████████████████████████████████████████████████████████████████████| 40/40 [00:02<00:00, 13.53it/s]\n",
      "100%|██████████████████████████████████████████████████████████████████████████████████| 14/14 [00:00<00:00, 55.27it/s]\n",
      "  5%|████▏                                                                              | 2/40 [00:00<00:02, 13.78it/s]"
     ]
    },
    {
     "name": "stdout",
     "output_type": "stream",
     "text": [
      "Acc at dev is : 0.783\n",
      "ROC is : 0.7839423495203425,  prec 0.7861584609616106,  recall 0.7839423495203426, f-score 0.7831549411226887\n",
      "Acc at epoch : 140 is : 0.805267333984375, loss : 17.22970476746559\n"
     ]
    },
    {
     "name": "stderr",
     "output_type": "stream",
     "text": [
      "100%|██████████████████████████████████████████████████████████████████████████████████| 40/40 [00:02<00:00, 13.67it/s]\n",
      "100%|██████████████████████████████████████████████████████████████████████████████████| 14/14 [00:00<00:00, 55.74it/s]\n",
      "  5%|████▏                                                                              | 2/40 [00:00<00:02, 13.84it/s]"
     ]
    },
    {
     "name": "stdout",
     "output_type": "stream",
     "text": [
      "Acc at dev is : 0.783\n",
      "ROC is : 0.784308675046363,  prec 0.7922459594146961,  recall 0.784308675046363, f-score 0.7821760228942909\n",
      "Acc at epoch : 141 is : 0.8056663870811462, loss : 16.84642007946968\n"
     ]
    },
    {
     "name": "stderr",
     "output_type": "stream",
     "text": [
      "100%|██████████████████████████████████████████████████████████████████████████████████| 40/40 [00:02<00:00, 13.70it/s]\n",
      "100%|██████████████████████████████████████████████████████████████████████████████████| 14/14 [00:00<00:00, 55.55it/s]\n",
      "  5%|████▏                                                                              | 2/40 [00:00<00:02, 13.81it/s]"
     ]
    },
    {
     "name": "stdout",
     "output_type": "stream",
     "text": [
      "Acc at dev is : 0.788\n",
      "ROC is : 0.7890022208485016,  prec 0.7952638257808342,  recall 0.7890022208485015, f-score 0.787288667959468\n",
      "Acc at epoch : 142 is : 0.799680769443512, loss : 16.917595982551575\n"
     ]
    },
    {
     "name": "stderr",
     "output_type": "stream",
     "text": [
      "100%|██████████████████████████████████████████████████████████████████████████████████| 40/40 [00:02<00:00, 13.68it/s]\n",
      "100%|██████████████████████████████████████████████████████████████████████████████████| 14/14 [00:00<00:00, 55.35it/s]\n",
      "  5%|████▏                                                                              | 2/40 [00:00<00:02, 13.80it/s]"
     ]
    },
    {
     "name": "stdout",
     "output_type": "stream",
     "text": [
      "Acc at dev is : 0.799\n",
      "ROC is : 0.7990704489777228,  prec 0.799043062200957,  recall 0.7990704489777228, f-score 0.7990384615384616\n",
      "Acc at epoch : 143 is : 0.8044692873954773, loss : 16.965068727731705\n"
     ]
    },
    {
     "name": "stderr",
     "output_type": "stream",
     "text": [
      "100%|██████████████████████████████████████████████████████████████████████████████████| 40/40 [00:02<00:00, 13.77it/s]\n",
      "100%|██████████████████████████████████████████████████████████████████████████████████| 14/14 [00:00<00:00, 57.13it/s]\n",
      "  5%|████▏                                                                              | 2/40 [00:00<00:02, 13.05it/s]"
     ]
    },
    {
     "name": "stdout",
     "output_type": "stream",
     "text": [
      "Acc at dev is : 0.778\n",
      "ROC is : 0.778361609084873,  prec 0.7868467618261177,  recall 0.7783616090848731, f-score 0.7760301438053097\n",
      "Acc at epoch : 144 is : 0.7992817163467407, loss : 17.018735855817795\n"
     ]
    },
    {
     "name": "stderr",
     "output_type": "stream",
     "text": [
      "100%|██████████████████████████████████████████████████████████████████████████████████| 40/40 [00:02<00:00, 13.73it/s]\n",
      "100%|██████████████████████████████████████████████████████████████████████████████████| 14/14 [00:00<00:00, 56.95it/s]\n",
      "  5%|████▏                                                                              | 2/40 [00:00<00:02, 13.78it/s]"
     ]
    },
    {
     "name": "stdout",
     "output_type": "stream",
     "text": [
      "Acc at dev is : 0.797\n",
      "ROC is : 0.7968610481489112,  prec 0.7972694133021528,  recall 0.7968610481489113, f-score 0.7966088111375709\n",
      "Acc at epoch : 145 is : 0.8044692873954773, loss : 16.699524700641632\n"
     ]
    },
    {
     "name": "stderr",
     "output_type": "stream",
     "text": [
      "100%|██████████████████████████████████████████████████████████████████████████████████| 40/40 [00:02<00:00, 13.74it/s]\n",
      "100%|██████████████████████████████████████████████████████████████████████████████████| 14/14 [00:00<00:00, 55.76it/s]\n",
      "  5%|████▏                                                                              | 2/40 [00:00<00:02, 13.75it/s]"
     ]
    },
    {
     "name": "stdout",
     "output_type": "stream",
     "text": [
      "Acc at dev is : 0.783\n",
      "ROC is : 0.7833699658859353,  prec 0.7836183437884907,  recall 0.7833699658859354, f-score 0.7834032581980999\n",
      "Acc at epoch : 146 is : 0.8020750284194946, loss : 16.509063363075256\n"
     ]
    },
    {
     "name": "stderr",
     "output_type": "stream",
     "text": [
      "100%|██████████████████████████████████████████████████████████████████████████████████| 40/40 [00:02<00:00, 13.64it/s]\n",
      "100%|██████████████████████████████████████████████████████████████████████████████████| 14/14 [00:00<00:00, 54.89it/s]\n",
      "  5%|████▏                                                                              | 2/40 [00:00<00:02, 13.78it/s]"
     ]
    },
    {
     "name": "stdout",
     "output_type": "stream",
     "text": [
      "Acc at dev is : 0.789\n",
      "ROC is : 0.7900954735902191,  prec 0.794628531566097,  recall 0.7900954735902191, f-score 0.7887773617842295\n",
      "Acc at epoch : 147 is : 0.8088587522506714, loss : 16.506224021315575\n"
     ]
    },
    {
     "name": "stderr",
     "output_type": "stream",
     "text": [
      "100%|██████████████████████████████████████████████████████████████████████████████████| 40/40 [00:02<00:00, 13.65it/s]\n",
      "100%|██████████████████████████████████████████████████████████████████████████████████| 14/14 [00:00<00:00, 56.44it/s]\n",
      "  5%|████▏                                                                              | 2/40 [00:00<00:02, 13.92it/s]"
     ]
    },
    {
     "name": "stdout",
     "output_type": "stream",
     "text": [
      "Acc at dev is : 0.791\n",
      "ROC is : 0.7911658309865605,  prec 0.7939673953872737,  recall 0.7911658309865603, f-score 0.7902590150632163\n",
      "Acc at epoch : 148 is : 0.8008778691291809, loss : 17.29220089316368\n"
     ]
    },
    {
     "name": "stderr",
     "output_type": "stream",
     "text": [
      "100%|██████████████████████████████████████████████████████████████████████████████████| 40/40 [00:02<00:00, 13.81it/s]\n",
      "100%|██████████████████████████████████████████████████████████████████████████████████| 14/14 [00:00<00:00, 54.14it/s]\n",
      "  5%|████▏                                                                              | 2/40 [00:00<00:02, 13.77it/s]"
     ]
    },
    {
     "name": "stdout",
     "output_type": "stream",
     "text": [
      "Acc at dev is : 0.782\n",
      "ROC is : 0.7825514572887332,  prec 0.7831738601684219,  recall 0.7825514572887332, f-score 0.7822168785068133\n",
      "Acc at epoch : 149 is : 0.8020750284194946, loss : 16.4981479793787\n"
     ]
    },
    {
     "name": "stderr",
     "output_type": "stream",
     "text": [
      "100%|██████████████████████████████████████████████████████████████████████████████████| 40/40 [00:02<00:00, 13.75it/s]\n",
      "100%|██████████████████████████████████████████████████████████████████████████████████| 14/14 [00:00<00:00, 56.76it/s]\n",
      "  5%|████▏                                                                              | 2/40 [00:00<00:02, 13.83it/s]"
     ]
    },
    {
     "name": "stdout",
     "output_type": "stream",
     "text": [
      "Acc at dev is : 0.797\n",
      "ROC is : 0.7967236760766536,  prec 0.7967236760766536,  recall 0.7967236760766536, f-score 0.7966507177033494\n",
      "Acc at epoch : 150 is : 0.804070234298706, loss : 16.563501685857773\n"
     ]
    },
    {
     "name": "stderr",
     "output_type": "stream",
     "text": [
      "100%|██████████████████████████████████████████████████████████████████████████████████| 40/40 [00:02<00:00, 13.71it/s]\n",
      "100%|██████████████████████████████████████████████████████████████████████████████████| 14/14 [00:00<00:00, 55.68it/s]\n",
      "  5%|████▏                                                                              | 2/40 [00:00<00:02, 12.90it/s]"
     ]
    },
    {
     "name": "stdout",
     "output_type": "stream",
     "text": [
      "Acc at dev is : 0.787\n",
      "ROC is : 0.7879776541429128,  prec 0.797795771479982,  recall 0.7879776541429128, f-score 0.7854902322577669\n",
      "Acc at epoch : 151 is : 0.8048683404922485, loss : 16.327565267682076\n"
     ]
    },
    {
     "name": "stderr",
     "output_type": "stream",
     "text": [
      "100%|██████████████████████████████████████████████████████████████████████████████████| 40/40 [00:02<00:00, 13.70it/s]\n",
      "100%|██████████████████████████████████████████████████████████████████████████████████| 14/14 [00:00<00:00, 55.17it/s]\n",
      "  5%|████▏                                                                              | 2/40 [00:00<00:02, 13.84it/s]"
     ]
    },
    {
     "name": "stdout",
     "output_type": "stream",
     "text": [
      "Acc at dev is : 0.787\n",
      "ROC is : 0.787428165853882,  prec 0.7886972519259514,  recall 0.787428165853882, f-score 0.7869057165769275\n",
      "Acc at epoch : 152 is : 0.8044692873954773, loss : 16.55132156610489\n"
     ]
    },
    {
     "name": "stderr",
     "output_type": "stream",
     "text": [
      "100%|██████████████████████████████████████████████████████████████████████████████████| 40/40 [00:02<00:00, 13.74it/s]\n",
      "100%|██████████████████████████████████████████████████████████████████████████████████| 14/14 [00:00<00:00, 54.91it/s]\n",
      "  5%|████▏                                                                              | 2/40 [00:00<00:02, 13.50it/s]"
     ]
    },
    {
     "name": "stdout",
     "output_type": "stream",
     "text": [
      "Acc at dev is : 0.791\n",
      "ROC is : 0.791211621677313,  prec 0.7945992738811458,  recall 0.7912116216773131, f-score 0.7901651570892766\n",
      "Acc at epoch : 153 is : 0.8044692873954773, loss : 16.496132403612137\n"
     ]
    },
    {
     "name": "stderr",
     "output_type": "stream",
     "text": [
      "100%|██████████████████████████████████████████████████████████████████████████████████| 40/40 [00:02<00:00, 13.62it/s]\n",
      "100%|██████████████████████████████████████████████████████████████████████████████████| 14/14 [00:00<00:00, 56.43it/s]\n",
      "  5%|████▏                                                                              | 2/40 [00:00<00:02, 13.82it/s]"
     ]
    },
    {
     "name": "stdout",
     "output_type": "stream",
     "text": [
      "Acc at dev is : 0.800\n",
      "ROC is : 0.8005529225908374,  prec 0.8016042596453742,  recall 0.8005529225908373, f-score 0.8001131067856913\n",
      "Acc at epoch : 154 is : 0.805267333984375, loss : 16.48317861557007\n"
     ]
    },
    {
     "name": "stderr",
     "output_type": "stream",
     "text": [
      "100%|██████████████████████████████████████████████████████████████████████████████████| 40/40 [00:02<00:00, 13.69it/s]\n",
      "100%|██████████████████████████████████████████████████████████████████████████████████| 14/14 [00:00<00:00, 55.76it/s]\n",
      "  5%|████▏                                                                              | 2/40 [00:00<00:02, 13.77it/s]"
     ]
    },
    {
     "name": "stdout",
     "output_type": "stream",
     "text": [
      "Acc at dev is : 0.782\n",
      "ROC is : 0.7829177828147538,  prec 0.7873386815486572,  recall 0.7829177828147538, f-score 0.7815765900268736\n",
      "Acc at epoch : 155 is : 0.8080606460571289, loss : 16.873389691114426\n"
     ]
    },
    {
     "name": "stderr",
     "output_type": "stream",
     "text": [
      "100%|██████████████████████████████████████████████████████████████████████████████████| 40/40 [00:02<00:00, 13.71it/s]\n",
      "100%|██████████████████████████████████████████████████████████████████████████████████| 14/14 [00:00<00:00, 56.07it/s]\n",
      "  5%|████▏                                                                              | 2/40 [00:00<00:02, 13.77it/s]"
     ]
    },
    {
     "name": "stdout",
     "output_type": "stream",
     "text": [
      "Acc at dev is : 0.786\n",
      "ROC is : 0.7863120177667882,  prec 0.7883071372169292,  recall 0.786312017766788, f-score 0.785590348671438\n",
      "Acc at epoch : 156 is : 0.8012769222259521, loss : 17.004160463809967\n"
     ]
    },
    {
     "name": "stderr",
     "output_type": "stream",
     "text": [
      "100%|██████████████████████████████████████████████████████████████████████████████████| 40/40 [00:02<00:00, 13.73it/s]\n",
      "100%|██████████████████████████████████████████████████████████████████████████████████| 14/14 [00:00<00:00, 54.72it/s]\n",
      "  5%|████▏                                                                              | 2/40 [00:00<00:02, 13.82it/s]"
     ]
    },
    {
     "name": "stdout",
     "output_type": "stream",
     "text": [
      "Acc at dev is : 0.799\n",
      "ROC is : 0.7991620303592281,  prec 0.7992442459635865,  recall 0.799162030359228, f-score 0.7990384615384616\n",
      "Acc at epoch : 157 is : 0.8008778691291809, loss : 16.830867439508438\n"
     ]
    },
    {
     "name": "stderr",
     "output_type": "stream",
     "text": [
      "100%|██████████████████████████████████████████████████████████████████████████████████| 40/40 [00:02<00:00, 13.70it/s]\n",
      "100%|██████████████████████████████████████████████████████████████████████████████████| 14/14 [00:00<00:00, 56.36it/s]\n",
      "  5%|████▏                                                                              | 2/40 [00:00<00:02, 13.96it/s]"
     ]
    },
    {
     "name": "stdout",
     "output_type": "stream",
     "text": [
      "Acc at dev is : 0.782\n",
      "ROC is : 0.7830322595416351,  prec 0.78937265917603,  recall 0.7830322595416352, f-score 0.7812437098508767\n",
      "Acc at epoch : 158 is : 0.8000798225402832, loss : 17.004912763834\n"
     ]
    },
    {
     "name": "stderr",
     "output_type": "stream",
     "text": [
      "100%|██████████████████████████████████████████████████████████████████████████████████| 40/40 [00:02<00:00, 13.81it/s]\n",
      "100%|██████████████████████████████████████████████████████████████████████████████████| 14/14 [00:00<00:00, 57.14it/s]\n",
      "  5%|████▏                                                                              | 2/40 [00:00<00:02, 13.54it/s]"
     ]
    },
    {
     "name": "stdout",
     "output_type": "stream",
     "text": [
      "Acc at dev is : 0.786\n",
      "ROC is : 0.7866096572566799,  prec 0.7928194242206277,  recall 0.7866096572566798, f-score 0.7848851500833038\n",
      "Acc at epoch : 159 is : 0.8032721281051636, loss : 16.443655759096146\n"
     ]
    },
    {
     "name": "stderr",
     "output_type": "stream",
     "text": [
      "100%|██████████████████████████████████████████████████████████████████████████████████| 40/40 [00:02<00:00, 13.68it/s]\n",
      "100%|██████████████████████████████████████████████████████████████████████████████████| 14/14 [00:00<00:00, 55.88it/s]\n",
      "  5%|████▏                                                                              | 2/40 [00:00<00:02, 13.72it/s]"
     ]
    },
    {
     "name": "stdout",
     "output_type": "stream",
     "text": [
      "Acc at dev is : 0.789\n",
      "ROC is : 0.7901412642809716,  prec 0.7954169289227685,  recall 0.7901412642809718, f-score 0.7886560029417173\n",
      "Acc at epoch : 160 is : 0.8076615929603577, loss : 16.626329511404037\n"
     ]
    },
    {
     "name": "stderr",
     "output_type": "stream",
     "text": [
      "100%|██████████████████████████████████████████████████████████████████████████████████| 40/40 [00:02<00:00, 13.67it/s]\n",
      "100%|██████████████████████████████████████████████████████████████████████████████████| 14/14 [00:00<00:00, 55.00it/s]\n",
      "  5%|████▏                                                                              | 2/40 [00:00<00:02, 13.72it/s]"
     ]
    },
    {
     "name": "stdout",
     "output_type": "stream",
     "text": [
      "Acc at dev is : 0.793\n",
      "ROC is : 0.7931691737069855,  prec 0.7932245598969515,  recall 0.7931691737069854, f-score 0.793059536090956\n",
      "Acc at epoch : 161 is : 0.8080606460571289, loss : 16.757596135139465\n"
     ]
    },
    {
     "name": "stderr",
     "output_type": "stream",
     "text": [
      "100%|██████████████████████████████████████████████████████████████████████████████████| 40/40 [00:02<00:00, 13.72it/s]\n",
      "100%|██████████████████████████████████████████████████████████████████████████████████| 14/14 [00:00<00:00, 55.89it/s]\n",
      "  5%|████▏                                                                              | 2/40 [00:00<00:02, 13.42it/s]"
     ]
    },
    {
     "name": "stdout",
     "output_type": "stream",
     "text": [
      "Acc at dev is : 0.791\n",
      "ROC is : 0.7909826682235501,  prec 0.7920005284349709,  recall 0.7909826682235501, f-score 0.7905376867514728\n",
      "Acc at epoch : 162 is : 0.8096567988395691, loss : 16.349412232637405\n"
     ]
    },
    {
     "name": "stderr",
     "output_type": "stream",
     "text": [
      "100%|██████████████████████████████████████████████████████████████████████████████████| 40/40 [00:02<00:00, 13.58it/s]\n",
      "100%|██████████████████████████████████████████████████████████████████████████████████| 14/14 [00:00<00:00, 54.95it/s]\n",
      "  5%|████▏                                                                              | 2/40 [00:00<00:02, 13.84it/s]"
     ]
    },
    {
     "name": "stdout",
     "output_type": "stream",
     "text": [
      "Acc at dev is : 0.786\n",
      "ROC is : 0.7856480527508758,  prec 0.7864892792560062,  recall 0.7856480527508758, f-score 0.785661596723993\n",
      "Acc at epoch : 163 is : 0.8060654401779175, loss : 16.543911814689636\n"
     ]
    },
    {
     "name": "stderr",
     "output_type": "stream",
     "text": [
      "100%|██████████████████████████████████████████████████████████████████████████████████| 40/40 [00:02<00:00, 13.76it/s]\n",
      "100%|██████████████████████████████████████████████████████████████████████████████████| 14/14 [00:00<00:00, 57.00it/s]\n",
      "  5%|████▏                                                                              | 2/40 [00:00<00:02, 13.74it/s]"
     ]
    },
    {
     "name": "stdout",
     "output_type": "stream",
     "text": [
      "Acc at dev is : 0.788\n",
      "ROC is : 0.7885214185955995,  prec 0.7890922959572845,  recall 0.7885214185955995, f-score 0.7882093288543535\n",
      "Acc at epoch : 164 is : 0.8064644932746887, loss : 16.469772219657898\n"
     ]
    },
    {
     "name": "stderr",
     "output_type": "stream",
     "text": [
      "100%|██████████████████████████████████████████████████████████████████████████████████| 40/40 [00:02<00:00, 13.67it/s]\n",
      "100%|██████████████████████████████████████████████████████████████████████████████████| 14/14 [00:00<00:00, 56.69it/s]\n",
      "  5%|████▏                                                                              | 2/40 [00:00<00:02, 13.42it/s]"
     ]
    },
    {
     "name": "stdout",
     "output_type": "stream",
     "text": [
      "Acc at dev is : 0.778\n",
      "ROC is : 0.7784760858117545,  prec 0.789595238095238,  recall 0.7784760858117545, f-score 0.7755581600780586\n",
      "Acc at epoch : 165 is : 0.8036711812019348, loss : 16.4027116894722\n"
     ]
    },
    {
     "name": "stderr",
     "output_type": "stream",
     "text": [
      "100%|██████████████████████████████████████████████████████████████████████████████████| 40/40 [00:02<00:00, 13.73it/s]\n",
      "100%|██████████████████████████████████████████████████████████████████████████████████| 14/14 [00:00<00:00, 56.05it/s]\n",
      "  5%|████▏                                                                              | 2/40 [00:00<00:02, 13.80it/s]"
     ]
    },
    {
     "name": "stdout",
     "output_type": "stream",
     "text": [
      "Acc at dev is : 0.797\n",
      "ROC is : 0.7968610481489112,  prec 0.7972694133021528,  recall 0.7968610481489113, f-score 0.7966088111375709\n",
      "Acc at epoch : 166 is : 0.8044692873954773, loss : 16.49846774339676\n"
     ]
    },
    {
     "name": "stderr",
     "output_type": "stream",
     "text": [
      "100%|██████████████████████████████████████████████████████████████████████████████████| 40/40 [00:02<00:00, 13.80it/s]\n",
      "100%|██████████████████████████████████████████████████████████████████████████████████| 14/14 [00:00<00:00, 55.21it/s]\n",
      "  5%|████▏                                                                              | 2/40 [00:00<00:02, 13.71it/s]"
     ]
    },
    {
     "name": "stdout",
     "output_type": "stream",
     "text": [
      "Acc at dev is : 0.794\n",
      "ROC is : 0.7950866588822493,  prec 0.8035731109854909,  recall 0.7950866588822493, f-score 0.7929680076021539\n",
      "Acc at epoch : 167 is : 0.8032721281051636, loss : 16.823109418153763\n"
     ]
    },
    {
     "name": "stderr",
     "output_type": "stream",
     "text": [
      "100%|██████████████████████████████████████████████████████████████████████████████████| 40/40 [00:02<00:00, 13.73it/s]\n",
      "100%|██████████████████████████████████████████████████████████████████████████████████| 14/14 [00:00<00:00, 56.56it/s]\n",
      "  5%|████▏                                                                              | 2/40 [00:00<00:02, 13.76it/s]"
     ]
    },
    {
     "name": "stdout",
     "output_type": "stream",
     "text": [
      "Acc at dev is : 0.797\n",
      "ROC is : 0.797158687638803,  prec 0.8001618871415357,  recall 0.797158687638803, f-score 0.7962297046965239\n",
      "Acc at epoch : 168 is : 0.8012769222259521, loss : 16.668156683444977\n"
     ]
    },
    {
     "name": "stderr",
     "output_type": "stream",
     "text": [
      "100%|██████████████████████████████████████████████████████████████████████████████████| 40/40 [00:02<00:00, 13.70it/s]\n",
      "100%|██████████████████████████████████████████████████████████████████████████████████| 14/14 [00:00<00:00, 56.09it/s]\n",
      "  5%|████▏                                                                              | 2/40 [00:00<00:02, 13.74it/s]"
     ]
    },
    {
     "name": "stdout",
     "output_type": "stream",
     "text": [
      "Acc at dev is : 0.794\n",
      "ROC is : 0.7942853217940793,  prec 0.7942583732057416,  recall 0.7942853217940793, f-score 0.794253663003663\n",
      "Acc at epoch : 169 is : 0.7988826632499695, loss : 16.652109891176224\n"
     ]
    },
    {
     "name": "stderr",
     "output_type": "stream",
     "text": [
      "100%|██████████████████████████████████████████████████████████████████████████████████| 40/40 [00:02<00:00, 13.69it/s]\n",
      "100%|██████████████████████████████████████████████████████████████████████████████████| 14/14 [00:00<00:00, 56.21it/s]\n",
      "  5%|████▏                                                                              | 2/40 [00:00<00:02, 13.83it/s]"
     ]
    },
    {
     "name": "stdout",
     "output_type": "stream",
     "text": [
      "Acc at dev is : 0.795\n",
      "ROC is : 0.7960883302424617,  prec 0.8008986999389234,  recall 0.7960883302424617, f-score 0.7947494239011048\n",
      "Acc at epoch : 170 is : 0.8028731346130371, loss : 16.67159527540207\n"
     ]
    },
    {
     "name": "stderr",
     "output_type": "stream",
     "text": [
      "100%|██████████████████████████████████████████████████████████████████████████████████| 40/40 [00:02<00:00, 13.71it/s]\n",
      "100%|██████████████████████████████████████████████████████████████████████████████████| 14/14 [00:00<00:00, 53.57it/s]\n",
      "  5%|████▏                                                                              | 2/40 [00:00<00:02, 13.02it/s]"
     ]
    },
    {
     "name": "stdout",
     "output_type": "stream",
     "text": [
      "Acc at dev is : 0.799\n",
      "ROC is : 0.79884149552396,  prec 0.7994997820150983,  recall 0.79884149552396, f-score 0.7988773055332798\n",
      "Acc at epoch : 171 is : 0.8080606460571289, loss : 16.427343919873238\n"
     ]
    },
    {
     "name": "stderr",
     "output_type": "stream",
     "text": [
      "100%|██████████████████████████████████████████████████████████████████████████████████| 40/40 [00:03<00:00, 13.19it/s]\n",
      "100%|██████████████████████████████████████████████████████████████████████████████████| 14/14 [00:00<00:00, 51.15it/s]\n",
      "  5%|████▏                                                                              | 2/40 [00:00<00:02, 12.92it/s]"
     ]
    },
    {
     "name": "stdout",
     "output_type": "stream",
     "text": [
      "Acc at dev is : 0.794\n",
      "ROC is : 0.7946287519747236,  prec 0.796127117083947,  recall 0.7946287519747235, f-score 0.794059179055312\n",
      "Acc at epoch : 172 is : 0.7972865104675293, loss : 16.584002792835236\n"
     ]
    },
    {
     "name": "stderr",
     "output_type": "stream",
     "text": [
      "100%|██████████████████████████████████████████████████████████████████████████████████| 40/40 [00:02<00:00, 13.37it/s]\n",
      "100%|██████████████████████████████████████████████████████████████████████████████████| 14/14 [00:00<00:00, 50.54it/s]\n",
      "  5%|████▏                                                                              | 2/40 [00:00<00:02, 13.23it/s]"
     ]
    },
    {
     "name": "stdout",
     "output_type": "stream",
     "text": [
      "Acc at dev is : 0.792\n",
      "ROC is : 0.7919614442383863,  prec 0.791994870855468,  recall 0.7919614442383863, f-score 0.7918648374856201\n",
      "Acc at epoch : 173 is : 0.8044692873954773, loss : 17.12174490094185\n"
     ]
    },
    {
     "name": "stderr",
     "output_type": "stream",
     "text": [
      "100%|██████████████████████████████████████████████████████████████████████████████████| 40/40 [00:02<00:00, 13.39it/s]\n",
      "100%|██████████████████████████████████████████████████████████████████████████████████| 14/14 [00:00<00:00, 50.82it/s]\n",
      "  5%|████▏                                                                              | 2/40 [00:00<00:02, 13.38it/s]"
     ]
    },
    {
     "name": "stdout",
     "output_type": "stream",
     "text": [
      "Acc at dev is : 0.795\n",
      "ROC is : 0.7956991093710648,  prec 0.7962841887327013,  recall 0.7956991093710648, f-score 0.7953886736389517\n",
      "Acc at epoch : 174 is : 0.7976855635643005, loss : 16.818098217248917\n"
     ]
    },
    {
     "name": "stderr",
     "output_type": "stream",
     "text": [
      "100%|██████████████████████████████████████████████████████████████████████████████████| 40/40 [00:02<00:00, 13.48it/s]\n",
      "100%|██████████████████████████████████████████████████████████████████████████████████| 14/14 [00:00<00:00, 52.04it/s]\n",
      "  5%|████▏                                                                              | 2/40 [00:00<00:02, 13.66it/s]"
     ]
    },
    {
     "name": "stdout",
     "output_type": "stream",
     "text": [
      "Acc at dev is : 0.787\n",
      "ROC is : 0.7875884332715158,  prec 0.7904949121184088,  recall 0.787588433271516, f-score 0.7866405143293016\n",
      "Acc at epoch : 175 is : 0.8000798225402832, loss : 16.417242288589478\n"
     ]
    },
    {
     "name": "stderr",
     "output_type": "stream",
     "text": [
      "100%|██████████████████████████████████████████████████████████████████████████████████| 40/40 [00:02<00:00, 13.74it/s]\n",
      "100%|██████████████████████████████████████████████████████████████████████████████████| 14/14 [00:00<00:00, 53.22it/s]\n",
      "  5%|████▏                                                                              | 2/40 [00:00<00:02, 13.67it/s]"
     ]
    },
    {
     "name": "stdout",
     "output_type": "stream",
     "text": [
      "Acc at dev is : 0.793\n",
      "ROC is : 0.7939018247590265,  prec 0.8026054466269454,  recall 0.7939018247590265, f-score 0.7917244497823323\n",
      "Acc at epoch : 176 is : 0.8000798225402832, loss : 16.507919296622276\n"
     ]
    },
    {
     "name": "stderr",
     "output_type": "stream",
     "text": [
      "100%|██████████████████████████████████████████████████████████████████████████████████| 40/40 [00:02<00:00, 13.42it/s]\n",
      "100%|██████████████████████████████████████████████████████████████████████████████████| 14/14 [00:00<00:00, 53.60it/s]\n",
      "  5%|████▏                                                                              | 2/40 [00:00<00:02, 13.65it/s]"
     ]
    },
    {
     "name": "stdout",
     "output_type": "stream",
     "text": [
      "Acc at dev is : 0.788\n",
      "ROC is : 0.788635895322481,  prec 0.7900053484239402,  recall 0.788635895322481, f-score 0.7880880059461155\n",
      "Acc at epoch : 177 is : 0.8120510578155518, loss : 16.39224699139595\n"
     ]
    },
    {
     "name": "stderr",
     "output_type": "stream",
     "text": [
      "100%|██████████████████████████████████████████████████████████████████████████████████| 40/40 [00:02<00:00, 13.74it/s]\n",
      "100%|██████████████████████████████████████████████████████████████████████████████████| 14/14 [00:00<00:00, 56.76it/s]\n",
      "  5%|████▏                                                                              | 2/40 [00:00<00:02, 13.72it/s]"
     ]
    },
    {
     "name": "stdout",
     "output_type": "stream",
     "text": [
      "Acc at dev is : 0.786\n",
      "ROC is : 0.786701238638185,  prec 0.7947053182163177,  recall 0.7867012386381849, f-score 0.7845829176689397\n",
      "Acc at epoch : 178 is : 0.8008778691291809, loss : 16.336365818977356\n"
     ]
    },
    {
     "name": "stderr",
     "output_type": "stream",
     "text": [
      "100%|██████████████████████████████████████████████████████████████████████████████████| 40/40 [00:02<00:00, 13.72it/s]\n",
      "100%|██████████████████████████████████████████████████████████████████████████████████| 14/14 [00:00<00:00, 57.22it/s]\n",
      "  5%|████▏                                                                              | 2/40 [00:00<00:02, 13.91it/s]"
     ]
    },
    {
     "name": "stdout",
     "output_type": "stream",
     "text": [
      "Acc at dev is : 0.791\n",
      "ROC is : 0.7909597728781739,  prec 0.7918166422687218,  recall 0.7909597728781739, f-score 0.790561675506596\n",
      "Acc at epoch : 179 is : 0.7968874573707581, loss : 16.52443018555641\n"
     ]
    },
    {
     "name": "stderr",
     "output_type": "stream",
     "text": [
      "100%|██████████████████████████████████████████████████████████████████████████████████| 40/40 [00:02<00:00, 13.76it/s]\n",
      "100%|██████████████████████████████████████████████████████████████████████████████████| 14/14 [00:00<00:00, 56.56it/s]\n",
      "  5%|████▏                                                                              | 2/40 [00:00<00:02, 13.51it/s]"
     ]
    },
    {
     "name": "stdout",
     "output_type": "stream",
     "text": [
      "Acc at dev is : 0.792\n",
      "ROC is : 0.7920530256198914,  prec 0.7923542354235424,  recall 0.7920530256198914, f-score 0.7918362440540587\n",
      "Acc at epoch : 180 is : 0.8048683404922485, loss : 16.399128794670105\n"
     ]
    },
    {
     "name": "stderr",
     "output_type": "stream",
     "text": [
      "100%|██████████████████████████████████████████████████████████████████████████████████| 40/40 [00:02<00:00, 13.65it/s]\n",
      "100%|██████████████████████████████████████████████████████████████████████████████████| 14/14 [00:00<00:00, 54.06it/s]\n",
      "  5%|████▏                                                                              | 2/40 [00:00<00:02, 13.63it/s]"
     ]
    },
    {
     "name": "stdout",
     "output_type": "stream",
     "text": [
      "Acc at dev is : 0.798\n",
      "ROC is : 0.7981832543443919,  prec 0.7994051553205552,  recall 0.7981832543443919, f-score 0.7976937627350662\n",
      "Acc at epoch : 181 is : 0.8008778691291809, loss : 16.381498724222183\n"
     ]
    },
    {
     "name": "stderr",
     "output_type": "stream",
     "text": [
      "100%|██████████████████████████████████████████████████████████████████████████████████| 40/40 [00:02<00:00, 13.56it/s]\n",
      "100%|██████████████████████████████████████████████████████████████████████████████████| 14/14 [00:00<00:00, 54.28it/s]\n",
      "  5%|████▏                                                                              | 2/40 [00:00<00:02, 13.41it/s]"
     ]
    },
    {
     "name": "stdout",
     "output_type": "stream",
     "text": [
      "Acc at dev is : 0.794\n",
      "ROC is : 0.7943769031755844,  prec 0.7944578037329669,  recall 0.7943769031755844, f-score 0.794253663003663\n",
      "Acc at epoch : 182 is : 0.8076615929603577, loss : 16.53962069749832\n"
     ]
    },
    {
     "name": "stderr",
     "output_type": "stream",
     "text": [
      "100%|██████████████████████████████████████████████████████████████████████████████████| 40/40 [00:02<00:00, 13.79it/s]\n",
      "100%|██████████████████████████████████████████████████████████████████████████████████| 14/14 [00:00<00:00, 53.77it/s]\n",
      "  5%|████▏                                                                              | 2/40 [00:00<00:02, 13.83it/s]"
     ]
    },
    {
     "name": "stdout",
     "output_type": "stream",
     "text": [
      "Acc at dev is : 0.787\n",
      "ROC is : 0.7871763170547428,  prec 0.7872091958234109,  recall 0.7871763170547428, f-score 0.7870801211059792\n",
      "Acc at epoch : 183 is : 0.811253011226654, loss : 16.132449343800545\n"
     ]
    },
    {
     "name": "stderr",
     "output_type": "stream",
     "text": [
      "100%|██████████████████████████████████████████████████████████████████████████████████| 40/40 [00:02<00:00, 13.73it/s]\n",
      "100%|██████████████████████████████████████████████████████████████████████████████████| 14/14 [00:00<00:00, 56.81it/s]\n",
      "  5%|████▏                                                                              | 2/40 [00:00<00:02, 13.82it/s]"
     ]
    },
    {
     "name": "stdout",
     "output_type": "stream",
     "text": [
      "Acc at dev is : 0.801\n",
      "ROC is : 0.8017148613686838,  prec 0.8025252525252525,  recall 0.8017148613686838, f-score 0.801343311784612\n",
      "Acc at epoch : 184 is : 0.8036711812019348, loss : 16.50749495625496\n"
     ]
    },
    {
     "name": "stderr",
     "output_type": "stream",
     "text": [
      "100%|██████████████████████████████████████████████████████████████████████████████████| 40/40 [00:02<00:00, 13.73it/s]\n",
      "100%|██████████████████████████████████████████████████████████████████████████████████| 14/14 [00:00<00:00, 56.90it/s]\n",
      "  5%|████▏                                                                              | 2/40 [00:00<00:02, 13.86it/s]"
     ]
    },
    {
     "name": "stdout",
     "output_type": "stream",
     "text": [
      "Acc at dev is : 0.786\n",
      "ROC is : 0.785670948096252,  prec 0.7863675745769811,  recall 0.785670948096252, f-score 0.7856935201375971\n",
      "Acc at epoch : 185 is : 0.798483669757843, loss : 16.757577776908875\n"
     ]
    },
    {
     "name": "stderr",
     "output_type": "stream",
     "text": [
      "100%|██████████████████████████████████████████████████████████████████████████████████| 40/40 [00:02<00:00, 13.67it/s]\n",
      "100%|██████████████████████████████████████████████████████████████████████████████████| 14/14 [00:00<00:00, 57.09it/s]\n",
      "  5%|████▏                                                                              | 2/40 [00:00<00:02, 13.64it/s]"
     ]
    },
    {
     "name": "stdout",
     "output_type": "stream",
     "text": [
      "Acc at dev is : 0.788\n",
      "ROC is : 0.7886129999771048,  prec 0.7897956837840168,  recall 0.7886129999771047, f-score 0.7881171361189747\n",
      "Acc at epoch : 186 is : 0.7992817163467407, loss : 16.80155900120735\n"
     ]
    },
    {
     "name": "stderr",
     "output_type": "stream",
     "text": [
      "100%|██████████████████████████████████████████████████████████████████████████████████| 40/40 [00:02<00:00, 13.64it/s]\n",
      "100%|██████████████████████████████████████████████████████████████████████████████████| 14/14 [00:00<00:00, 55.75it/s]\n",
      "  5%|████▏                                                                              | 2/40 [00:00<00:02, 13.80it/s]"
     ]
    },
    {
     "name": "stdout",
     "output_type": "stream",
     "text": [
      "Acc at dev is : 0.798\n",
      "ROC is : 0.7980916729628865,  prec 0.7986814863245069,  recall 0.7980916729628866, f-score 0.7977817885671511\n",
      "Acc at epoch : 187 is : 0.7968874573707581, loss : 16.847536236047745\n"
     ]
    },
    {
     "name": "stderr",
     "output_type": "stream",
     "text": [
      "100%|██████████████████████████████████████████████████████████████████████████████████| 40/40 [00:02<00:00, 13.77it/s]\n",
      "100%|██████████████████████████████████████████████████████████████████████████████████| 14/14 [00:00<00:00, 54.86it/s]\n",
      "  5%|████▏                                                                              | 2/40 [00:00<00:02, 13.79it/s]"
     ]
    },
    {
     "name": "stdout",
     "output_type": "stream",
     "text": [
      "Acc at dev is : 0.788\n",
      "ROC is : 0.7886587906678573,  prec 0.7902286447632695,  recall 0.7886587906678573, f-score 0.788056439218697\n",
      "Acc at epoch : 188 is : 0.8036711812019348, loss : 16.427862018346786\n"
     ]
    },
    {
     "name": "stderr",
     "output_type": "stream",
     "text": [
      "100%|██████████████████████████████████████████████████████████████████████████████████| 40/40 [00:02<00:00, 13.82it/s]\n",
      "100%|██████████████████████████████████████████████████████████████████████████████████| 14/14 [00:00<00:00, 53.16it/s]\n",
      "  5%|████▏                                                                              | 2/40 [00:00<00:02, 13.93it/s]"
     ]
    },
    {
     "name": "stdout",
     "output_type": "stream",
     "text": [
      "Acc at dev is : 0.780\n",
      "ROC is : 0.7812120795842206,  prec 0.8029350104821802,  recall 0.7812120795842206, f-score 0.7761687465077296\n",
      "Acc at epoch : 189 is : 0.7940942049026489, loss : 16.801108479499817\n"
     ]
    },
    {
     "name": "stderr",
     "output_type": "stream",
     "text": [
      "100%|██████████████████████████████████████████████████████████████████████████████████| 40/40 [00:02<00:00, 13.75it/s]\n",
      "100%|██████████████████████████████████████████████████████████████████████████████████| 14/14 [00:00<00:00, 53.53it/s]\n",
      "  5%|████▏                                                                              | 2/40 [00:00<00:02, 13.79it/s]"
     ]
    },
    {
     "name": "stdout",
     "output_type": "stream",
     "text": [
      "Acc at dev is : 0.783\n",
      "ROC is : 0.7842857797009869,  prec 0.7917555144359268,  recall 0.7842857797009868, f-score 0.7822562657660446\n",
      "Acc at epoch : 190 is : 0.8048683404922485, loss : 16.600748628377914\n"
     ]
    },
    {
     "name": "stderr",
     "output_type": "stream",
     "text": [
      "100%|██████████████████████████████████████████████████████████████████████████████████| 40/40 [00:02<00:00, 13.78it/s]\n",
      "100%|██████████████████████████████████████████████████████████████████████████████████| 14/14 [00:00<00:00, 51.68it/s]\n",
      "  5%|████▏                                                                              | 2/40 [00:00<00:02, 13.50it/s]"
     ]
    },
    {
     "name": "stdout",
     "output_type": "stream",
     "text": [
      "Acc at dev is : 0.788\n",
      "ROC is : 0.7882924651418366,  prec 0.7882677151834618,  recall 0.7882924651418366, f-score 0.7882699382289435\n",
      "Acc at epoch : 191 is : 0.8000798225402832, loss : 17.011723160743713\n"
     ]
    },
    {
     "name": "stderr",
     "output_type": "stream",
     "text": [
      "100%|██████████████████████████████████████████████████████████████████████████████████| 40/40 [00:02<00:00, 13.67it/s]\n",
      "100%|██████████████████████████████████████████████████████████████████████████████████| 14/14 [00:00<00:00, 55.94it/s]\n",
      "  5%|████▏                                                                              | 2/40 [00:00<00:02, 13.84it/s]"
     ]
    },
    {
     "name": "stdout",
     "output_type": "stream",
     "text": [
      "Acc at dev is : 0.783\n",
      "ROC is : 0.78469789591776,  prec 0.8030740639185936,  recall 0.78469789591776, f-score 0.7804134408173038\n",
      "Acc at epoch : 192 is : 0.8048683404922485, loss : 16.41994994878769\n"
     ]
    },
    {
     "name": "stderr",
     "output_type": "stream",
     "text": [
      "100%|██████████████████████████████████████████████████████████████████████████████████| 40/40 [00:02<00:00, 13.82it/s]\n",
      "100%|██████████████████████████████████████████████████████████████████████████████████| 14/14 [00:00<00:00, 53.43it/s]\n",
      "  5%|████▏                                                                              | 2/40 [00:00<00:02, 13.01it/s]"
     ]
    },
    {
     "name": "stdout",
     "output_type": "stream",
     "text": [
      "Acc at dev is : 0.786\n",
      "ROC is : 0.7867699246743137,  prec 0.7962820596218783,  recall 0.7867699246743137, f-score 0.78432957894661\n",
      "Acc at epoch : 193 is : 0.80686354637146, loss : 17.04799884557724\n"
     ]
    },
    {
     "name": "stderr",
     "output_type": "stream",
     "text": [
      "100%|██████████████████████████████████████████████████████████████████████████████████| 40/40 [00:02<00:00, 13.77it/s]\n",
      "100%|██████████████████████████████████████████████████████████████████████████████████| 14/14 [00:00<00:00, 57.09it/s]\n",
      "  5%|████▏                                                                              | 2/40 [00:00<00:02, 13.26it/s]"
     ]
    },
    {
     "name": "stdout",
     "output_type": "stream",
     "text": [
      "Acc at dev is : 0.798\n",
      "ROC is : 0.7980229869267578,  prec 0.7982842084156856,  recall 0.7980229869267578, f-score 0.7978234582829504\n",
      "Acc at epoch : 194 is : 0.8056663870811462, loss : 16.524560898542404\n"
     ]
    },
    {
     "name": "stderr",
     "output_type": "stream",
     "text": [
      "100%|██████████████████████████████████████████████████████████████████████████████████| 40/40 [00:02<00:00, 13.65it/s]\n",
      "100%|██████████████████████████████████████████████████████████████████████████████████| 14/14 [00:00<00:00, 57.26it/s]\n",
      "  5%|████▏                                                                              | 2/40 [00:00<00:02, 13.36it/s]"
     ]
    },
    {
     "name": "stdout",
     "output_type": "stream",
     "text": [
      "Acc at dev is : 0.788\n",
      "ROC is : 0.7892769649930169,  prec 0.8017271744905939,  recall 0.7892769649930169, f-score 0.7862710970845039\n",
      "Acc at epoch : 195 is : 0.8096567988395691, loss : 16.345117777585983\n"
     ]
    },
    {
     "name": "stderr",
     "output_type": "stream",
     "text": [
      "100%|██████████████████████████████████████████████████████████████████████████████████| 40/40 [00:02<00:00, 13.77it/s]\n",
      "100%|██████████████████████████████████████████████████████████████████████████████████| 14/14 [00:00<00:00, 57.09it/s]\n",
      "  5%|████▏                                                                              | 2/40 [00:00<00:02, 13.88it/s]"
     ]
    },
    {
     "name": "stdout",
     "output_type": "stream",
     "text": [
      "Acc at dev is : 0.792\n",
      "ROC is : 0.7921675023467729,  prec 0.7931070124262123,  recall 0.7921675023467729, f-score 0.7917468389224849\n",
      "Acc at epoch : 196 is : 0.7988826632499695, loss : 16.755372047424316\n"
     ]
    },
    {
     "name": "stderr",
     "output_type": "stream",
     "text": [
      "100%|██████████████████████████████████████████████████████████████████████████████████| 40/40 [00:02<00:00, 13.70it/s]\n",
      "100%|██████████████████████████████████████████████████████████████████████████████████| 14/14 [00:00<00:00, 55.91it/s]\n",
      "  5%|████▏                                                                              | 2/40 [00:00<00:02, 13.67it/s]"
     ]
    },
    {
     "name": "stdout",
     "output_type": "stream",
     "text": [
      "Acc at dev is : 0.795\n",
      "ROC is : 0.7956533186803123,  prec 0.7960074269766588,  recall 0.7956533186803123, f-score 0.7954191263282172\n",
      "Acc at epoch : 197 is : 0.8116520643234253, loss : 16.25871455669403\n"
     ]
    },
    {
     "name": "stderr",
     "output_type": "stream",
     "text": [
      "100%|██████████████████████████████████████████████████████████████████████████████████| 40/40 [00:02<00:00, 13.74it/s]\n",
      "100%|██████████████████████████████████████████████████████████████████████████████████| 14/14 [00:00<00:00, 56.94it/s]\n",
      "  5%|████▏                                                                              | 2/40 [00:00<00:02, 13.68it/s]"
     ]
    },
    {
     "name": "stdout",
     "output_type": "stream",
     "text": [
      "Acc at dev is : 0.772\n",
      "ROC is : 0.7709034503285482,  prec 0.7760110803324101,  recall 0.7709034503285482, f-score 0.7703081957780415\n",
      "Acc at epoch : 198 is : 0.8072625994682312, loss : 16.508362889289856\n"
     ]
    },
    {
     "name": "stderr",
     "output_type": "stream",
     "text": [
      "100%|██████████████████████████████████████████████████████████████████████████████████| 40/40 [00:02<00:00, 13.70it/s]\n",
      "100%|██████████████████████████████████████████████████████████████████████████████████| 14/14 [00:00<00:00, 56.85it/s]\n",
      "  5%|████▏                                                                              | 2/40 [00:00<00:02, 13.81it/s]"
     ]
    },
    {
     "name": "stdout",
     "output_type": "stream",
     "text": [
      "Acc at dev is : 0.794\n",
      "ROC is : 0.7946974380108524,  prec 0.7968724773392992,  recall 0.7946974380108524, f-score 0.7939564848568219\n",
      "Acc at epoch : 199 is : 0.7968874573707581, loss : 16.75634127855301\n"
     ]
    },
    {
     "name": "stderr",
     "output_type": "stream",
     "text": [
      "100%|██████████████████████████████████████████████████████████████████████████████████| 40/40 [00:02<00:00, 13.79it/s]\n",
      "100%|██████████████████████████████████████████████████████████████████████████████████| 14/14 [00:00<00:00, 56.90it/s]\n",
      "  5%|████▏                                                                              | 2/40 [00:00<00:02, 13.87it/s]"
     ]
    },
    {
     "name": "stdout",
     "output_type": "stream",
     "text": [
      "Acc at dev is : 0.795\n",
      "ROC is : 0.795149621082034,  prec 0.7965499790088738,  recall 0.795149621082034, f-score 0.7951353311159103\n",
      "Acc at epoch : 200 is : 0.7992817163467407, loss : 16.73379945755005\n"
     ]
    },
    {
     "name": "stderr",
     "output_type": "stream",
     "text": [
      "100%|██████████████████████████████████████████████████████████████████████████████████| 40/40 [00:02<00:00, 13.82it/s]\n",
      "100%|██████████████████████████████████████████████████████████████████████████████████| 14/14 [00:00<00:00, 55.04it/s]\n",
      "  5%|████▏                                                                              | 2/40 [00:00<00:02, 13.38it/s]"
     ]
    },
    {
     "name": "stdout",
     "output_type": "stream",
     "text": [
      "Acc at dev is : 0.783\n",
      "ROC is : 0.7842857797009869,  prec 0.7917555144359268,  recall 0.7842857797009868, f-score 0.7822562657660446\n",
      "Acc at epoch : 201 is : 0.8012769222259521, loss : 16.93888333439827\n"
     ]
    },
    {
     "name": "stderr",
     "output_type": "stream",
     "text": [
      "100%|██████████████████████████████████████████████████████████████████████████████████| 40/40 [00:02<00:00, 13.71it/s]\n",
      "100%|██████████████████████████████████████████████████████████████████████████████████| 14/14 [00:00<00:00, 55.28it/s]\n",
      "  5%|████▏                                                                              | 2/40 [00:00<00:02, 13.69it/s]"
     ]
    },
    {
     "name": "stdout",
     "output_type": "stream",
     "text": [
      "Acc at dev is : 0.780\n",
      "ROC is : 0.7807312773313184,  prec 0.7888048803467118,  recall 0.7807312773313185, f-score 0.7785239151092809\n",
      "Acc at epoch : 202 is : 0.8020750284194946, loss : 16.927736401557922\n"
     ]
    },
    {
     "name": "stderr",
     "output_type": "stream",
     "text": [
      "100%|██████████████████████████████████████████████████████████████████████████████████| 40/40 [00:02<00:00, 13.70it/s]\n",
      "100%|██████████████████████████████████████████████████████████████████████████████████| 14/14 [00:00<00:00, 57.14it/s]\n",
      "  5%|████▏                                                                              | 2/40 [00:00<00:02, 13.86it/s]"
     ]
    },
    {
     "name": "stdout",
     "output_type": "stream",
     "text": [
      "Acc at dev is : 0.788\n",
      "ROC is : 0.7885214185955995,  prec 0.7890922959572845,  recall 0.7885214185955995, f-score 0.7882093288543535\n",
      "Acc at epoch : 203 is : 0.8056663870811462, loss : 16.593685746192932\n"
     ]
    },
    {
     "name": "stderr",
     "output_type": "stream",
     "text": [
      "100%|██████████████████████████████████████████████████████████████████████████████████| 40/40 [00:02<00:00, 13.79it/s]\n",
      "100%|██████████████████████████████████████████████████████████████████████████████████| 14/14 [00:00<00:00, 55.51it/s]\n",
      "  5%|████▏                                                                              | 2/40 [00:00<00:02, 13.81it/s]"
     ]
    },
    {
     "name": "stdout",
     "output_type": "stream",
     "text": [
      "Acc at dev is : 0.798\n",
      "ROC is : 0.7981832543443919,  prec 0.7994051553205552,  recall 0.7981832543443919, f-score 0.7976937627350662\n",
      "Acc at epoch : 204 is : 0.8036711812019348, loss : 16.62841334939003\n"
     ]
    },
    {
     "name": "stderr",
     "output_type": "stream",
     "text": [
      "100%|██████████████████████████████████████████████████████████████████████████████████| 40/40 [00:02<00:00, 13.76it/s]\n",
      "100%|██████████████████████████████████████████████████████████████████████████████████| 14/14 [00:00<00:00, 56.01it/s]\n",
      "  5%|████▏                                                                              | 2/40 [00:00<00:02, 13.45it/s]"
     ]
    },
    {
     "name": "stdout",
     "output_type": "stream",
     "text": [
      "Acc at dev is : 0.794\n",
      "ROC is : 0.7944684845570895,  prec 0.7948735584749065,  recall 0.7944684845570895, f-score 0.7942159736215424\n",
      "Acc at epoch : 205 is : 0.8044692873954773, loss : 16.493624538183212\n"
     ]
    },
    {
     "name": "stderr",
     "output_type": "stream",
     "text": [
      "100%|██████████████████████████████████████████████████████████████████████████████████| 40/40 [00:02<00:00, 13.72it/s]\n",
      "100%|██████████████████████████████████████████████████████████████████████████████████| 14/14 [00:00<00:00, 53.58it/s]\n",
      "  5%|████▏                                                                              | 2/40 [00:00<00:02, 13.71it/s]"
     ]
    },
    {
     "name": "stdout",
     "output_type": "stream",
     "text": [
      "Acc at dev is : 0.795\n",
      "ROC is : 0.7957220047164412,  prec 0.7964431413276108,  recall 0.7957220047164412, f-score 0.7953699290158845\n",
      "Acc at epoch : 206 is : 0.8064644932746887, loss : 16.264583259820938\n"
     ]
    },
    {
     "name": "stderr",
     "output_type": "stream",
     "text": [
      "100%|██████████████████████████████████████████████████████████████████████████████████| 40/40 [00:02<00:00, 13.71it/s]\n",
      "100%|██████████████████████████████████████████████████████████████████████████████████| 14/14 [00:00<00:00, 55.98it/s]\n",
      "  5%|████▏                                                                              | 2/40 [00:00<00:02, 13.84it/s]"
     ]
    },
    {
     "name": "stdout",
     "output_type": "stream",
     "text": [
      "Acc at dev is : 0.789\n",
      "ROC is : 0.7895001946104356,  prec 0.7894736842105263,  recall 0.7895001946104356, f-score 0.7894688644688644\n",
      "Acc at epoch : 207 is : 0.8028731346130371, loss : 16.316346138715744\n"
     ]
    },
    {
     "name": "stderr",
     "output_type": "stream",
     "text": [
      "100%|██████████████████████████████████████████████████████████████████████████████████| 40/40 [00:02<00:00, 13.82it/s]\n",
      "100%|██████████████████████████████████████████████████████████████████████████████████| 14/14 [00:00<00:00, 55.98it/s]\n",
      "  5%|████▏                                                                              | 2/40 [00:00<00:02, 13.83it/s]"
     ]
    },
    {
     "name": "stdout",
     "output_type": "stream",
     "text": [
      "Acc at dev is : 0.799\n",
      "ROC is : 0.7992078210499806,  prec 0.799427196700653,  recall 0.7992078210499804, f-score 0.7990246582869702\n",
      "Acc at epoch : 208 is : 0.8048683404922485, loss : 16.41381150484085\n"
     ]
    },
    {
     "name": "stderr",
     "output_type": "stream",
     "text": [
      "100%|██████████████████████████████████████████████████████████████████████████████████| 40/40 [00:02<00:00, 13.64it/s]\n",
      "100%|██████████████████████████████████████████████████████████████████████████████████| 14/14 [00:00<00:00, 53.97it/s]\n",
      "  5%|████▏                                                                              | 2/40 [00:00<00:02, 13.27it/s]"
     ]
    },
    {
     "name": "stdout",
     "output_type": "stream",
     "text": [
      "Acc at dev is : 0.780\n",
      "ROC is : 0.7805710099136846,  prec 0.7856726577616151,  recall 0.7805710099136846, f-score 0.7790494576208862\n",
      "Acc at epoch : 209 is : 0.7992817163467407, loss : 16.728249818086624\n"
     ]
    },
    {
     "name": "stderr",
     "output_type": "stream",
     "text": [
      "100%|██████████████████████████████████████████████████████████████████████████████████| 40/40 [00:02<00:00, 13.73it/s]\n",
      "100%|██████████████████████████████████████████████████████████████████████████████████| 14/14 [00:00<00:00, 53.64it/s]\n",
      "  5%|████▏                                                                              | 2/40 [00:00<00:02, 13.80it/s]"
     ]
    },
    {
     "name": "stdout",
     "output_type": "stream",
     "text": [
      "Acc at dev is : 0.797\n",
      "ROC is : 0.7967236760766536,  prec 0.7967236760766536,  recall 0.7967236760766536, f-score 0.7966507177033494\n",
      "Acc at epoch : 210 is : 0.805267333984375, loss : 16.49088740348816\n"
     ]
    },
    {
     "name": "stderr",
     "output_type": "stream",
     "text": [
      "100%|██████████████████████████████████████████████████████████████████████████████████| 40/40 [00:02<00:00, 13.67it/s]\n",
      "100%|██████████████████████████████████████████████████████████████████████████████████| 14/14 [00:00<00:00, 56.22it/s]\n",
      "  5%|████▏                                                                              | 2/40 [00:00<00:02, 13.82it/s]"
     ]
    },
    {
     "name": "stdout",
     "output_type": "stream",
     "text": [
      "Acc at dev is : 0.764\n",
      "ROC is : 0.7659695033999587,  prec 0.7990096716279609,  recall 0.7659695033999587, f-score 0.7580446353671598\n",
      "Acc at epoch : 211 is : 0.8060654401779175, loss : 16.156629249453545\n"
     ]
    },
    {
     "name": "stderr",
     "output_type": "stream",
     "text": [
      "100%|██████████████████████████████████████████████████████████████████████████████████| 40/40 [00:02<00:00, 13.61it/s]\n",
      "100%|██████████████████████████████████████████████████████████████████████████████████| 14/14 [00:00<00:00, 50.96it/s]\n",
      "  5%|████▏                                                                              | 2/40 [00:00<00:02, 13.11it/s]"
     ]
    },
    {
     "name": "stdout",
     "output_type": "stream",
     "text": [
      "Acc at dev is : 0.776\n",
      "ROC is : 0.7757801588936969,  prec 0.7795970357990518,  recall 0.7757801588936969, f-score 0.7754131308299106\n",
      "Acc at epoch : 212 is : 0.8008778691291809, loss : 16.55067977309227\n"
     ]
    },
    {
     "name": "stderr",
     "output_type": "stream",
     "text": [
      "100%|██████████████████████████████████████████████████████████████████████████████████| 40/40 [00:02<00:00, 13.54it/s]\n",
      "100%|██████████████████████████████████████████████████████████████████████████████████| 14/14 [00:00<00:00, 55.30it/s]\n",
      "  5%|████▏                                                                              | 2/40 [00:00<00:02, 13.78it/s]"
     ]
    },
    {
     "name": "stdout",
     "output_type": "stream",
     "text": [
      "Acc at dev is : 0.793\n",
      "ROC is : 0.7936041852691348,  prec 0.7970196700617838,  recall 0.7936041852691348, f-score 0.7925632695796849\n",
      "Acc at epoch : 213 is : 0.805267333984375, loss : 16.229899540543556\n"
     ]
    },
    {
     "name": "stderr",
     "output_type": "stream",
     "text": [
      "100%|██████████████████████████████████████████████████████████████████████████████████| 40/40 [00:02<00:00, 13.71it/s]\n",
      "100%|██████████████████████████████████████████████████████████████████████████████████| 14/14 [00:00<00:00, 53.43it/s]\n",
      "  5%|████▏                                                                              | 2/40 [00:00<00:02, 13.70it/s]"
     ]
    },
    {
     "name": "stdout",
     "output_type": "stream",
     "text": [
      "Acc at dev is : 0.799\n",
      "ROC is : 0.7993451931222383,  prec 0.800307784183568,  recall 0.7993451931222383, f-score 0.7989279824079165\n",
      "Acc at epoch : 214 is : 0.8012769222259521, loss : 16.501265466213226\n"
     ]
    },
    {
     "name": "stderr",
     "output_type": "stream",
     "text": [
      "100%|██████████████████████████████████████████████████████████████████████████████████| 40/40 [00:03<00:00, 13.19it/s]\n",
      "100%|██████████████████████████████████████████████████████████████████████████████████| 14/14 [00:00<00:00, 49.51it/s]\n",
      "  5%|████▏                                                                              | 2/40 [00:00<00:03, 12.56it/s]"
     ]
    },
    {
     "name": "stdout",
     "output_type": "stream",
     "text": [
      "Acc at dev is : 0.789\n",
      "ROC is : 0.7903931130801107,  prec 0.8008420303605313,  recall 0.7903931130801108, f-score 0.7878111389922414\n",
      "Acc at epoch : 215 is : 0.8032721281051636, loss : 16.432223945856094\n"
     ]
    },
    {
     "name": "stderr",
     "output_type": "stream",
     "text": [
      "100%|██████████████████████████████████████████████████████████████████████████████████| 40/40 [00:03<00:00, 13.33it/s]\n",
      "100%|██████████████████████████████████████████████████████████████████████████████████| 14/14 [00:00<00:00, 53.33it/s]\n",
      "  5%|████▏                                                                              | 2/40 [00:00<00:02, 13.42it/s]"
     ]
    },
    {
     "name": "stdout",
     "output_type": "stream",
     "text": [
      "Acc at dev is : 0.791\n",
      "ROC is : 0.7910284589143028,  prec 0.7924092637003042,  recall 0.7910284589143027, f-score 0.790482491754634\n",
      "Acc at epoch : 216 is : 0.8084596991539001, loss : 16.616002917289734\n"
     ]
    },
    {
     "name": "stderr",
     "output_type": "stream",
     "text": [
      "100%|██████████████████████████████████████████████████████████████████████████████████| 40/40 [00:03<00:00, 13.27it/s]\n",
      "100%|██████████████████████████████████████████████████████████████████████████████████| 14/14 [00:00<00:00, 51.13it/s]\n",
      "  5%|████▏                                                                              | 2/40 [00:00<00:02, 13.55it/s]"
     ]
    },
    {
     "name": "stdout",
     "output_type": "stream",
     "text": [
      "Acc at dev is : 0.795\n",
      "ROC is : 0.7956533186803123,  prec 0.7960074269766588,  recall 0.7956533186803123, f-score 0.7954191263282172\n",
      "Acc at epoch : 217 is : 0.8036711812019348, loss : 16.621523708105087\n"
     ]
    },
    {
     "name": "stderr",
     "output_type": "stream",
     "text": [
      "100%|██████████████████████████████████████████████████████████████████████████████████| 40/40 [00:02<00:00, 13.40it/s]\n",
      "100%|██████████████████████████████████████████████████████████████████████████████████| 14/14 [00:00<00:00, 53.85it/s]\n",
      "  5%|████▏                                                                              | 2/40 [00:00<00:02, 13.26it/s]"
     ]
    },
    {
     "name": "stdout",
     "output_type": "stream",
     "text": [
      "Acc at dev is : 0.792\n",
      "ROC is : 0.7918698628568812,  prec 0.7918498168498168,  recall 0.7918698628568812, f-score 0.7918553072146066\n",
      "Acc at epoch : 218 is : 0.8064644932746887, loss : 16.46789225935936\n"
     ]
    },
    {
     "name": "stderr",
     "output_type": "stream",
     "text": [
      "100%|██████████████████████████████████████████████████████████████████████████████████| 40/40 [00:02<00:00, 13.35it/s]\n",
      "100%|██████████████████████████████████████████████████████████████████████████████████| 14/14 [00:00<00:00, 55.60it/s]\n",
      "  5%|████▏                                                                              | 2/40 [00:00<00:02, 13.66it/s]"
     ]
    },
    {
     "name": "stdout",
     "output_type": "stream",
     "text": [
      "Acc at dev is : 0.793\n",
      "ROC is : 0.7933523364699957,  prec 0.7942162519016045,  recall 0.7933523364699957, f-score 0.7929552563579492\n",
      "Acc at epoch : 219 is : 0.804070234298706, loss : 16.536278158426285\n"
     ]
    },
    {
     "name": "stderr",
     "output_type": "stream",
     "text": [
      "100%|██████████████████████████████████████████████████████████████████████████████████| 40/40 [00:02<00:00, 13.67it/s]\n",
      "100%|██████████████████████████████████████████████████████████████████████████████████| 14/14 [00:00<00:00, 56.36it/s]\n",
      "  5%|████▏                                                                              | 2/40 [00:00<00:02, 13.71it/s]"
     ]
    },
    {
     "name": "stdout",
     "output_type": "stream",
     "text": [
      "Acc at dev is : 0.793\n",
      "ROC is : 0.7933523364699957,  prec 0.7942162519016045,  recall 0.7933523364699957, f-score 0.7929552563579492\n",
      "Acc at epoch : 220 is : 0.8088587522506714, loss : 16.342268154025078\n"
     ]
    },
    {
     "name": "stderr",
     "output_type": "stream",
     "text": [
      "100%|██████████████████████████████████████████████████████████████████████████████████| 40/40 [00:02<00:00, 13.66it/s]\n",
      "100%|██████████████████████████████████████████████████████████████████████████████████| 14/14 [00:00<00:00, 55.20it/s]\n",
      "  5%|████▏                                                                              | 2/40 [00:00<00:02, 13.80it/s]"
     ]
    },
    {
     "name": "stdout",
     "output_type": "stream",
     "text": [
      "Acc at dev is : 0.795\n",
      "ROC is : 0.7958135860979463,  prec 0.7972170942530322,  recall 0.7958135860979463, f-score 0.7952714633716709\n",
      "Acc at epoch : 221 is : 0.8076615929603577, loss : 16.22910961508751\n"
     ]
    },
    {
     "name": "stderr",
     "output_type": "stream",
     "text": [
      "100%|██████████████████████████████████████████████████████████████████████████████████| 40/40 [00:02<00:00, 13.70it/s]\n",
      "100%|██████████████████████████████████████████████████████████████████████████████████| 14/14 [00:00<00:00, 55.69it/s]\n",
      "  5%|████▏                                                                              | 2/40 [00:00<00:02, 13.34it/s]"
     ]
    },
    {
     "name": "stdout",
     "output_type": "stream",
     "text": [
      "Acc at dev is : 0.791\n",
      "ROC is : 0.7910971449504315,  prec 0.7931256087931342,  recall 0.7910971449504316, f-score 0.7903816257960985\n",
      "Acc at epoch : 222 is : 0.8092578053474426, loss : 16.593404203653336\n"
     ]
    },
    {
     "name": "stderr",
     "output_type": "stream",
     "text": [
      "100%|██████████████████████████████████████████████████████████████████████████████████| 40/40 [00:02<00:00, 13.68it/s]\n",
      "100%|██████████████████████████████████████████████████████████████████████████████████| 14/14 [00:00<00:00, 56.13it/s]\n",
      "  5%|████▏                                                                              | 2/40 [00:00<00:02, 13.83it/s]"
     ]
    },
    {
     "name": "stdout",
     "output_type": "stream",
     "text": [
      "Acc at dev is : 0.798\n",
      "ROC is : 0.7979314055452527,  prec 0.7979467541313917,  recall 0.7979314055452527, f-score 0.7978466007053993\n",
      "Acc at epoch : 223 is : 0.805267333984375, loss : 16.518508970737457\n"
     ]
    },
    {
     "name": "stderr",
     "output_type": "stream",
     "text": [
      "100%|██████████████████████████████████████████████████████████████████████████████████| 40/40 [00:02<00:00, 13.64it/s]\n",
      "100%|██████████████████████████████████████████████████████████████████████████████████| 14/14 [00:00<00:00, 55.38it/s]\n",
      "  5%|████▏                                                                              | 2/40 [00:00<00:02, 13.77it/s]"
     ]
    },
    {
     "name": "stdout",
     "output_type": "stream",
     "text": [
      "Acc at dev is : 0.789\n",
      "ROC is : 0.7896833573734461,  prec 0.790081848820414,  recall 0.7896833573734461, f-score 0.7894302985894852\n",
      "Acc at epoch : 224 is : 0.8008778691291809, loss : 16.307424008846283\n"
     ]
    },
    {
     "name": "stderr",
     "output_type": "stream",
     "text": [
      "100%|██████████████████████████████████████████████████████████████████████████████████| 40/40 [00:02<00:00, 13.73it/s]\n",
      "100%|██████████████████████████████████████████████████████████████████████████████████| 14/14 [00:00<00:00, 55.99it/s]\n",
      "  5%|████▏                                                                              | 2/40 [00:00<00:02, 13.77it/s]"
     ]
    },
    {
     "name": "stdout",
     "output_type": "stream",
     "text": [
      "Acc at dev is : 0.775\n",
      "ROC is : 0.7761064175653091,  prec 0.7876995013956152,  recall 0.776106417565309, f-score 0.7730412883251312\n",
      "Acc at epoch : 225 is : 0.805267333984375, loss : 16.469192817807198\n"
     ]
    },
    {
     "name": "stderr",
     "output_type": "stream",
     "text": [
      "100%|██████████████████████████████████████████████████████████████████████████████████| 40/40 [00:02<00:00, 13.69it/s]\n",
      "100%|██████████████████████████████████████████████████████████████████████████████████| 14/14 [00:00<00:00, 55.99it/s]\n",
      "  5%|████▏                                                                              | 2/40 [00:00<00:02, 13.34it/s]"
     ]
    },
    {
     "name": "stdout",
     "output_type": "stream",
     "text": [
      "Acc at dev is : 0.778\n",
      "ROC is : 0.7784302951210019,  prec 0.7884487666034156,  recall 0.7784302951210019, f-score 0.7757549537077096\n",
      "Acc at epoch : 226 is : 0.8100558519363403, loss : 16.632219314575195\n"
     ]
    },
    {
     "name": "stderr",
     "output_type": "stream",
     "text": [
      "100%|██████████████████████████████████████████████████████████████████████████████████| 40/40 [00:02<00:00, 13.59it/s]\n",
      "100%|██████████████████████████████████████████████████████████████████████████████████| 14/14 [00:00<00:00, 54.90it/s]\n",
      "  5%|████▏                                                                              | 2/40 [00:00<00:02, 13.31it/s]"
     ]
    },
    {
     "name": "stdout",
     "output_type": "stream",
     "text": [
      "Acc at dev is : 0.795\n",
      "ROC is : 0.7960425395517092,  prec 0.8001398536469304,  recall 0.7960425395517092, f-score 0.7948601678072412\n",
      "Acc at epoch : 227 is : 0.8056663870811462, loss : 16.34177076816559\n"
     ]
    },
    {
     "name": "stderr",
     "output_type": "stream",
     "text": [
      "100%|██████████████████████████████████████████████████████████████████████████████████| 40/40 [00:02<00:00, 13.52it/s]\n",
      "100%|██████████████████████████████████████████████████████████████████████████████████| 14/14 [00:00<00:00, 53.11it/s]\n",
      "  5%|████▏                                                                              | 2/40 [00:00<00:02, 13.74it/s]"
     ]
    },
    {
     "name": "stdout",
     "output_type": "stream",
     "text": [
      "Acc at dev is : 0.793\n",
      "ROC is : 0.7937415573413925,  prec 0.7992797783933518,  recall 0.7937415573413924, f-score 0.7922271210351579\n",
      "Acc at epoch : 228 is : 0.8076615929603577, loss : 16.60354059934616\n"
     ]
    },
    {
     "name": "stderr",
     "output_type": "stream",
     "text": [
      "100%|██████████████████████████████████████████████████████████████████████████████████| 40/40 [00:02<00:00, 13.72it/s]\n",
      "100%|██████████████████████████████████████████████████████████████████████████████████| 14/14 [00:00<00:00, 53.81it/s]\n",
      "  5%|████▏                                                                              | 2/40 [00:00<00:02, 13.70it/s]"
     ]
    },
    {
     "name": "stdout",
     "output_type": "stream",
     "text": [
      "Acc at dev is : 0.778\n",
      "ROC is : 0.7783387137394968,  prec 0.786343508573582,  recall 0.7783387137394968, f-score 0.7761165663604688\n",
      "Acc at epoch : 229 is : 0.8020750284194946, loss : 16.31740714609623\n"
     ]
    },
    {
     "name": "stderr",
     "output_type": "stream",
     "text": [
      "100%|██████████████████████████████████████████████████████████████████████████████████| 40/40 [00:02<00:00, 13.70it/s]\n",
      "100%|██████████████████████████████████████████████████████████████████████████████████| 14/14 [00:00<00:00, 52.52it/s]\n",
      "  5%|████▏                                                                              | 2/40 [00:00<00:02, 13.72it/s]"
     ]
    },
    {
     "name": "stdout",
     "output_type": "stream",
     "text": [
      "Acc at dev is : 0.792\n",
      "ROC is : 0.7915493280216133,  prec 0.7930320324005891,  recall 0.7915493280216133, f-score 0.7915211970074812\n",
      "Acc at epoch : 230 is : 0.8080606460571289, loss : 16.531436383724213\n"
     ]
    },
    {
     "name": "stderr",
     "output_type": "stream",
     "text": [
      "100%|██████████████████████████████████████████████████████████████████████████████████| 40/40 [00:02<00:00, 13.70it/s]\n",
      "100%|██████████████████████████████████████████████████████████████████████████████████| 14/14 [00:00<00:00, 55.89it/s]\n",
      "  5%|████▏                                                                              | 2/40 [00:00<00:02, 13.63it/s]"
     ]
    },
    {
     "name": "stdout",
     "output_type": "stream",
     "text": [
      "Acc at dev is : 0.785\n",
      "ROC is : 0.7852874510611992,  prec 0.7894021739130435,  recall 0.7852874510611992, f-score 0.7840351330405579\n",
      "Acc at epoch : 231 is : 0.8076615929603577, loss : 16.4361709356308\n"
     ]
    },
    {
     "name": "stderr",
     "output_type": "stream",
     "text": [
      "100%|██████████████████████████████████████████████████████████████████████████████████| 40/40 [00:02<00:00, 13.62it/s]\n",
      "100%|██████████████████████████████████████████████████████████████████████████████████| 14/14 [00:00<00:00, 56.48it/s]\n",
      "  5%|████▏                                                                              | 2/40 [00:00<00:02, 13.80it/s]"
     ]
    },
    {
     "name": "stdout",
     "output_type": "stream",
     "text": [
      "Acc at dev is : 0.789\n",
      "ROC is : 0.7899809968633377,  prec 0.7929116558741905,  recall 0.7899809968633377, f-score 0.7890378119211072\n",
      "Acc at epoch : 232 is : 0.8024740815162659, loss : 16.88894811272621\n"
     ]
    },
    {
     "name": "stderr",
     "output_type": "stream",
     "text": [
      "100%|██████████████████████████████████████████████████████████████████████████████████| 40/40 [00:02<00:00, 13.78it/s]\n",
      "100%|██████████████████████████████████████████████████████████████████████████████████| 14/14 [00:00<00:00, 55.56it/s]\n",
      "  5%|████▏                                                                              | 2/40 [00:00<00:02, 13.82it/s]"
     ]
    },
    {
     "name": "stdout",
     "output_type": "stream",
     "text": [
      "Acc at dev is : 0.792\n",
      "ROC is : 0.7922590837282781,  prec 0.7939550949913645,  recall 0.7922590837282781, f-score 0.7916322882288229\n",
      "Acc at epoch : 233 is : 0.8024740815162659, loss : 16.382539242506027\n"
     ]
    },
    {
     "name": "stderr",
     "output_type": "stream",
     "text": [
      "100%|██████████████████████████████████████████████████████████████████████████████████| 40/40 [00:02<00:00, 13.68it/s]\n",
      "100%|██████████████████████████████████████████████████████████████████████████████████| 14/14 [00:00<00:00, 54.55it/s]\n",
      "  5%|████▏                                                                              | 2/40 [00:00<00:02, 13.78it/s]"
     ]
    },
    {
     "name": "stdout",
     "output_type": "stream",
     "text": [
      "Acc at dev is : 0.799\n",
      "ROC is : 0.7992078210499806,  prec 0.799427196700653,  recall 0.7992078210499804, f-score 0.7990246582869702\n",
      "Acc at epoch : 234 is : 0.8060654401779175, loss : 16.351825058460236\n"
     ]
    },
    {
     "name": "stderr",
     "output_type": "stream",
     "text": [
      "100%|██████████████████████████████████████████████████████████████████████████████████| 40/40 [00:02<00:00, 13.68it/s]\n",
      "100%|██████████████████████████████████████████████████████████████████████████████████| 14/14 [00:00<00:00, 55.16it/s]\n",
      "  5%|████▏                                                                              | 2/40 [00:00<00:02, 13.83it/s]"
     ]
    },
    {
     "name": "stdout",
     "output_type": "stream",
     "text": [
      "Acc at dev is : 0.794\n",
      "ROC is : 0.7946974380108524,  prec 0.7968724773392992,  recall 0.7946974380108524, f-score 0.7939564848568219\n",
      "Acc at epoch : 235 is : 0.804070234298706, loss : 16.65172779560089\n"
     ]
    },
    {
     "name": "stderr",
     "output_type": "stream",
     "text": [
      "100%|██████████████████████████████████████████████████████████████████████████████████| 40/40 [00:02<00:00, 13.64it/s]\n",
      "100%|██████████████████████████████████████████████████████████████████████████████████| 14/14 [00:00<00:00, 55.98it/s]\n",
      "  5%|████▏                                                                              | 2/40 [00:00<00:02, 13.29it/s]"
     ]
    },
    {
     "name": "stdout",
     "output_type": "stream",
     "text": [
      "Acc at dev is : 0.792\n",
      "ROC is : 0.7921217116560204,  prec 0.7927651958422248,  recall 0.7921217116560203, f-score 0.7917897629680523\n",
      "Acc at epoch : 236 is : 0.8000798225402832, loss : 16.870958983898163\n"
     ]
    },
    {
     "name": "stderr",
     "output_type": "stream",
     "text": [
      "100%|██████████████████████████████████████████████████████████████████████████████████| 40/40 [00:02<00:00, 13.61it/s]\n",
      "100%|██████████████████████████████████████████████████████████████████████████████████| 14/14 [00:00<00:00, 55.41it/s]\n",
      "  5%|████▏                                                                              | 2/40 [00:00<00:02, 13.72it/s]"
     ]
    },
    {
     "name": "stdout",
     "output_type": "stream",
     "text": [
      "Acc at dev is : 0.787\n",
      "ROC is : 0.7871763170547428,  prec 0.7872091958234109,  recall 0.7871763170547428, f-score 0.7870801211059792\n",
      "Acc at epoch : 237 is : 0.8004788756370544, loss : 17.101938903331757\n"
     ]
    },
    {
     "name": "stderr",
     "output_type": "stream",
     "text": [
      "100%|██████████████████████████████████████████████████████████████████████████████████| 40/40 [00:02<00:00, 13.68it/s]\n",
      "100%|██████████████████████████████████████████████████████████████████████████████████| 14/14 [00:00<00:00, 55.14it/s]\n",
      "  5%|████▏                                                                              | 2/40 [00:00<00:02, 13.73it/s]"
     ]
    },
    {
     "name": "stdout",
     "output_type": "stream",
     "text": [
      "Acc at dev is : 0.791\n",
      "ROC is : 0.7908681914966688,  prec 0.7912165685763242,  recall 0.7908681914966688, f-score 0.790633608815427\n",
      "Acc at epoch : 238 is : 0.8092578053474426, loss : 16.44543832540512\n"
     ]
    },
    {
     "name": "stderr",
     "output_type": "stream",
     "text": [
      "100%|██████████████████████████████████████████████████████████████████████████████████| 40/40 [00:02<00:00, 13.65it/s]\n",
      "100%|██████████████████████████████████████████████████████████████████████████████████| 14/14 [00:00<00:00, 56.05it/s]\n",
      "  5%|████▏                                                                              | 2/40 [00:00<00:02, 13.74it/s]"
     ]
    },
    {
     "name": "stdout",
     "output_type": "stream",
     "text": [
      "Acc at dev is : 0.782\n",
      "ROC is : 0.7817959108913158,  prec 0.7852243233222098,  recall 0.7817959108913157, f-score 0.7815151149633255\n",
      "Acc at epoch : 239 is : 0.804070234298706, loss : 16.7347452044487\n"
     ]
    },
    {
     "name": "stderr",
     "output_type": "stream",
     "text": [
      "100%|██████████████████████████████████████████████████████████████████████████████████| 40/40 [00:02<00:00, 13.66it/s]\n",
      "100%|██████████████████████████████████████████████████████████████████████████████████| 14/14 [00:00<00:00, 56.38it/s]\n",
      "  5%|████▏                                                                              | 2/40 [00:00<00:02, 13.70it/s]"
     ]
    },
    {
     "name": "stdout",
     "output_type": "stream",
     "text": [
      "Acc at dev is : 0.798\n",
      "ROC is : 0.7981832543443919,  prec 0.7994051553205552,  recall 0.7981832543443919, f-score 0.7976937627350662\n",
      "Acc at epoch : 240 is : 0.8004788756370544, loss : 16.582280963659286\n"
     ]
    },
    {
     "name": "stderr",
     "output_type": "stream",
     "text": [
      "100%|██████████████████████████████████████████████████████████████████████████████████| 40/40 [00:02<00:00, 13.79it/s]\n",
      "100%|██████████████████████████████████████████████████████████████████████████████████| 14/14 [00:00<00:00, 55.26it/s]\n",
      "  5%|████▏                                                                              | 2/40 [00:00<00:02, 13.26it/s]"
     ]
    },
    {
     "name": "stdout",
     "output_type": "stream",
     "text": [
      "Acc at dev is : 0.797\n",
      "ROC is : 0.797158687638803,  prec 0.8001618871415357,  recall 0.797158687638803, f-score 0.7962297046965239\n",
      "Acc at epoch : 241 is : 0.8032721281051636, loss : 16.481902480125427\n"
     ]
    },
    {
     "name": "stderr",
     "output_type": "stream",
     "text": [
      "100%|██████████████████████████████████████████████████████████████████████████████████| 40/40 [00:02<00:00, 13.59it/s]\n",
      "100%|██████████████████████████████████████████████████████████████████████████████████| 14/14 [00:00<00:00, 54.88it/s]\n",
      "  5%|████▏                                                                              | 2/40 [00:00<00:02, 13.66it/s]"
     ]
    },
    {
     "name": "stdout",
     "output_type": "stream",
     "text": [
      "Acc at dev is : 0.787\n",
      "ROC is : 0.7868557822194749,  prec 0.7876262626262627,  recall 0.7868557822194748, f-score 0.7868751969293346\n",
      "Acc at epoch : 242 is : 0.8080606460571289, loss : 16.388808965682983\n"
     ]
    },
    {
     "name": "stderr",
     "output_type": "stream",
     "text": [
      "100%|██████████████████████████████████████████████████████████████████████████████████| 40/40 [00:02<00:00, 13.43it/s]\n",
      "100%|██████████████████████████████████████████████████████████████████████████████████| 14/14 [00:00<00:00, 53.66it/s]\n",
      "  5%|████▏                                                                              | 2/40 [00:00<00:02, 13.58it/s]"
     ]
    },
    {
     "name": "stdout",
     "output_type": "stream",
     "text": [
      "Acc at dev is : 0.786\n",
      "ROC is : 0.7864035991482929,  prec 0.7894403470715835,  recall 0.7864035991482932, f-score 0.785418175300233\n",
      "Acc at epoch : 243 is : 0.811253011226654, loss : 16.54568102955818\n"
     ]
    },
    {
     "name": "stderr",
     "output_type": "stream",
     "text": [
      "100%|██████████████████████████████████████████████████████████████████████████████████| 40/40 [00:02<00:00, 13.53it/s]\n",
      "100%|██████████████████████████████████████████████████████████████████████████████████| 14/14 [00:00<00:00, 54.23it/s]\n",
      "  5%|████▏                                                                              | 2/40 [00:00<00:02, 13.66it/s]"
     ]
    },
    {
     "name": "stdout",
     "output_type": "stream",
     "text": [
      "Acc at dev is : 0.792\n",
      "ROC is : 0.7920072349291389,  prec 0.792147700201576,  recall 0.7920072349291389, f-score 0.7918553072146067\n",
      "Acc at epoch : 244 is : 0.8028731346130371, loss : 16.26582483947277\n"
     ]
    },
    {
     "name": "stderr",
     "output_type": "stream",
     "text": [
      "100%|██████████████████████████████████████████████████████████████████████████████████| 40/40 [00:02<00:00, 13.72it/s]\n",
      "100%|██████████████████████████████████████████████████████████████████████████████████| 14/14 [00:00<00:00, 56.20it/s]\n",
      "  5%|████▏                                                                              | 2/40 [00:00<00:02, 13.72it/s]"
     ]
    },
    {
     "name": "stdout",
     "output_type": "stream",
     "text": [
      "Acc at dev is : 0.789\n",
      "ROC is : 0.7893399271928018,  prec 0.7896383388338835,  recall 0.7893399271928017, f-score 0.7893760414101911\n",
      "Acc at epoch : 245 is : 0.8012769222259521, loss : 16.420864194631577\n"
     ]
    },
    {
     "name": "stderr",
     "output_type": "stream",
     "text": [
      "100%|██████████████████████████████████████████████████████████████████████████████████| 40/40 [00:02<00:00, 13.75it/s]\n",
      "100%|██████████████████████████████████████████████████████████████████████████████████| 14/14 [00:00<00:00, 56.10it/s]\n",
      "  5%|████▏                                                                              | 2/40 [00:00<00:02, 13.83it/s]"
     ]
    },
    {
     "name": "stdout",
     "output_type": "stream",
     "text": [
      "Acc at dev is : 0.791\n",
      "ROC is : 0.7911887263319367,  prec 0.7942762111352133,  recall 0.7911887263319367, f-score 0.7902132998745295\n",
      "Acc at epoch : 246 is : 0.8048683404922485, loss : 16.47489368915558\n"
     ]
    },
    {
     "name": "stderr",
     "output_type": "stream",
     "text": [
      "100%|██████████████████████████████████████████████████████████████████████████████████| 40/40 [00:02<00:00, 13.74it/s]\n",
      "100%|██████████████████████████████████████████████████████████████████████████████████| 14/14 [00:00<00:00, 55.23it/s]\n",
      "  5%|████▏                                                                              | 2/40 [00:00<00:02, 13.78it/s]"
     ]
    },
    {
     "name": "stdout",
     "output_type": "stream",
     "text": [
      "Acc at dev is : 0.791\n",
      "ROC is : 0.7911200402958078,  prec 0.7933921721323296,  recall 0.7911200402958078, f-score 0.7903431751186216\n",
      "Acc at epoch : 247 is : 0.8028731346130371, loss : 16.36666302382946\n"
     ]
    },
    {
     "name": "stderr",
     "output_type": "stream",
     "text": [
      "100%|██████████████████████████████████████████████████████████████████████████████████| 40/40 [00:02<00:00, 13.67it/s]\n",
      "100%|██████████████████████████████████████████████████████████████████████████████████| 14/14 [00:00<00:00, 56.62it/s]\n",
      "  5%|████▏                                                                              | 2/40 [00:00<00:02, 13.95it/s]"
     ]
    },
    {
     "name": "stdout",
     "output_type": "stream",
     "text": [
      "Acc at dev is : 0.792\n",
      "ROC is : 0.7920072349291389,  prec 0.792147700201576,  recall 0.7920072349291389, f-score 0.7918553072146067\n",
      "Acc at epoch : 248 is : 0.8116520643234253, loss : 16.094143509864807\n"
     ]
    },
    {
     "name": "stderr",
     "output_type": "stream",
     "text": [
      "100%|██████████████████████████████████████████████████████████████████████████████████| 40/40 [00:02<00:00, 13.63it/s]\n",
      "100%|██████████████████████████████████████████████████████████████████████████████████| 14/14 [00:00<00:00, 54.95it/s]\n",
      "  5%|████▏                                                                              | 2/40 [00:00<00:02, 13.79it/s]"
     ]
    },
    {
     "name": "stdout",
     "output_type": "stream",
     "text": [
      "Acc at dev is : 0.785\n",
      "ROC is : 0.7844174279369004,  prec 0.7854959551388123,  recall 0.7844174279369005, f-score 0.7844113719849398\n",
      "Acc at epoch : 249 is : 0.7992817163467407, loss : 16.655633807182312\n"
     ]
    },
    {
     "name": "stderr",
     "output_type": "stream",
     "text": [
      "100%|██████████████████████████████████████████████████████████████████████████████████| 40/40 [00:02<00:00, 13.72it/s]\n",
      "100%|██████████████████████████████████████████████████████████████████████████████████| 14/14 [00:00<00:00, 53.83it/s]\n",
      "  5%|████▏                                                                              | 2/40 [00:00<00:02, 13.78it/s]"
     ]
    },
    {
     "name": "stdout",
     "output_type": "stream",
     "text": [
      "Acc at dev is : 0.797\n",
      "ROC is : 0.7969297341850403,  prec 0.7977272727272727,  recall 0.7969297341850402, f-score 0.7965564036348437\n",
      "Acc at epoch : 250 is : 0.8076615929603577, loss : 16.42146697640419\n"
     ]
    },
    {
     "name": "stderr",
     "output_type": "stream",
     "text": [
      "100%|██████████████████████████████████████████████████████████████████████████████████| 40/40 [00:02<00:00, 13.70it/s]\n",
      "100%|██████████████████████████████████████████████████████████████████████████████████| 14/14 [00:00<00:00, 53.48it/s]\n",
      "  5%|████▏                                                                              | 2/40 [00:00<00:02, 13.67it/s]"
     ]
    },
    {
     "name": "stdout",
     "output_type": "stream",
     "text": [
      "Acc at dev is : 0.797\n",
      "ROC is : 0.7969297341850403,  prec 0.7977272727272727,  recall 0.7969297341850402, f-score 0.7965564036348437\n",
      "Acc at epoch : 251 is : 0.8064644932746887, loss : 16.358147889375687\n"
     ]
    },
    {
     "name": "stderr",
     "output_type": "stream",
     "text": [
      "100%|██████████████████████████████████████████████████████████████████████████████████| 40/40 [00:02<00:00, 13.71it/s]\n",
      "100%|██████████████████████████████████████████████████████████████████████████████████| 14/14 [00:00<00:00, 55.74it/s]\n",
      "  5%|████▏                                                                              | 2/40 [00:00<00:02, 13.66it/s]"
     ]
    },
    {
     "name": "stdout",
     "output_type": "stream",
     "text": [
      "Acc at dev is : 0.793\n",
      "ROC is : 0.7931920690523617,  prec 0.7933011915736674,  recall 0.7931920690523617, f-score 0.7930547983819618\n",
      "Acc at epoch : 252 is : 0.8048683404922485, loss : 16.383127838373184\n"
     ]
    },
    {
     "name": "stderr",
     "output_type": "stream",
     "text": [
      "100%|██████████████████████████████████████████████████████████████████████████████████| 40/40 [00:02<00:00, 13.57it/s]\n",
      "100%|██████████████████████████████████████████████████████████████████████████████████| 14/14 [00:00<00:00, 53.52it/s]\n",
      "  5%|████▏                                                                              | 2/40 [00:00<00:02, 13.74it/s]"
     ]
    },
    {
     "name": "stdout",
     "output_type": "stream",
     "text": [
      "Acc at dev is : 0.789\n",
      "ROC is : 0.7902328456624769,  prec 0.7971727969618116,  recall 0.7902328456624768, f-score 0.7883836524300443\n",
      "Acc at epoch : 253 is : 0.8028731346130371, loss : 16.521240204572678\n"
     ]
    },
    {
     "name": "stderr",
     "output_type": "stream",
     "text": [
      "100%|██████████████████████████████████████████████████████████████████████████████████| 40/40 [00:02<00:00, 13.78it/s]\n",
      "100%|██████████████████████████████████████████████████████████████████████████████████| 14/14 [00:00<00:00, 55.83it/s]\n",
      "  5%|████▏                                                                              | 2/40 [00:00<00:02, 13.64it/s]"
     ]
    },
    {
     "name": "stdout",
     "output_type": "stream",
     "text": [
      "Acc at dev is : 0.791\n",
      "ROC is : 0.7907079240790347,  prec 0.7906829667530892,  recall 0.7907079240790347, f-score 0.7906671607856492\n",
      "Acc at epoch : 254 is : 0.8024740815162659, loss : 16.657258689403534\n"
     ]
    },
    {
     "name": "stderr",
     "output_type": "stream",
     "text": [
      "100%|██████████████████████████████████████████████████████████████████████████████████| 40/40 [00:02<00:00, 13.73it/s]\n",
      "100%|██████████████████████████████████████████████████████████████████████████████████| 14/14 [00:00<00:00, 58.00it/s]\n",
      "  5%|████▏                                                                              | 2/40 [00:00<00:02, 13.44it/s]"
     ]
    },
    {
     "name": "stdout",
     "output_type": "stream",
     "text": [
      "Acc at dev is : 0.794\n",
      "ROC is : 0.7943540078302082,  prec 0.7943877083714965,  recall 0.7943540078302082, f-score 0.7942571956754405\n",
      "Acc at epoch : 255 is : 0.8024740815162659, loss : 16.42612075805664\n"
     ]
    },
    {
     "name": "stderr",
     "output_type": "stream",
     "text": [
      "100%|██████████████████████████████████████████████████████████████████████████████████| 40/40 [00:02<00:00, 13.78it/s]\n",
      "100%|██████████████████████████████████████████████████████████████████████████████████| 14/14 [00:00<00:00, 57.39it/s]\n",
      "  5%|████▏                                                                              | 2/40 [00:00<00:02, 13.89it/s]"
     ]
    },
    {
     "name": "stdout",
     "output_type": "stream",
     "text": [
      "Acc at dev is : 0.788\n",
      "ROC is : 0.7886816860132335,  prec 0.7904656319290466,  recall 0.7886816860132335, f-score 0.7880224337623826\n",
      "Acc at epoch : 256 is : 0.8060654401779175, loss : 16.27201633155346\n"
     ]
    },
    {
     "name": "stderr",
     "output_type": "stream",
     "text": [
      "100%|██████████████████████████████████████████████████████████████████████████████████| 40/40 [00:02<00:00, 13.73it/s]\n",
      "100%|██████████████████████████████████████████████████████████████████████████████████| 14/14 [00:00<00:00, 57.40it/s]\n",
      "  5%|████▏                                                                              | 2/40 [00:00<00:02, 13.45it/s]"
     ]
    },
    {
     "name": "stdout",
     "output_type": "stream",
     "text": [
      "Acc at dev is : 0.785\n",
      "ROC is : 0.7855392998603384,  prec 0.7942432464315206,  recall 0.7855392998603383, f-score 0.7832549778761062\n",
      "Acc at epoch : 257 is : 0.804070234298706, loss : 16.30644802749157\n"
     ]
    },
    {
     "name": "stderr",
     "output_type": "stream",
     "text": [
      "100%|██████████████████████████████████████████████████████████████████████████████████| 40/40 [00:02<00:00, 13.76it/s]\n",
      "100%|██████████████████████████████████████████████████████████████████████████████████| 14/14 [00:00<00:00, 56.20it/s]\n",
      "  5%|████▏                                                                              | 2/40 [00:00<00:02, 13.88it/s]"
     ]
    },
    {
     "name": "stdout",
     "output_type": "stream",
     "text": [
      "Acc at dev is : 0.797\n",
      "ROC is : 0.7967236760766536,  prec 0.7967236760766536,  recall 0.7967236760766536, f-score 0.7966507177033494\n",
      "Acc at epoch : 258 is : 0.799680769443512, loss : 16.514341980218887\n"
     ]
    },
    {
     "name": "stderr",
     "output_type": "stream",
     "text": [
      "100%|██████████████████████████████████████████████████████████████████████████████████| 40/40 [00:02<00:00, 13.81it/s]\n",
      "100%|██████████████████████████████████████████████████████████████████████████████████| 14/14 [00:00<00:00, 57.88it/s]\n",
      "  5%|████▏                                                                              | 2/40 [00:00<00:02, 13.87it/s]"
     ]
    },
    {
     "name": "stdout",
     "output_type": "stream",
     "text": [
      "Acc at dev is : 0.798\n",
      "ROC is : 0.7982977310712732,  prec 0.8006258833030486,  recall 0.7982977310712732, f-score 0.7975314091145547\n",
      "Acc at epoch : 259 is : 0.8036711812019348, loss : 16.383615612983704\n"
     ]
    },
    {
     "name": "stderr",
     "output_type": "stream",
     "text": [
      "100%|██████████████████████████████████████████████████████████████████████████████████| 40/40 [00:02<00:00, 13.74it/s]\n",
      "100%|██████████████████████████████████████████████████████████████████████████████████| 14/14 [00:00<00:00, 57.05it/s]\n",
      "  5%|████▏                                                                              | 2/40 [00:00<00:02, 14.05it/s]"
     ]
    },
    {
     "name": "stdout",
     "output_type": "stream",
     "text": [
      "Acc at dev is : 0.794\n",
      "ROC is : 0.7945829612839709,  prec 0.7957000367714653,  recall 0.794582961283971, f-score 0.7941157941157941\n",
      "Acc at epoch : 260 is : 0.8072625994682312, loss : 16.306250259280205\n"
     ]
    },
    {
     "name": "stderr",
     "output_type": "stream",
     "text": [
      "100%|██████████████████████████████████████████████████████████████████████████████████| 40/40 [00:02<00:00, 13.84it/s]\n",
      "100%|██████████████████████████████████████████████████████████████████████████████████| 14/14 [00:00<00:00, 57.84it/s]\n",
      "  5%|████▏                                                                              | 2/40 [00:00<00:02, 13.46it/s]"
     ]
    },
    {
     "name": "stdout",
     "output_type": "stream",
     "text": [
      "Acc at dev is : 0.793\n",
      "ROC is : 0.792986010943975,  prec 0.7930950567729598,  recall 0.7929860109439751, f-score 0.7930121492371127\n",
      "Acc at epoch : 261 is : 0.8076615929603577, loss : 16.503352776169777\n"
     ]
    },
    {
     "name": "stderr",
     "output_type": "stream",
     "text": [
      "100%|██████████████████████████████████████████████████████████████████████████████████| 40/40 [00:02<00:00, 13.85it/s]\n",
      "100%|██████████████████████████████████████████████████████████████████████████████████| 14/14 [00:00<00:00, 55.90it/s]\n",
      "  5%|████▏                                                                              | 2/40 [00:00<00:02, 13.92it/s]"
     ]
    },
    {
     "name": "stdout",
     "output_type": "stream",
     "text": [
      "Acc at dev is : 0.795\n",
      "ROC is : 0.7957220047164412,  prec 0.7964431413276108,  recall 0.7957220047164412, f-score 0.7953699290158845\n",
      "Acc at epoch : 262 is : 0.804070234298706, loss : 16.19736534357071\n"
     ]
    },
    {
     "name": "stderr",
     "output_type": "stream",
     "text": [
      "100%|██████████████████████████████████████████████████████████████████████████████████| 40/40 [00:02<00:00, 13.74it/s]\n",
      "100%|██████████████████████████████████████████████████████████████████████████████████| 14/14 [00:00<00:00, 57.90it/s]\n",
      "  5%|████▏                                                                              | 2/40 [00:00<00:02, 13.86it/s]"
     ]
    },
    {
     "name": "stdout",
     "output_type": "stream",
     "text": [
      "Acc at dev is : 0.786\n",
      "ROC is : 0.7864264944936694,  prec 0.7897584815198698,  recall 0.7864264944936694, f-score 0.78536893210846\n",
      "Acc at epoch : 263 is : 0.805267333984375, loss : 16.25009585916996\n"
     ]
    },
    {
     "name": "stderr",
     "output_type": "stream",
     "text": [
      "100%|██████████████████████████████████████████████████████████████████████████████████| 40/40 [00:02<00:00, 13.73it/s]\n",
      "100%|██████████████████████████████████████████████████████████████████████████████████| 14/14 [00:00<00:00, 56.05it/s]\n",
      "  5%|████▏                                                                              | 2/40 [00:00<00:02, 13.93it/s]"
     ]
    },
    {
     "name": "stdout",
     "output_type": "stream",
     "text": [
      "Acc at dev is : 0.783\n",
      "ROC is : 0.784537628500126,  prec 0.7980222178258185,  recall 0.784537628500126, f-score 0.7812312501174692\n",
      "Acc at epoch : 264 is : 0.8048683404922485, loss : 16.310274213552475\n"
     ]
    },
    {
     "name": "stderr",
     "output_type": "stream",
     "text": [
      "100%|██████████████████████████████████████████████████████████████████████████████████| 40/40 [00:02<00:00, 13.70it/s]\n",
      "100%|██████████████████████████████████████████████████████████████████████████████████| 14/14 [00:00<00:00, 56.12it/s]\n",
      "  5%|████▏                                                                              | 2/40 [00:00<00:02, 13.84it/s]"
     ]
    },
    {
     "name": "stdout",
     "output_type": "stream",
     "text": [
      "Acc at dev is : 0.780\n",
      "ROC is : 0.7807999633674475,  prec 0.7903733693207378,  recall 0.7807999633674474, f-score 0.778259565929377\n",
      "Acc at epoch : 265 is : 0.7948922514915466, loss : 16.568588078022003\n"
     ]
    },
    {
     "name": "stderr",
     "output_type": "stream",
     "text": [
      "100%|██████████████████████████████████████████████████████████████████████████████████| 40/40 [00:02<00:00, 13.74it/s]\n",
      "100%|██████████████████████████████████████████████████████████████████████████████████| 14/14 [00:00<00:00, 57.65it/s]\n",
      "  5%|████▏                                                                              | 2/40 [00:00<00:02, 13.79it/s]"
     ]
    },
    {
     "name": "stdout",
     "output_type": "stream",
     "text": [
      "Acc at dev is : 0.800\n",
      "ROC is : 0.800209492410193,  prec 0.8002249583569454,  recall 0.800209492410193, f-score 0.8002160800784186\n",
      "Acc at epoch : 266 is : 0.7980846166610718, loss : 16.481300935149193\n"
     ]
    },
    {
     "name": "stderr",
     "output_type": "stream",
     "text": [
      "100%|██████████████████████████████████████████████████████████████████████████████████| 40/40 [00:02<00:00, 13.76it/s]\n",
      "100%|██████████████████████████████████████████████████████████████████████████████████| 14/14 [00:00<00:00, 56.89it/s]\n",
      "  5%|████▏                                                                              | 2/40 [00:00<00:02, 13.74it/s]"
     ]
    },
    {
     "name": "stdout",
     "output_type": "stream",
     "text": [
      "Acc at dev is : 0.792\n",
      "ROC is : 0.7920530256198914,  prec 0.7923542354235424,  recall 0.7920530256198914, f-score 0.7918362440540587\n",
      "Acc at epoch : 267 is : 0.8032721281051636, loss : 16.57158723473549\n"
     ]
    },
    {
     "name": "stderr",
     "output_type": "stream",
     "text": [
      "100%|██████████████████████████████████████████████████████████████████████████████████| 40/40 [00:02<00:00, 13.76it/s]\n",
      "100%|██████████████████████████████████████████████████████████████████████████████████| 14/14 [00:00<00:00, 57.10it/s]\n",
      "  5%|████▏                                                                              | 2/40 [00:00<00:02, 13.82it/s]"
     ]
    },
    {
     "name": "stdout",
     "output_type": "stream",
     "text": [
      "Acc at dev is : 0.793\n",
      "ROC is : 0.7933981271607482,  prec 0.794600419552286,  recall 0.7933981271607482, f-score 0.7929054494270205\n",
      "Acc at epoch : 268 is : 0.8016759753227234, loss : 16.219822272658348\n"
     ]
    },
    {
     "name": "stderr",
     "output_type": "stream",
     "text": [
      "100%|██████████████████████████████████████████████████████████████████████████████████| 40/40 [00:02<00:00, 13.81it/s]\n",
      "100%|██████████████████████████████████████████████████████████████████████████████████| 14/14 [00:00<00:00, 55.28it/s]\n",
      "  5%|████▏                                                                              | 2/40 [00:00<00:02, 13.53it/s]"
     ]
    },
    {
     "name": "stdout",
     "output_type": "stream",
     "text": [
      "Acc at dev is : 0.787\n",
      "ROC is : 0.7879089681067839,  prec 0.7961889956661014,  recall 0.7879089681067839, f-score 0.7857459613557174\n",
      "Acc at epoch : 269 is : 0.8028731346130371, loss : 16.479532599449158\n"
     ]
    },
    {
     "name": "stderr",
     "output_type": "stream",
     "text": [
      "100%|██████████████████████████████████████████████████████████████████████████████████| 40/40 [00:02<00:00, 13.76it/s]\n",
      "100%|██████████████████████████████████████████████████████████████████████████████████| 14/14 [00:00<00:00, 55.71it/s]\n",
      "  5%|████▏                                                                              | 2/40 [00:00<00:02, 13.62it/s]"
     ]
    },
    {
     "name": "stdout",
     "output_type": "stream",
     "text": [
      "Acc at dev is : 0.793\n",
      "ROC is : 0.7934439178515009,  prec 0.7950397955836398,  recall 0.7934439178515008, f-score 0.792846124208105\n",
      "Acc at epoch : 270 is : 0.8032721281051636, loss : 16.701872795820236\n"
     ]
    },
    {
     "name": "stderr",
     "output_type": "stream",
     "text": [
      "100%|██████████████████████████████████████████████████████████████████████████████████| 40/40 [00:02<00:00, 13.73it/s]\n",
      "100%|██████████████████████████████████████████████████████████████████████████████████| 14/14 [00:00<00:00, 57.32it/s]\n",
      "  5%|████▏                                                                              | 2/40 [00:00<00:02, 13.86it/s]"
     ]
    },
    {
     "name": "stdout",
     "output_type": "stream",
     "text": [
      "Acc at dev is : 0.793\n",
      "ROC is : 0.7934210225061246,  prec 0.7948131789766681,  recall 0.7934210225061245, f-score 0.7928769775631523\n",
      "Acc at epoch : 271 is : 0.8084596991539001, loss : 16.265272587537766\n"
     ]
    },
    {
     "name": "stderr",
     "output_type": "stream",
     "text": [
      "100%|██████████████████████████████████████████████████████████████████████████████████| 40/40 [00:02<00:00, 13.76it/s]\n",
      "100%|██████████████████████████████████████████████████████████████████████████████████| 14/14 [00:00<00:00, 57.77it/s]\n",
      "  5%|████▏                                                                              | 2/40 [00:00<00:02, 13.52it/s]"
     ]
    },
    {
     "name": "stdout",
     "output_type": "stream",
     "text": [
      "Acc at dev is : 0.792\n",
      "ROC is : 0.7925109325274172,  prec 0.7974483143974669,  recall 0.7925109325274172, f-score 0.7911188461737289\n",
      "Acc at epoch : 272 is : 0.8020750284194946, loss : 16.288394942879677\n"
     ]
    },
    {
     "name": "stderr",
     "output_type": "stream",
     "text": [
      "100%|██████████████████████████████████████████████████████████████████████████████████| 40/40 [00:02<00:00, 13.84it/s]\n",
      "100%|██████████████████████████████████████████████████████████████████████████████████| 14/14 [00:00<00:00, 53.34it/s]\n",
      "  5%|████▏                                                                              | 2/40 [00:00<00:02, 13.93it/s]"
     ]
    },
    {
     "name": "stdout",
     "output_type": "stream",
     "text": [
      "Acc at dev is : 0.791\n",
      "ROC is : 0.791371889094947,  prec 0.7972676255379783,  recall 0.791371889094947, f-score 0.7897598836565973\n",
      "Acc at epoch : 273 is : 0.8108539581298828, loss : 16.578580021858215\n"
     ]
    },
    {
     "name": "stderr",
     "output_type": "stream",
     "text": [
      "100%|██████████████████████████████████████████████████████████████████████████████████| 40/40 [00:02<00:00, 13.82it/s]\n",
      "100%|██████████████████████████████████████████████████████████████████████████████████| 14/14 [00:00<00:00, 58.01it/s]\n",
      "  5%|████▏                                                                              | 2/40 [00:00<00:02, 13.87it/s]"
     ]
    },
    {
     "name": "stdout",
     "output_type": "stream",
     "text": [
      "Acc at dev is : 0.787\n",
      "ROC is : 0.7874739565446344,  prec 0.7891421991940126,  recall 0.7874739565446345, f-score 0.7868422258892556\n",
      "Acc at epoch : 274 is : 0.8104549050331116, loss : 16.44928839802742\n"
     ]
    },
    {
     "name": "stderr",
     "output_type": "stream",
     "text": [
      "100%|██████████████████████████████████████████████████████████████████████████████████| 40/40 [00:02<00:00, 13.85it/s]\n",
      "100%|██████████████████████████████████████████████████████████████████████████████████| 14/14 [00:00<00:00, 57.48it/s]\n",
      "  5%|████▏                                                                              | 2/40 [00:00<00:02, 13.54it/s]"
     ]
    },
    {
     "name": "stdout",
     "output_type": "stream",
     "text": [
      "Acc at dev is : 0.795\n",
      "ROC is : 0.7956075279895598,  prec 0.7957852957852958,  recall 0.7956075279895598, f-score 0.7954402036497259\n",
      "Acc at epoch : 275 is : 0.8020750284194946, loss : 16.333788350224495\n"
     ]
    },
    {
     "name": "stderr",
     "output_type": "stream",
     "text": [
      "100%|██████████████████████████████████████████████████████████████████████████████████| 40/40 [00:02<00:00, 13.81it/s]\n",
      "100%|██████████████████████████████████████████████████████████████████████████████████| 14/14 [00:00<00:00, 57.65it/s]\n",
      "  5%|████▏                                                                              | 2/40 [00:00<00:02, 13.55it/s]"
     ]
    },
    {
     "name": "stdout",
     "output_type": "stream",
     "text": [
      "Acc at dev is : 0.785\n",
      "ROC is : 0.7842571605192664,  prec 0.7868579746309003,  recall 0.7842571605192664, f-score 0.7840909090909091\n",
      "Acc at epoch : 276 is : 0.8056663870811462, loss : 16.250932544469833\n"
     ]
    },
    {
     "name": "stderr",
     "output_type": "stream",
     "text": [
      "100%|██████████████████████████████████████████████████████████████████████████████████| 40/40 [00:02<00:00, 13.84it/s]\n",
      "100%|██████████████████████████████████████████████████████████████████████████████████| 14/14 [00:00<00:00, 56.63it/s]\n",
      "  5%|████▏                                                                              | 2/40 [00:00<00:02, 13.94it/s]"
     ]
    },
    {
     "name": "stdout",
     "output_type": "stream",
     "text": [
      "Acc at dev is : 0.785\n",
      "ROC is : 0.7842800558646426,  prec 0.7866228070175438,  recall 0.7842800558646428, f-score 0.7841441792945956\n",
      "Acc at epoch : 277 is : 0.8048683404922485, loss : 16.316598176956177\n"
     ]
    },
    {
     "name": "stderr",
     "output_type": "stream",
     "text": [
      "100%|██████████████████████████████████████████████████████████████████████████████████| 40/40 [00:02<00:00, 13.80it/s]\n",
      "100%|██████████████████████████████████████████████████████████████████████████████████| 14/14 [00:00<00:00, 53.62it/s]\n",
      "  5%|████▏                                                                              | 2/40 [00:00<00:02, 13.80it/s]"
     ]
    },
    {
     "name": "stdout",
     "output_type": "stream",
     "text": [
      "Acc at dev is : 0.794\n",
      "ROC is : 0.7939647869588113,  prec 0.7952627342761872,  recall 0.7939647869588112, f-score 0.7939564848568219\n",
      "Acc at epoch : 278 is : 0.8044692873954773, loss : 16.592663049697876\n"
     ]
    },
    {
     "name": "stderr",
     "output_type": "stream",
     "text": [
      "100%|██████████████████████████████████████████████████████████████████████████████████| 40/40 [00:02<00:00, 13.84it/s]\n",
      "100%|██████████████████████████████████████████████████████████████████████████████████| 14/14 [00:00<00:00, 57.06it/s]\n",
      "  5%|████▏                                                                              | 2/40 [00:00<00:02, 13.99it/s]"
     ]
    },
    {
     "name": "stdout",
     "output_type": "stream",
     "text": [
      "Acc at dev is : 0.786\n",
      "ROC is : 0.7863120177667882,  prec 0.7883071372169292,  recall 0.786312017766788, f-score 0.785590348671438\n",
      "Acc at epoch : 279 is : 0.8032721281051636, loss : 16.227143794298172\n"
     ]
    },
    {
     "name": "stderr",
     "output_type": "stream",
     "text": [
      "100%|██████████████████████████████████████████████████████████████████████████████████| 40/40 [00:02<00:00, 13.89it/s]\n",
      "100%|██████████████████████████████████████████████████████████████████████████████████| 14/14 [00:00<00:00, 57.02it/s]\n",
      "  5%|████▏                                                                              | 2/40 [00:00<00:02, 13.60it/s]"
     ]
    },
    {
     "name": "stdout",
     "output_type": "stream",
     "text": [
      "Acc at dev is : 0.791\n",
      "ROC is : 0.7905476566614008,  prec 0.7908023259144682,  recall 0.7905476566614007, f-score 0.7905832606887706\n",
      "Acc at epoch : 280 is : 0.7956903576850891, loss : 16.694878697395325\n"
     ]
    },
    {
     "name": "stderr",
     "output_type": "stream",
     "text": [
      "100%|██████████████████████████████████████████████████████████████████████████████████| 40/40 [00:02<00:00, 13.81it/s]\n",
      "100%|██████████████████████████████████████████████████████████████████████████████████| 14/14 [00:00<00:00, 53.91it/s]\n",
      "  5%|████▏                                                                              | 2/40 [00:00<00:02, 13.86it/s]"
     ]
    },
    {
     "name": "stdout",
     "output_type": "stream",
     "text": [
      "Acc at dev is : 0.793\n",
      "ROC is : 0.7937186619960164,  prec 0.7988660388237555,  recall 0.7937186619960163, f-score 0.7922891877724241\n",
      "Acc at epoch : 281 is : 0.8076615929603577, loss : 16.59043887257576\n"
     ]
    },
    {
     "name": "stderr",
     "output_type": "stream",
     "text": [
      "100%|██████████████████████████████████████████████████████████████████████████████████| 40/40 [00:02<00:00, 13.68it/s]\n",
      "100%|██████████████████████████████████████████████████████████████████████████████████| 14/14 [00:00<00:00, 55.77it/s]\n",
      "  5%|████▏                                                                              | 2/40 [00:00<00:02, 13.80it/s]"
     ]
    },
    {
     "name": "stdout",
     "output_type": "stream",
     "text": [
      "Acc at dev is : 0.797\n",
      "ROC is : 0.7969526295304165,  prec 0.797907526931116,  recall 0.7969526295304165, f-score 0.7965342679127726\n",
      "Acc at epoch : 282 is : 0.798483669757843, loss : 16.38107532262802\n"
     ]
    },
    {
     "name": "stderr",
     "output_type": "stream",
     "text": [
      "100%|██████████████████████████████████████████████████████████████████████████████████| 40/40 [00:02<00:00, 13.74it/s]\n",
      "100%|██████████████████████████████████████████████████████████████████████████████████| 14/14 [00:00<00:00, 56.48it/s]\n",
      "  5%|████▏                                                                              | 2/40 [00:00<00:02, 13.81it/s]"
     ]
    },
    {
     "name": "stdout",
     "output_type": "stream",
     "text": [
      "Acc at dev is : 0.798\n",
      "ROC is : 0.7985495798704124,  prec 0.8045905526065299,  recall 0.7985495798704123, f-score 0.7969681162169424\n",
      "Acc at epoch : 283 is : 0.8084596991539001, loss : 16.17720717191696\n"
     ]
    },
    {
     "name": "stderr",
     "output_type": "stream",
     "text": [
      "100%|██████████████████████████████████████████████████████████████████████████████████| 40/40 [00:02<00:00, 13.81it/s]\n",
      "100%|██████████████████████████████████████████████████████████████████████████████████| 14/14 [00:00<00:00, 56.62it/s]\n",
      "  5%|████▏                                                                              | 2/40 [00:00<00:02, 13.90it/s]"
     ]
    },
    {
     "name": "stdout",
     "output_type": "stream",
     "text": [
      "Acc at dev is : 0.792\n",
      "ROC is : 0.7923506651097831,  prec 0.7950255308333911,  recall 0.7923506651097831, f-score 0.7914793577981651\n",
      "Acc at epoch : 284 is : 0.8076615929603577, loss : 16.36431646347046\n"
     ]
    },
    {
     "name": "stderr",
     "output_type": "stream",
     "text": [
      "100%|██████████████████████████████████████████████████████████████████████████████████| 40/40 [00:02<00:00, 13.76it/s]\n",
      "100%|██████████████████████████████████████████████████████████████████████████████████| 14/14 [00:00<00:00, 56.84it/s]\n",
      "  5%|████▏                                                                              | 2/40 [00:00<00:02, 13.79it/s]"
     ]
    },
    {
     "name": "stdout",
     "output_type": "stream",
     "text": [
      "Acc at dev is : 0.788\n",
      "ROC is : 0.7884527325594707,  prec 0.788705565581049,  recall 0.7884527325594707, f-score 0.7882529711010783\n",
      "Acc at epoch : 285 is : 0.8148443698883057, loss : 16.135322093963623\n"
     ]
    },
    {
     "name": "stderr",
     "output_type": "stream",
     "text": [
      "100%|██████████████████████████████████████████████████████████████████████████████████| 40/40 [00:02<00:00, 13.71it/s]\n",
      "100%|██████████████████████████████████████████████████████████████████████████████████| 14/14 [00:00<00:00, 57.85it/s]\n",
      "  5%|████▏                                                                              | 2/40 [00:00<00:02, 13.86it/s]"
     ]
    },
    {
     "name": "stdout",
     "output_type": "stream",
     "text": [
      "Acc at dev is : 0.783\n",
      "ROC is : 0.7836218146850745,  prec 0.7837273752741307,  recall 0.7836218146850745, f-score 0.7834850780759255\n",
      "Acc at epoch : 286 is : 0.8064644932746887, loss : 16.333779215812683\n"
     ]
    },
    {
     "name": "stderr",
     "output_type": "stream",
     "text": [
      "100%|██████████████████████████████████████████████████████████████████████████████████| 40/40 [00:02<00:00, 13.81it/s]\n",
      "100%|██████████████████████████████████████████████████████████████████████████████████| 14/14 [00:00<00:00, 56.92it/s]\n",
      "  5%|████▏                                                                              | 2/40 [00:00<00:02, 13.83it/s]"
     ]
    },
    {
     "name": "stdout",
     "output_type": "stream",
     "text": [
      "Acc at dev is : 0.783\n",
      "ROC is : 0.7840339309018476,  prec 0.7873380853392318,  recall 0.7840339309018476, f-score 0.7829708196180518\n",
      "Acc at epoch : 287 is : 0.7988826632499695, loss : 16.428092807531357\n"
     ]
    },
    {
     "name": "stderr",
     "output_type": "stream",
     "text": [
      "100%|██████████████████████████████████████████████████████████████████████████████████| 40/40 [00:02<00:00, 13.68it/s]\n",
      "100%|██████████████████████████████████████████████████████████████████████████████████| 14/14 [00:00<00:00, 56.49it/s]\n",
      "  5%|████▏                                                                              | 2/40 [00:00<00:02, 13.86it/s]"
     ]
    },
    {
     "name": "stdout",
     "output_type": "stream",
     "text": [
      "Acc at dev is : 0.791\n",
      "ROC is : 0.7910742496050553,  prec 0.7928729806778587,  recall 0.7910742496050553, f-score 0.7904176604995309\n",
      "Acc at epoch : 288 is : 0.8036711812019348, loss : 16.495247781276703\n"
     ]
    },
    {
     "name": "stderr",
     "output_type": "stream",
     "text": [
      "100%|██████████████████████████████████████████████████████████████████████████████████| 40/40 [00:02<00:00, 13.77it/s]\n",
      "100%|██████████████████████████████████████████████████████████████████████████████████| 14/14 [00:00<00:00, 55.20it/s]\n",
      "  5%|████▏                                                                              | 2/40 [00:00<00:02, 13.78it/s]"
     ]
    },
    {
     "name": "stdout",
     "output_type": "stream",
     "text": [
      "Acc at dev is : 0.793\n",
      "ROC is : 0.793214964397738,  prec 0.7933912933912934,  recall 0.793214964397738, f-score 0.793047691411711\n",
      "Acc at epoch : 289 is : 0.8084596991539001, loss : 16.724994987249374\n"
     ]
    },
    {
     "name": "stderr",
     "output_type": "stream",
     "text": [
      "100%|██████████████████████████████████████████████████████████████████████████████████| 40/40 [00:02<00:00, 13.78it/s]\n",
      "100%|██████████████████████████████████████████████████████████████████████████████████| 14/14 [00:00<00:00, 57.56it/s]\n",
      "  5%|████▏                                                                              | 2/40 [00:00<00:02, 13.93it/s]"
     ]
    },
    {
     "name": "stdout",
     "output_type": "stream",
     "text": [
      "Acc at dev is : 0.793\n",
      "ROC is : 0.7933294411246193,  prec 0.794044743319773,  recall 0.7933294411246193, f-score 0.7929765948523275\n",
      "Acc at epoch : 290 is : 0.80686354637146, loss : 16.123268246650696\n"
     ]
    },
    {
     "name": "stderr",
     "output_type": "stream",
     "text": [
      "100%|██████████████████████████████████████████████████████████████████████████████████| 40/40 [00:02<00:00, 13.78it/s]\n",
      "100%|██████████████████████████████████████████████████████████████████████████████████| 14/14 [00:00<00:00, 56.64it/s]\n",
      "  5%|████▏                                                                              | 2/40 [00:00<00:02, 13.94it/s]"
     ]
    },
    {
     "name": "stdout",
     "output_type": "stream",
     "text": [
      "Acc at dev is : 0.798\n",
      "ROC is : 0.7983206264166495,  prec 0.8009128017413093,  recall 0.7983206264166495, f-score 0.7974919410438445\n",
      "Acc at epoch : 291 is : 0.8080606460571289, loss : 16.581985399127007\n"
     ]
    },
    {
     "name": "stderr",
     "output_type": "stream",
     "text": [
      "100%|██████████████████████████████████████████████████████████████████████████████████| 40/40 [00:02<00:00, 13.88it/s]\n",
      "100%|██████████████████████████████████████████████████████████████████████████████████| 14/14 [00:00<00:00, 55.61it/s]\n",
      "  5%|████▏                                                                              | 2/40 [00:00<00:02, 13.43it/s]"
     ]
    },
    {
     "name": "stdout",
     "output_type": "stream",
     "text": [
      "Acc at dev is : 0.788\n",
      "ROC is : 0.7886587906678573,  prec 0.7902286447632695,  recall 0.7886587906678573, f-score 0.788056439218697\n",
      "Acc at epoch : 292 is : 0.8144453167915344, loss : 16.437382578849792\n"
     ]
    },
    {
     "name": "stderr",
     "output_type": "stream",
     "text": [
      "100%|██████████████████████████████████████████████████████████████████████████████████| 40/40 [00:02<00:00, 13.76it/s]\n",
      "100%|██████████████████████████████████████████████████████████████████████████████████| 14/14 [00:00<00:00, 56.49it/s]\n",
      "  5%|████▏                                                                              | 2/40 [00:00<00:02, 13.92it/s]"
     ]
    },
    {
     "name": "stdout",
     "output_type": "stream",
     "text": [
      "Acc at dev is : 0.788\n",
      "ROC is : 0.7884069418687181,  prec 0.788514283423899,  recall 0.7884069418687181, f-score 0.7882699382289435\n",
      "Acc at epoch : 293 is : 0.8044692873954773, loss : 16.2946594953537\n"
     ]
    },
    {
     "name": "stderr",
     "output_type": "stream",
     "text": [
      "100%|██████████████████████████████████████████████████████████████████████████████████| 40/40 [00:02<00:00, 13.77it/s]\n",
      "100%|██████████████████████████████████████████████████████████████████████████████████| 14/14 [00:00<00:00, 55.59it/s]\n",
      "  5%|████▏                                                                              | 2/40 [00:00<00:02, 13.41it/s]"
     ]
    },
    {
     "name": "stdout",
     "output_type": "stream",
     "text": [
      "Acc at dev is : 0.791\n",
      "ROC is : 0.7906392380429058,  prec 0.790654210957132,  recall 0.7906392380429059, f-score 0.7906455928965463\n",
      "Acc at epoch : 294 is : 0.8096567988395691, loss : 16.510585099458694\n"
     ]
    },
    {
     "name": "stderr",
     "output_type": "stream",
     "text": [
      "100%|██████████████████████████████████████████████████████████████████████████████████| 40/40 [00:02<00:00, 13.64it/s]\n",
      "100%|██████████████████████████████████████████████████████████████████████████████████| 14/14 [00:00<00:00, 56.63it/s]\n",
      "  5%|████▏                                                                              | 2/40 [00:00<00:02, 13.94it/s]"
     ]
    },
    {
     "name": "stdout",
     "output_type": "stream",
     "text": [
      "Acc at dev is : 0.788\n",
      "ROC is : 0.7888648487762439,  prec 0.7928628215618345,  recall 0.7888648487762437, f-score 0.7876622789583725\n",
      "Acc at epoch : 295 is : 0.8076615929603577, loss : 16.524050623178482\n"
     ]
    },
    {
     "name": "stderr",
     "output_type": "stream",
     "text": [
      "100%|██████████████████████████████████████████████████████████████████████████████████| 40/40 [00:02<00:00, 13.76it/s]\n",
      "100%|██████████████████████████████████████████████████████████████████████████████████| 14/14 [00:00<00:00, 56.62it/s]\n",
      "  5%|████▏                                                                              | 2/40 [00:00<00:02, 13.80it/s]"
     ]
    },
    {
     "name": "stdout",
     "output_type": "stream",
     "text": [
      "Acc at dev is : 0.795\n",
      "ROC is : 0.7957449000618175,  prec 0.7966158615344872,  recall 0.7957449000618174, f-score 0.7953488372093023\n",
      "Acc at epoch : 296 is : 0.8080606460571289, loss : 16.567479133605957\n"
     ]
    },
    {
     "name": "stderr",
     "output_type": "stream",
     "text": [
      "100%|██████████████████████████████████████████████████████████████████████████████████| 40/40 [00:02<00:00, 13.71it/s]\n",
      "100%|██████████████████████████████████████████████████████████████████████████████████| 14/14 [00:00<00:00, 57.21it/s]\n",
      "  5%|████▏                                                                              | 2/40 [00:00<00:02, 13.88it/s]"
     ]
    },
    {
     "name": "stdout",
     "output_type": "stream",
     "text": [
      "Acc at dev is : 0.801\n",
      "ROC is : 0.8016232799871785,  prec 0.8019343601026769,  recall 0.8016232799871785, f-score 0.8014069914538721\n",
      "Acc at epoch : 297 is : 0.8096567988395691, loss : 16.367284804582596\n"
     ]
    },
    {
     "name": "stderr",
     "output_type": "stream",
     "text": [
      "100%|██████████████████████████████████████████████████████████████████████████████████| 40/40 [00:02<00:00, 13.74it/s]\n",
      "100%|██████████████████████████████████████████████████████████████████████████████████| 14/14 [00:00<00:00, 56.62it/s]\n",
      "  5%|████▏                                                                              | 2/40 [00:00<00:02, 13.86it/s]"
     ]
    },
    {
     "name": "stdout",
     "output_type": "stream",
     "text": [
      "Acc at dev is : 0.793\n",
      "ROC is : 0.7936728713052636,  prec 0.7980833473736804,  recall 0.7936728713052636, f-score 0.7924060589619155\n",
      "Acc at epoch : 298 is : 0.8060654401779175, loss : 16.254330813884735\n"
     ]
    },
    {
     "name": "stderr",
     "output_type": "stream",
     "text": [
      "100%|██████████████████████████████████████████████████████████████████████████████████| 40/40 [00:02<00:00, 13.80it/s]\n",
      "100%|██████████████████████████████████████████████████████████████████████████████████| 14/14 [00:00<00:00, 57.08it/s]\n",
      "  5%|████▏                                                                              | 2/40 [00:00<00:02, 13.83it/s]"
     ]
    },
    {
     "name": "stdout",
     "output_type": "stream",
     "text": [
      "Acc at dev is : 0.793\n",
      "ROC is : 0.7929402202532225,  prec 0.7931969866231274,  recall 0.7929402202532225, f-score 0.7929765948523275\n",
      "Acc at epoch : 299 is : 0.8060654401779175, loss : 16.22423267364502\n"
     ]
    },
    {
     "name": "stderr",
     "output_type": "stream",
     "text": [
      "100%|██████████████████████████████████████████████████████████████████████████████████| 40/40 [00:02<00:00, 13.83it/s]\n",
      "100%|██████████████████████████████████████████████████████████████████████████████████| 14/14 [00:00<00:00, 56.99it/s]\n",
      "  5%|████▏                                                                              | 2/40 [00:00<00:02, 13.89it/s]"
     ]
    },
    {
     "name": "stdout",
     "output_type": "stream",
     "text": [
      "Acc at dev is : 0.791\n",
      "ROC is : 0.7907079240790347,  prec 0.7906829667530892,  recall 0.7907079240790347, f-score 0.7906671607856492\n",
      "Acc at epoch : 300 is : 0.80686354637146, loss : 16.767045944929123\n"
     ]
    },
    {
     "name": "stderr",
     "output_type": "stream",
     "text": [
      "100%|██████████████████████████████████████████████████████████████████████████████████| 40/40 [00:02<00:00, 13.81it/s]\n",
      "100%|██████████████████████████████████████████████████████████████████████████████████| 14/14 [00:00<00:00, 57.56it/s]\n",
      "  5%|████▏                                                                              | 2/40 [00:00<00:02, 13.89it/s]"
     ]
    },
    {
     "name": "stdout",
     "output_type": "stream",
     "text": [
      "Acc at dev is : 0.795\n",
      "ROC is : 0.7954014698811731,  prec 0.7954572778016316,  recall 0.7954014698811731, f-score 0.7954191263282172\n",
      "Acc at epoch : 301 is : 0.8144453167915344, loss : 16.283400803804398\n"
     ]
    },
    {
     "name": "stderr",
     "output_type": "stream",
     "text": [
      "100%|██████████████████████████████████████████████████████████████████████████████████| 40/40 [00:02<00:00, 13.83it/s]\n",
      "100%|██████████████████████████████████████████████████████████████████████████████████| 14/14 [00:00<00:00, 56.20it/s]\n",
      "  5%|████▏                                                                              | 2/40 [00:00<00:02, 13.80it/s]"
     ]
    },
    {
     "name": "stdout",
     "output_type": "stream",
     "text": [
      "Acc at dev is : 0.782\n",
      "ROC is : 0.7825743526341096,  prec 0.7833333333333333,  recall 0.7825743526341096, f-score 0.7821956791855386\n",
      "Acc at epoch : 302 is : 0.804070234298706, loss : 16.45664131641388\n"
     ]
    },
    {
     "name": "stderr",
     "output_type": "stream",
     "text": [
      "100%|██████████████████████████████████████████████████████████████████████████████████| 40/40 [00:02<00:00, 13.73it/s]\n",
      "100%|██████████████████████████████████████████████████████████████████████████████████| 14/14 [00:00<00:00, 57.34it/s]\n",
      "  5%|████▏                                                                              | 2/40 [00:00<00:02, 13.89it/s]"
     ]
    },
    {
     "name": "stdout",
     "output_type": "stream",
     "text": [
      "Acc at dev is : 0.779\n",
      "ROC is : 0.7784245712846578,  prec 0.7795655047558838,  recall 0.7784245712846578, f-score 0.778403432984447\n",
      "Acc at epoch : 303 is : 0.8128491640090942, loss : 16.263946563005447\n"
     ]
    },
    {
     "name": "stderr",
     "output_type": "stream",
     "text": [
      "100%|██████████████████████████████████████████████████████████████████████████████████| 40/40 [00:02<00:00, 13.76it/s]\n",
      "100%|██████████████████████████████████████████████████████████████████████████████████| 14/14 [00:00<00:00, 56.67it/s]\n",
      "  5%|████▏                                                                              | 2/40 [00:00<00:02, 13.83it/s]"
     ]
    },
    {
     "name": "stdout",
     "output_type": "stream",
     "text": [
      "Acc at dev is : 0.792\n",
      "ROC is : 0.792098816310644,  prec 0.7926146788990827,  recall 0.792098816310644, f-score 0.7918076427651353\n",
      "Acc at epoch : 304 is : 0.8064644932746887, loss : 16.244985967874527\n"
     ]
    },
    {
     "name": "stderr",
     "output_type": "stream",
     "text": [
      "100%|██████████████████████████████████████████████████████████████████████████████████| 40/40 [00:02<00:00, 13.78it/s]\n",
      "100%|██████████████████████████████████████████████████████████████████████████████████| 14/14 [00:00<00:00, 55.11it/s]\n",
      "  5%|████▏                                                                              | 2/40 [00:00<00:02, 13.86it/s]"
     ]
    },
    {
     "name": "stdout",
     "output_type": "stream",
     "text": [
      "Acc at dev is : 0.789\n",
      "ROC is : 0.7900954735902191,  prec 0.794628531566097,  recall 0.7900954735902191, f-score 0.7887773617842295\n",
      "Acc at epoch : 305 is : 0.8048683404922485, loss : 16.396255910396576\n"
     ]
    },
    {
     "name": "stderr",
     "output_type": "stream",
     "text": [
      "100%|██████████████████████████████████████████████████████████████████████████████████| 40/40 [00:02<00:00, 13.70it/s]\n",
      "100%|██████████████████████████████████████████████████████████████████████████████████| 14/14 [00:00<00:00, 56.75it/s]\n",
      "  5%|████▏                                                                              | 2/40 [00:00<00:02, 13.46it/s]"
     ]
    },
    {
     "name": "stdout",
     "output_type": "stream",
     "text": [
      "Acc at dev is : 0.789\n",
      "ROC is : 0.7899581015179614,  prec 0.7926110764538712,  recall 0.7899581015179613, f-score 0.7890825688073395\n",
      "Acc at epoch : 306 is : 0.8084596991539001, loss : 16.46140632033348\n"
     ]
    },
    {
     "name": "stderr",
     "output_type": "stream",
     "text": [
      "100%|██████████████████████████████████████████████████████████████████████████████████| 40/40 [00:02<00:00, 13.79it/s]\n",
      "100%|██████████████████████████████████████████████████████████████████████████████████| 14/14 [00:00<00:00, 56.91it/s]\n",
      "  5%|████▏                                                                              | 2/40 [00:00<00:02, 13.85it/s]"
     ]
    },
    {
     "name": "stdout",
     "output_type": "stream",
     "text": [
      "Acc at dev is : 0.791\n",
      "ROC is : 0.7913947844403232,  prec 0.7977082273410407,  recall 0.7913947844403233, f-score 0.7896921858356322\n",
      "Acc at epoch : 307 is : 0.8064644932746887, loss : 16.340263932943344\n"
     ]
    },
    {
     "name": "stderr",
     "output_type": "stream",
     "text": [
      "100%|██████████████████████████████████████████████████████████████████████████████████| 40/40 [00:02<00:00, 13.70it/s]\n",
      "100%|██████████████████████████████████████████████████████████████████████████████████| 14/14 [00:00<00:00, 54.47it/s]\n",
      "  5%|████▏                                                                              | 2/40 [00:00<00:02, 13.93it/s]"
     ]
    },
    {
     "name": "stdout",
     "output_type": "stream",
     "text": [
      "Acc at dev is : 0.789\n",
      "ROC is : 0.7895001946104356,  prec 0.7894736842105263,  recall 0.7895001946104356, f-score 0.7894688644688644\n",
      "Acc at epoch : 308 is : 0.805267333984375, loss : 16.19600149989128\n"
     ]
    },
    {
     "name": "stderr",
     "output_type": "stream",
     "text": [
      "100%|██████████████████████████████████████████████████████████████████████████████████| 40/40 [00:02<00:00, 13.84it/s]\n",
      "100%|██████████████████████████████████████████████████████████████████████████████████| 14/14 [00:00<00:00, 55.50it/s]\n",
      "  5%|████▏                                                                              | 2/40 [00:00<00:02, 13.85it/s]"
     ]
    },
    {
     "name": "stdout",
     "output_type": "stream",
     "text": [
      "Acc at dev is : 0.791\n",
      "ROC is : 0.7912345170226892,  prec 0.7949366721734341,  recall 0.7912345170226893, f-score 0.7901145833781653\n",
      "Acc at epoch : 309 is : 0.8088587522506714, loss : 16.55923843383789\n"
     ]
    },
    {
     "name": "stderr",
     "output_type": "stream",
     "text": [
      "100%|██████████████████████████████████████████████████████████████████████████████████| 40/40 [00:02<00:00, 13.74it/s]\n",
      "100%|██████████████████████████████████████████████████████████████████████████████████| 14/14 [00:00<00:00, 56.08it/s]\n",
      "  5%|████▏                                                                              | 2/40 [00:00<00:02, 13.50it/s]"
     ]
    },
    {
     "name": "stdout",
     "output_type": "stream",
     "text": [
      "Acc at dev is : 0.783\n",
      "ROC is : 0.7844231517732445,  prec 0.7949318328852168,  recall 0.7844231517732445, f-score 0.7817361464708606\n",
      "Acc at epoch : 310 is : 0.8096567988395691, loss : 16.41821625828743\n"
     ]
    },
    {
     "name": "stderr",
     "output_type": "stream",
     "text": [
      "100%|██████████████████████████████████████████████████████████████████████████████████| 40/40 [00:02<00:00, 13.73it/s]\n",
      "100%|██████████████████████████████████████████████████████████████████████████████████| 14/14 [00:00<00:00, 56.63it/s]\n",
      "  5%|████▏                                                                              | 2/40 [00:00<00:02, 13.91it/s]"
     ]
    },
    {
     "name": "stdout",
     "output_type": "stream",
     "text": [
      "Acc at dev is : 0.787\n",
      "ROC is : 0.7882066075966756,  prec 0.8042269860067187,  recall 0.7882066075966756, f-score 0.7844711716722284\n",
      "Acc at epoch : 311 is : 0.8088587522506714, loss : 16.37838903069496\n"
     ]
    },
    {
     "name": "stderr",
     "output_type": "stream",
     "text": [
      "100%|██████████████████████████████████████████████████████████████████████████████████| 40/40 [00:02<00:00, 13.79it/s]\n",
      "100%|██████████████████████████████████████████████████████████████████████████████████| 14/14 [00:00<00:00, 57.55it/s]\n",
      "  5%|████▏                                                                              | 2/40 [00:00<00:02, 13.50it/s]"
     ]
    },
    {
     "name": "stdout",
     "output_type": "stream",
     "text": [
      "Acc at dev is : 0.798\n",
      "ROC is : 0.7979314055452527,  prec 0.7979467541313917,  recall 0.7979314055452527, f-score 0.7978466007053993\n",
      "Acc at epoch : 312 is : 0.8044692873954773, loss : 16.51165360212326\n"
     ]
    },
    {
     "name": "stderr",
     "output_type": "stream",
     "text": [
      "100%|██████████████████████████████████████████████████████████████████████████████████| 40/40 [00:02<00:00, 13.78it/s]\n",
      "100%|██████████████████████████████████████████████████████████████████████████████████| 14/14 [00:00<00:00, 58.17it/s]\n",
      "  5%|████▏                                                                              | 2/40 [00:00<00:02, 13.86it/s]"
     ]
    },
    {
     "name": "stdout",
     "output_type": "stream",
     "text": [
      "Acc at dev is : 0.794\n",
      "ROC is : 0.7948348100831101,  prec 0.7987472450991764,  recall 0.7948348100831102, f-score 0.7936868686868688\n",
      "Acc at epoch : 313 is : 0.8064644932746887, loss : 16.60515797138214\n"
     ]
    },
    {
     "name": "stderr",
     "output_type": "stream",
     "text": [
      "100%|██████████████████████████████████████████████████████████████████████████████████| 40/40 [00:02<00:00, 13.76it/s]\n",
      "100%|██████████████████████████████████████████████████████████████████████████████████| 14/14 [00:00<00:00, 55.82it/s]\n",
      "  5%|████▏                                                                              | 2/40 [00:00<00:02, 13.46it/s]"
     ]
    },
    {
     "name": "stdout",
     "output_type": "stream",
     "text": [
      "Acc at dev is : 0.783\n",
      "ROC is : 0.7835989193396982,  prec 0.7836524974953485,  recall 0.7835989193396982, f-score 0.7834900348697287\n",
      "Acc at epoch : 314 is : 0.80686354637146, loss : 16.799644619226456\n"
     ]
    },
    {
     "name": "stderr",
     "output_type": "stream",
     "text": [
      "100%|██████████████████████████████████████████████████████████████████████████████████| 40/40 [00:02<00:00, 13.72it/s]\n",
      "100%|██████████████████████████████████████████████████████████████████████████████████| 14/14 [00:00<00:00, 56.80it/s]\n",
      "  5%|████▏                                                                              | 2/40 [00:00<00:02, 13.91it/s]"
     ]
    },
    {
     "name": "stdout",
     "output_type": "stream",
     "text": [
      "Acc at dev is : 0.793\n",
      "ROC is : 0.7933523364699957,  prec 0.7942162519016045,  recall 0.7933523364699957, f-score 0.7929552563579492\n",
      "Acc at epoch : 315 is : 0.8096567988395691, loss : 16.337019324302673\n"
     ]
    },
    {
     "name": "stderr",
     "output_type": "stream",
     "text": [
      "100%|██████████████████████████████████████████████████████████████████████████████████| 40/40 [00:02<00:00, 13.79it/s]\n",
      "100%|██████████████████████████████████████████████████████████████████████████████████| 14/14 [00:00<00:00, 55.13it/s]\n",
      "  5%|████▏                                                                              | 2/40 [00:00<00:02, 13.93it/s]"
     ]
    },
    {
     "name": "stdout",
     "output_type": "stream",
     "text": [
      "Acc at dev is : 0.782\n",
      "ROC is : 0.783169631613893,  prec 0.7923047835129513,  recall 0.783169631613893, f-score 0.7807595432826702\n",
      "Acc at epoch : 316 is : 0.804070234298706, loss : 16.566098988056183\n"
     ]
    },
    {
     "name": "stderr",
     "output_type": "stream",
     "text": [
      "100%|██████████████████████████████████████████████████████████████████████████████████| 40/40 [00:02<00:00, 13.77it/s]\n",
      "100%|██████████████████████████████████████████████████████████████████████████████████| 14/14 [00:00<00:00, 57.21it/s]\n",
      "  5%|████▏                                                                              | 2/40 [00:00<00:02, 13.76it/s]"
     ]
    },
    {
     "name": "stdout",
     "output_type": "stream",
     "text": [
      "Acc at dev is : 0.792\n",
      "ROC is : 0.792190397692149,  prec 0.7932984004412575,  recall 0.7921903976921492, f-score 0.7917217917217918\n",
      "Acc at epoch : 317 is : 0.8088587522506714, loss : 16.644578278064728\n"
     ]
    },
    {
     "name": "stderr",
     "output_type": "stream",
     "text": [
      "100%|██████████████████████████████████████████████████████████████████████████████████| 40/40 [00:02<00:00, 13.78it/s]\n",
      "100%|██████████████████████████████████████████████████████████████████████████████████| 14/14 [00:00<00:00, 57.44it/s]\n",
      "  5%|████▏                                                                              | 2/40 [00:00<00:02, 13.89it/s]"
     ]
    },
    {
     "name": "stdout",
     "output_type": "stream",
     "text": [
      "Acc at dev is : 0.786\n",
      "ROC is : 0.7855335760239943,  prec 0.7872980677858727,  recall 0.7855335760239943, f-score 0.7854649354075183\n",
      "Acc at epoch : 318 is : 0.7988826632499695, loss : 16.274153262376785\n"
     ]
    },
    {
     "name": "stderr",
     "output_type": "stream",
     "text": [
      "100%|██████████████████████████████████████████████████████████████████████████████████| 40/40 [00:02<00:00, 13.83it/s]\n",
      "100%|██████████████████████████████████████████████████████████████████████████████████| 14/14 [00:00<00:00, 55.44it/s]\n",
      "  5%|████▏                                                                              | 2/40 [00:00<00:02, 13.96it/s]"
     ]
    },
    {
     "name": "stdout",
     "output_type": "stream",
     "text": [
      "Acc at dev is : 0.793\n",
      "ROC is : 0.793214964397738,  prec 0.7933912933912934,  recall 0.793214964397738, f-score 0.793047691411711\n",
      "Acc at epoch : 319 is : 0.7988826632499695, loss : 16.47272354364395\n"
     ]
    },
    {
     "name": "stderr",
     "output_type": "stream",
     "text": [
      "100%|██████████████████████████████████████████████████████████████████████████████████| 40/40 [00:02<00:00, 13.76it/s]\n",
      "100%|██████████████████████████████████████████████████████████████████████████████████| 14/14 [00:00<00:00, 56.59it/s]\n",
      "  5%|████▏                                                                              | 2/40 [00:00<00:02, 13.79it/s]"
     ]
    },
    {
     "name": "stdout",
     "output_type": "stream",
     "text": [
      "Acc at dev is : 0.783\n",
      "ROC is : 0.7832096984683015,  prec 0.784370240524153,  recall 0.7832096984683015, f-score 0.7831947101091076\n",
      "Acc at epoch : 320 is : 0.8060654401779175, loss : 16.449048280715942\n"
     ]
    },
    {
     "name": "stderr",
     "output_type": "stream",
     "text": [
      "100%|██████████████████████████████████████████████████████████████████████████████████| 40/40 [00:02<00:00, 13.77it/s]\n",
      "100%|██████████████████████████████████████████████████████████████████████████████████| 14/14 [00:00<00:00, 56.61it/s]\n",
      "  5%|████▏                                                                              | 2/40 [00:00<00:02, 13.38it/s]"
     ]
    },
    {
     "name": "stdout",
     "output_type": "stream",
     "text": [
      "Acc at dev is : 0.785\n",
      "ROC is : 0.7856308812418437,  prec 0.796463962358309,  recall 0.7856308812418435, f-score 0.7828947368421053\n",
      "Acc at epoch : 321 is : 0.8092578053474426, loss : 16.464180499315262\n"
     ]
    },
    {
     "name": "stderr",
     "output_type": "stream",
     "text": [
      "100%|██████████████████████████████████████████████████████████████████████████████████| 40/40 [00:02<00:00, 13.81it/s]\n",
      "100%|██████████████████████████████████████████████████████████████████████████████████| 14/14 [00:00<00:00, 57.21it/s]\n",
      "  5%|████▏                                                                              | 2/40 [00:00<00:02, 13.86it/s]"
     ]
    },
    {
     "name": "stdout",
     "output_type": "stream",
     "text": [
      "Acc at dev is : 0.799\n",
      "ROC is : 0.7993909838129908,  prec 0.8007128895021272,  recall 0.7993909838129909, f-score 0.7988773055332798\n",
      "Acc at epoch : 322 is : 0.8088587522506714, loss : 16.58965414762497\n"
     ]
    },
    {
     "name": "stderr",
     "output_type": "stream",
     "text": [
      "100%|██████████████████████████████████████████████████████████████████████████████████| 40/40 [00:02<00:00, 13.69it/s]\n",
      "100%|██████████████████████████████████████████████████████████████████████████████████| 14/14 [00:00<00:00, 55.22it/s]\n",
      "  5%|████▏                                                                              | 2/40 [00:00<00:02, 13.87it/s]"
     ]
    },
    {
     "name": "stdout",
     "output_type": "stream",
     "text": [
      "Acc at dev is : 0.797\n",
      "ROC is : 0.7969755248757928,  prec 0.798101673101673,  recall 0.7969755248757928, f-score 0.7965097965097965\n",
      "Acc at epoch : 323 is : 0.8092578053474426, loss : 16.393886417150497\n"
     ]
    },
    {
     "name": "stderr",
     "output_type": "stream",
     "text": [
      "100%|██████████████████████████████████████████████████████████████████████████████████| 40/40 [00:02<00:00, 13.76it/s]\n",
      "100%|██████████████████████████████████████████████████████████████████████████████████| 14/14 [00:00<00:00, 55.04it/s]\n",
      "  5%|████▏                                                                              | 2/40 [00:00<00:02, 13.91it/s]"
     ]
    },
    {
     "name": "stdout",
     "output_type": "stream",
     "text": [
      "Acc at dev is : 0.792\n",
      "ROC is : 0.7920759209652678,  prec 0.7924777036476603,  recall 0.7920759209652677, f-score 0.7918231361055139\n",
      "Acc at epoch : 324 is : 0.8036711812019348, loss : 16.23719036579132\n"
     ]
    },
    {
     "name": "stderr",
     "output_type": "stream",
     "text": [
      "100%|██████████████████████████████████████████████████████████████████████████████████| 40/40 [00:02<00:00, 13.75it/s]\n",
      "100%|██████████████████████████████████████████████████████████████████████████████████| 14/14 [00:00<00:00, 56.67it/s]\n",
      "  5%|████▏                                                                              | 2/40 [00:00<00:02, 13.39it/s]"
     ]
    },
    {
     "name": "stdout",
     "output_type": "stream",
     "text": [
      "Acc at dev is : 0.779\n",
      "ROC is : 0.7788595828468072,  prec 0.779027279027279,  recall 0.7788595828468072, f-score 0.7786926179836217\n",
      "Acc at epoch : 325 is : 0.8076615929603577, loss : 16.561237663030624\n"
     ]
    },
    {
     "name": "stderr",
     "output_type": "stream",
     "text": [
      "100%|██████████████████████████████████████████████████████████████████████████████████| 40/40 [00:02<00:00, 13.74it/s]\n",
      "100%|██████████████████████████████████████████████████████████████████████████████████| 14/14 [00:00<00:00, 55.80it/s]\n",
      "  5%|████▏                                                                              | 2/40 [00:00<00:02, 13.29it/s]"
     ]
    },
    {
     "name": "stdout",
     "output_type": "stream",
     "text": [
      "Acc at dev is : 0.792\n",
      "ROC is : 0.7919385488930101,  prec 0.7919385488930101,  recall 0.7919385488930101, f-score 0.7918660287081339\n",
      "Acc at epoch : 326 is : 0.8056663870811462, loss : 16.431001842021942\n"
     ]
    },
    {
     "name": "stderr",
     "output_type": "stream",
     "text": [
      "100%|██████████████████████████████████████████████████████████████████████████████████| 40/40 [00:02<00:00, 13.43it/s]\n",
      "100%|██████████████████████████████████████████████████████████████████████████████████| 14/14 [00:00<00:00, 54.69it/s]\n",
      "  5%|████▏                                                                              | 2/40 [00:00<00:02, 13.59it/s]"
     ]
    },
    {
     "name": "stdout",
     "output_type": "stream",
     "text": [
      "Acc at dev is : 0.798\n",
      "ROC is : 0.7978856148545,  prec 0.7978600413225505,  recall 0.7978856148545002, f-score 0.7978442867015697\n",
      "Acc at epoch : 327 is : 0.7992817163467407, loss : 16.317166298627853\n"
     ]
    },
    {
     "name": "stderr",
     "output_type": "stream",
     "text": [
      "100%|██████████████████████████████████████████████████████████████████████████████████| 40/40 [00:02<00:00, 13.56it/s]\n",
      "100%|██████████████████████████████████████████████████████████████████████████████████| 14/14 [00:00<00:00, 52.54it/s]\n",
      "  5%|████▏                                                                              | 2/40 [00:00<00:02, 12.96it/s]"
     ]
    },
    {
     "name": "stdout",
     "output_type": "stream",
     "text": [
      "Acc at dev is : 0.795\n",
      "ROC is : 0.7956762140256886,  prec 0.7961389629374839,  recall 0.7956762140256886, f-score 0.7954050723673194\n",
      "Acc at epoch : 328 is : 0.8080606460571289, loss : 16.269616156816483\n"
     ]
    },
    {
     "name": "stderr",
     "output_type": "stream",
     "text": [
      "100%|██████████████████████████████████████████████████████████████████████████████████| 40/40 [00:02<00:00, 13.51it/s]\n",
      "100%|██████████████████████████████████████████████████████████████████████████████████| 14/14 [00:00<00:00, 52.55it/s]\n",
      "  5%|████▏                                                                              | 2/40 [00:00<00:02, 13.84it/s]"
     ]
    },
    {
     "name": "stdout",
     "output_type": "stream",
     "text": [
      "Acc at dev is : 0.788\n",
      "ROC is : 0.7888648487762439,  prec 0.7928628215618345,  recall 0.7888648487762437, f-score 0.7876622789583725\n",
      "Acc at epoch : 329 is : 0.8032721281051636, loss : 16.20758429169655\n"
     ]
    },
    {
     "name": "stderr",
     "output_type": "stream",
     "text": [
      "100%|██████████████████████████████████████████████████████████████████████████████████| 40/40 [00:02<00:00, 13.72it/s]\n",
      "100%|██████████████████████████████████████████████████████████████████████████████████| 14/14 [00:00<00:00, 53.90it/s]\n",
      "  5%|████▏                                                                              | 2/40 [00:00<00:02, 13.69it/s]"
     ]
    },
    {
     "name": "stdout",
     "output_type": "stream",
     "text": [
      "Acc at dev is : 0.793\n",
      "ROC is : 0.7933294411246193,  prec 0.794044743319773,  recall 0.7933294411246193, f-score 0.7929765948523275\n",
      "Acc at epoch : 330 is : 0.8032721281051636, loss : 16.397481381893158\n"
     ]
    },
    {
     "name": "stderr",
     "output_type": "stream",
     "text": [
      "100%|██████████████████████████████████████████████████████████████████████████████████| 40/40 [00:02<00:00, 13.69it/s]\n",
      "100%|██████████████████████████████████████████████████████████████████████████████████| 14/14 [00:00<00:00, 54.83it/s]\n",
      "  5%|████▏                                                                              | 2/40 [00:00<00:02, 13.80it/s]"
     ]
    },
    {
     "name": "stdout",
     "output_type": "stream",
     "text": [
      "Acc at dev is : 0.798\n",
      "ROC is : 0.7980000915813815,  prec 0.7981792981792982,  recall 0.7980000915813814, f-score 0.7978327158877407\n",
      "Acc at epoch : 331 is : 0.8028731346130371, loss : 16.2783722281456\n"
     ]
    },
    {
     "name": "stderr",
     "output_type": "stream",
     "text": [
      "100%|██████████████████████████████████████████████████████████████████████████████████| 40/40 [00:02<00:00, 13.58it/s]\n",
      "100%|██████████████████████████████████████████████████████████████████████████████████| 14/14 [00:00<00:00, 55.11it/s]\n",
      "  5%|████▏                                                                              | 2/40 [00:00<00:02, 13.77it/s]"
     ]
    },
    {
     "name": "stdout",
     "output_type": "stream",
     "text": [
      "Acc at dev is : 0.791\n",
      "ROC is : 0.790730819424411,  prec 0.7907191712217039,  recall 0.790730819424411, f-score 0.7906695569434607\n",
      "Acc at epoch : 332 is : 0.8064644932746887, loss : 16.378066450357437\n"
     ]
    },
    {
     "name": "stderr",
     "output_type": "stream",
     "text": [
      "100%|██████████████████████████████████████████████████████████████████████████████████| 40/40 [00:02<00:00, 13.50it/s]\n",
      "100%|██████████████████████████████████████████████████████████████████████████████████| 14/14 [00:00<00:00, 54.64it/s]\n",
      "  5%|████▏                                                                              | 2/40 [00:00<00:02, 13.19it/s]"
     ]
    },
    {
     "name": "stdout",
     "output_type": "stream",
     "text": [
      "Acc at dev is : 0.795\n",
      "ROC is : 0.7956075279895598,  prec 0.7957852957852958,  recall 0.7956075279895598, f-score 0.7954402036497259\n",
      "Acc at epoch : 333 is : 0.8064644932746887, loss : 16.285102367401123\n"
     ]
    },
    {
     "name": "stderr",
     "output_type": "stream",
     "text": [
      "100%|██████████████████████████████████████████████████████████████████████████████████| 40/40 [00:02<00:00, 13.58it/s]\n",
      "100%|██████████████████████████████████████████████████████████████████████████████████| 14/14 [00:00<00:00, 55.40it/s]\n",
      "  5%|████▏                                                                              | 2/40 [00:00<00:02, 13.15it/s]"
     ]
    },
    {
     "name": "stdout",
     "output_type": "stream",
     "text": [
      "Acc at dev is : 0.781\n",
      "ROC is : 0.7819390067999175,  prec 0.7902883612383091,  recall 0.7819390067999176, f-score 0.7796854006368024\n",
      "Acc at epoch : 334 is : 0.8104549050331116, loss : 16.159894853830338\n"
     ]
    },
    {
     "name": "stderr",
     "output_type": "stream",
     "text": [
      "100%|██████████████████████████████████████████████████████████████████████████████████| 40/40 [00:02<00:00, 13.62it/s]\n",
      "100%|██████████████████████████████████████████████████████████████████████████████████| 14/14 [00:00<00:00, 55.88it/s]\n",
      "  5%|████▏                                                                              | 2/40 [00:00<00:02, 13.70it/s]"
     ]
    },
    {
     "name": "stdout",
     "output_type": "stream",
     "text": [
      "Acc at dev is : 0.791\n",
      "ROC is : 0.7917153192755912,  prec 0.8055400682241927,  recall 0.7917153192755912, f-score 0.7884832528760061\n",
      "Acc at epoch : 335 is : 0.8092578053474426, loss : 16.39912983775139\n"
     ]
    },
    {
     "name": "stderr",
     "output_type": "stream",
     "text": [
      "100%|██████████████████████████████████████████████████████████████████████████████████| 40/40 [00:02<00:00, 13.63it/s]\n",
      "100%|██████████████████████████████████████████████████████████████████████████████████| 14/14 [00:00<00:00, 53.77it/s]\n",
      "  5%|████▏                                                                              | 2/40 [00:00<00:02, 13.69it/s]"
     ]
    },
    {
     "name": "stdout",
     "output_type": "stream",
     "text": [
      "Acc at dev is : 0.795\n",
      "ROC is : 0.7955159466080546,  prec 0.7955041066880348,  recall 0.7955159466080546, f-score 0.795454252784753\n",
      "Acc at epoch : 336 is : 0.8120510578155518, loss : 16.588478237390518\n"
     ]
    },
    {
     "name": "stderr",
     "output_type": "stream",
     "text": [
      "100%|██████████████████████████████████████████████████████████████████████████████████| 40/40 [00:02<00:00, 13.69it/s]\n",
      "100%|██████████████████████████████████████████████████████████████████████████████████| 14/14 [00:00<00:00, 54.86it/s]\n",
      "  5%|████▏                                                                              | 2/40 [00:00<00:02, 13.72it/s]"
     ]
    },
    {
     "name": "stdout",
     "output_type": "stream",
     "text": [
      "Acc at dev is : 0.793\n",
      "ROC is : 0.7936041852691348,  prec 0.7970196700617838,  recall 0.7936041852691348, f-score 0.7925632695796849\n",
      "Acc at epoch : 337 is : 0.8024740815162659, loss : 16.563056379556656\n"
     ]
    },
    {
     "name": "stderr",
     "output_type": "stream",
     "text": [
      "100%|██████████████████████████████████████████████████████████████████████████████████| 40/40 [00:02<00:00, 13.69it/s]\n",
      "100%|██████████████████████████████████████████████████████████████████████████████████| 14/14 [00:00<00:00, 54.32it/s]\n",
      "  5%|████▏                                                                              | 2/40 [00:00<00:02, 13.73it/s]"
     ]
    },
    {
     "name": "stdout",
     "output_type": "stream",
     "text": [
      "Acc at dev is : 0.789\n",
      "ROC is : 0.7898665201364562,  prec 0.7915486470926886,  recall 0.7898665201364563, f-score 0.7892372570590392\n",
      "Acc at epoch : 338 is : 0.8004788756370544, loss : 16.130496859550476\n"
     ]
    },
    {
     "name": "stderr",
     "output_type": "stream",
     "text": [
      "100%|██████████████████████████████████████████████████████████████████████████████████| 40/40 [00:02<00:00, 13.59it/s]\n",
      "100%|██████████████████████████████████████████████████████████████████████████████████| 14/14 [00:00<00:00, 54.07it/s]\n",
      "  5%|████▏                                                                              | 2/40 [00:00<00:02, 13.64it/s]"
     ]
    },
    {
     "name": "stdout",
     "output_type": "stream",
     "text": [
      "Acc at dev is : 0.788\n",
      "ROC is : 0.7889106394669964,  prec 0.7936043975220313,  recall 0.7889106394669964, f-score 0.7875476493011435\n",
      "Acc at epoch : 339 is : 0.8060654401779175, loss : 16.348017543554306\n"
     ]
    },
    {
     "name": "stderr",
     "output_type": "stream",
     "text": [
      "100%|██████████████████████████████████████████████████████████████████████████████████| 40/40 [00:02<00:00, 13.59it/s]\n",
      "100%|██████████████████████████████████████████████████████████████████████████████████| 14/14 [00:00<00:00, 55.15it/s]\n",
      "  5%|████▏                                                                              | 2/40 [00:00<00:02, 13.68it/s]"
     ]
    },
    {
     "name": "stdout",
     "output_type": "stream",
     "text": [
      "Acc at dev is : 0.778\n",
      "ROC is : 0.777079469743801,  prec 0.7796146114923408,  recall 0.777079469743801, f-score 0.7768939393939394\n",
      "Acc at epoch : 340 is : 0.8080606460571289, loss : 16.199080422520638\n"
     ]
    },
    {
     "name": "stderr",
     "output_type": "stream",
     "text": [
      "100%|██████████████████████████████████████████████████████████████████████████████████| 40/40 [00:02<00:00, 13.59it/s]\n",
      "100%|██████████████████████████████████████████████████████████████████████████████████| 14/14 [00:00<00:00, 55.61it/s]\n",
      "  5%|████▏                                                                              | 2/40 [00:00<00:02, 13.60it/s]"
     ]
    },
    {
     "name": "stdout",
     "output_type": "stream",
     "text": [
      "Acc at dev is : 0.787\n",
      "ROC is : 0.7880234448336652,  prec 0.7989472683633944,  recall 0.7880234448336654, f-score 0.7853070175438597\n",
      "Acc at epoch : 341 is : 0.8064644932746887, loss : 16.479644298553467\n"
     ]
    },
    {
     "name": "stderr",
     "output_type": "stream",
     "text": [
      "100%|██████████████████████████████████████████████████████████████████████████████████| 40/40 [00:02<00:00, 13.78it/s]\n",
      "100%|██████████████████████████████████████████████████████████████████████████████████| 14/14 [00:00<00:00, 54.35it/s]\n",
      "  5%|████▏                                                                              | 2/40 [00:00<00:02, 13.76it/s]"
     ]
    },
    {
     "name": "stdout",
     "output_type": "stream",
     "text": [
      "Acc at dev is : 0.791\n",
      "ROC is : 0.7909826682235501,  prec 0.7920005284349709,  recall 0.7909826682235501, f-score 0.7905376867514728\n",
      "Acc at epoch : 342 is : 0.804070234298706, loss : 16.408776223659515\n"
     ]
    },
    {
     "name": "stderr",
     "output_type": "stream",
     "text": [
      "100%|██████████████████████████████████████████████████████████████████████████████████| 40/40 [00:02<00:00, 13.79it/s]\n",
      "100%|██████████████████████████████████████████████████████████████████████████████████| 14/14 [00:00<00:00, 53.95it/s]\n",
      "  5%|████▏                                                                              | 2/40 [00:00<00:02, 13.75it/s]"
     ]
    },
    {
     "name": "stdout",
     "output_type": "stream",
     "text": [
      "Acc at dev is : 0.794\n",
      "ROC is : 0.7944455892117133,  prec 0.794749266593326,  recall 0.7944455892117133, f-score 0.794228930904012\n",
      "Acc at epoch : 343 is : 0.8060654401779175, loss : 16.583035796880722\n"
     ]
    },
    {
     "name": "stderr",
     "output_type": "stream",
     "text": [
      "100%|██████████████████████████████████████████████████████████████████████████████████| 40/40 [00:02<00:00, 13.69it/s]\n",
      "100%|██████████████████████████████████████████████████████████████████████████████████| 14/14 [00:00<00:00, 56.58it/s]\n",
      "  5%|████▏                                                                              | 2/40 [00:00<00:02, 13.81it/s]"
     ]
    },
    {
     "name": "stdout",
     "output_type": "stream",
     "text": [
      "Acc at dev is : 0.791\n",
      "ROC is : 0.7905476566614008,  prec 0.7908023259144682,  recall 0.7905476566614007, f-score 0.7905832606887706\n",
      "Acc at epoch : 344 is : 0.8060654401779175, loss : 16.266210362315178\n"
     ]
    },
    {
     "name": "stderr",
     "output_type": "stream",
     "text": [
      "100%|██████████████████████████████████████████████████████████████████████████████████| 40/40 [00:02<00:00, 13.66it/s]\n",
      "100%|██████████████████████████████████████████████████████████████████████████████████| 14/14 [00:00<00:00, 56.05it/s]\n",
      "  5%|████▏                                                                              | 2/40 [00:00<00:02, 13.76it/s]"
     ]
    },
    {
     "name": "stdout",
     "output_type": "stream",
     "text": [
      "Acc at dev is : 0.792\n",
      "ROC is : 0.7920759209652678,  prec 0.7924777036476603,  recall 0.7920759209652677, f-score 0.7918231361055139\n",
      "Acc at epoch : 345 is : 0.8064644932746887, loss : 16.019971773028374\n"
     ]
    },
    {
     "name": "stderr",
     "output_type": "stream",
     "text": [
      "100%|██████████████████████████████████████████████████████████████████████████████████| 40/40 [00:02<00:00, 13.65it/s]\n",
      "100%|██████████████████████████████████████████████████████████████████████████████████| 14/14 [00:00<00:00, 54.36it/s]\n",
      "  5%|████▏                                                                              | 2/40 [00:00<00:02, 13.75it/s]"
     ]
    },
    {
     "name": "stdout",
     "output_type": "stream",
     "text": [
      "Acc at dev is : 0.788\n",
      "ROC is : 0.7891624882661354,  prec 0.7987539843523617,  recall 0.7891624882661354, f-score 0.7867393043215081\n",
      "Acc at epoch : 346 is : 0.8004788756370544, loss : 16.335224747657776\n"
     ]
    },
    {
     "name": "stderr",
     "output_type": "stream",
     "text": [
      "100%|██████████████████████████████████████████████████████████████████████████████████| 40/40 [00:02<00:00, 13.60it/s]\n",
      "100%|██████████████████████████████████████████████████████████████████████████████████| 14/14 [00:00<00:00, 54.47it/s]\n",
      "  5%|████▏                                                                              | 2/40 [00:00<00:02, 13.69it/s]"
     ]
    },
    {
     "name": "stdout",
     "output_type": "stream",
     "text": [
      "Acc at dev is : 0.793\n",
      "ROC is : 0.793054696980104,  prec 0.7930429556706636,  recall 0.793054696980104, f-score 0.793047691411711\n",
      "Acc at epoch : 347 is : 0.792497992515564, loss : 16.69767427444458\n"
     ]
    },
    {
     "name": "stderr",
     "output_type": "stream",
     "text": [
      "100%|██████████████████████████████████████████████████████████████████████████████████| 40/40 [00:02<00:00, 13.52it/s]\n",
      "100%|██████████████████████████████████████████████████████████████████████████████████| 14/14 [00:00<00:00, 53.83it/s]\n",
      "  5%|████▏                                                                              | 2/40 [00:00<00:02, 13.54it/s]"
     ]
    },
    {
     "name": "stdout",
     "output_type": "stream",
     "text": [
      "Acc at dev is : 0.791\n",
      "ROC is : 0.7911200402958078,  prec 0.7933921721323296,  recall 0.7911200402958078, f-score 0.7903431751186216\n",
      "Acc at epoch : 348 is : 0.805267333984375, loss : 16.441507667303085\n"
     ]
    },
    {
     "name": "stderr",
     "output_type": "stream",
     "text": [
      "100%|██████████████████████████████████████████████████████████████████████████████████| 40/40 [00:02<00:00, 13.37it/s]\n",
      "100%|██████████████████████████████████████████████████████████████████████████████████| 14/14 [00:00<00:00, 53.81it/s]\n",
      "  5%|████▏                                                                              | 2/40 [00:00<00:02, 13.22it/s]"
     ]
    },
    {
     "name": "stdout",
     "output_type": "stream",
     "text": [
      "Acc at dev is : 0.781\n",
      "ROC is : 0.7820534835267989,  prec 0.7930311661899466,  recall 0.782053483526799, f-score 0.7792275822658221\n",
      "Acc at epoch : 349 is : 0.8060654401779175, loss : 16.1261076182127\n"
     ]
    },
    {
     "name": "stderr",
     "output_type": "stream",
     "text": [
      "100%|██████████████████████████████████████████████████████████████████████████████████| 40/40 [00:02<00:00, 13.54it/s]\n",
      "100%|██████████████████████████████████████████████████████████████████████████████████| 14/14 [00:00<00:00, 51.78it/s]\n",
      "  5%|████▏                                                                              | 2/40 [00:00<00:02, 13.11it/s]"
     ]
    },
    {
     "name": "stdout",
     "output_type": "stream",
     "text": [
      "Acc at dev is : 0.783\n",
      "ROC is : 0.7838736634842136,  prec 0.7854174939428993,  recall 0.7838736634842136, f-score 0.783266754229289\n",
      "Acc at epoch : 350 is : 0.8024740815162659, loss : 16.335212007164955\n"
     ]
    },
    {
     "name": "stderr",
     "output_type": "stream",
     "text": [
      "100%|██████████████████████████████████████████████████████████████████████████████████| 40/40 [00:02<00:00, 13.51it/s]\n",
      "100%|██████████████████████████████████████████████████████████████████████████████████| 14/14 [00:00<00:00, 55.49it/s]\n",
      "  5%|████▏                                                                              | 2/40 [00:00<00:02, 13.31it/s]"
     ]
    },
    {
     "name": "stdout",
     "output_type": "stream",
     "text": [
      "Acc at dev is : 0.793\n",
      "ROC is : 0.7931233830162328,  prec 0.7931116389548694,  recall 0.7931233830162328, f-score 0.7930619048641069\n",
      "Acc at epoch : 351 is : 0.8132482171058655, loss : 16.009983971714973\n"
     ]
    },
    {
     "name": "stderr",
     "output_type": "stream",
     "text": [
      "100%|██████████████████████████████████████████████████████████████████████████████████| 40/40 [00:02<00:00, 13.68it/s]\n",
      "100%|██████████████████████████████████████████████████████████████████████████████████| 14/14 [00:00<00:00, 53.39it/s]\n",
      "  5%|████▏                                                                              | 2/40 [00:00<00:02, 13.60it/s]"
     ]
    },
    {
     "name": "stdout",
     "output_type": "stream",
     "text": [
      "Acc at dev is : 0.793\n",
      "ROC is : 0.7937186619960164,  prec 0.7988660388237555,  recall 0.7937186619960163, f-score 0.7922891877724241\n",
      "Acc at epoch : 352 is : 0.805267333984375, loss : 16.120810613036156\n"
     ]
    },
    {
     "name": "stderr",
     "output_type": "stream",
     "text": [
      "100%|██████████████████████████████████████████████████████████████████████████████████| 40/40 [00:02<00:00, 13.57it/s]\n",
      "100%|██████████████████████████████████████████████████████████████████████████████████| 14/14 [00:00<00:00, 52.84it/s]\n",
      "  5%|████▏                                                                              | 2/40 [00:00<00:02, 13.02it/s]"
     ]
    },
    {
     "name": "stdout",
     "output_type": "stream",
     "text": [
      "Acc at dev is : 0.788\n",
      "ROC is : 0.7883382558325892,  prec 0.7883267034885385,  recall 0.7883382558325892, f-score 0.7882772090228146\n",
      "Acc at epoch : 353 is : 0.8080606460571289, loss : 16.416908115148544\n"
     ]
    },
    {
     "name": "stderr",
     "output_type": "stream",
     "text": [
      "100%|██████████████████████████████████████████████████████████████████████████████████| 40/40 [00:02<00:00, 13.55it/s]\n",
      "100%|██████████████████████████████████████████████████████████████████████████████████| 14/14 [00:00<00:00, 55.95it/s]\n",
      "  5%|████▏                                                                              | 2/40 [00:00<00:02, 13.78it/s]"
     ]
    },
    {
     "name": "stdout",
     "output_type": "stream",
     "text": [
      "Acc at dev is : 0.792\n",
      "ROC is : 0.7923964558005357,  prec 0.7956455309396486,  recall 0.7923964558005357, f-score 0.7913884490947891\n",
      "Acc at epoch : 354 is : 0.8100558519363403, loss : 16.39657759666443\n"
     ]
    },
    {
     "name": "stderr",
     "output_type": "stream",
     "text": [
      "100%|██████████████████████████████████████████████████████████████████████████████████| 40/40 [00:02<00:00, 13.62it/s]\n",
      "100%|██████████████████████████████████████████████████████████████████████████████████| 14/14 [00:00<00:00, 53.00it/s]\n",
      "  5%|████▏                                                                              | 2/40 [00:00<00:02, 13.54it/s]"
     ]
    },
    {
     "name": "stdout",
     "output_type": "stream",
     "text": [
      "Acc at dev is : 0.792\n",
      "ROC is : 0.7925567232181698,  prec 0.7982726423902895,  recall 0.7925567232181697, f-score 0.7909939940802897\n",
      "Acc at epoch : 355 is : 0.8064644932746887, loss : 16.256343349814415\n"
     ]
    },
    {
     "name": "stderr",
     "output_type": "stream",
     "text": [
      "100%|██████████████████████████████████████████████████████████████████████████████████| 40/40 [00:02<00:00, 13.42it/s]\n",
      "100%|██████████████████████████████████████████████████████████████████████████████████| 14/14 [00:00<00:00, 53.25it/s]\n",
      "  5%|████▏                                                                              | 2/40 [00:00<00:02, 13.58it/s]"
     ]
    },
    {
     "name": "stdout",
     "output_type": "stream",
     "text": [
      "Acc at dev is : 0.788\n",
      "ROC is : 0.788223779105708,  prec 0.7882782310004294,  recall 0.7882237791057078, f-score 0.7882408500590319\n",
      "Acc at epoch : 356 is : 0.8088587522506714, loss : 16.219795733690262\n"
     ]
    },
    {
     "name": "stderr",
     "output_type": "stream",
     "text": [
      "100%|██████████████████████████████████████████████████████████████████████████████████| 40/40 [00:02<00:00, 13.52it/s]\n",
      "100%|██████████████████████████████████████████████████████████████████████████████████| 14/14 [00:00<00:00, 54.69it/s]\n",
      "  5%|████▏                                                                              | 2/40 [00:00<00:02, 13.59it/s]"
     ]
    },
    {
     "name": "stdout",
     "output_type": "stream",
     "text": [
      "Acc at dev is : 0.782\n",
      "ROC is : 0.7831238409231404,  prec 0.7912662521198417,  recall 0.7831238409231402, f-score 0.7809312638580932\n",
      "Acc at epoch : 357 is : 0.8080606460571289, loss : 16.047758147120476\n"
     ]
    },
    {
     "name": "stderr",
     "output_type": "stream",
     "text": [
      "100%|██████████████████████████████████████████████████████████████████████████████████| 40/40 [00:02<00:00, 13.60it/s]\n",
      "100%|██████████████████████████████████████████████████████████████████████████████████| 14/14 [00:00<00:00, 56.04it/s]\n",
      "  5%|████▏                                                                              | 2/40 [00:00<00:02, 13.42it/s]"
     ]
    },
    {
     "name": "stdout",
     "output_type": "stream",
     "text": [
      "Acc at dev is : 0.800\n",
      "ROC is : 0.8007360853538475,  prec 0.8036297336500176,  recall 0.8007360853538475, f-score 0.799847174374612\n",
      "Acc at epoch : 358 is : 0.8088587522506714, loss : 16.0759666711092\n"
     ]
    },
    {
     "name": "stderr",
     "output_type": "stream",
     "text": [
      "100%|██████████████████████████████████████████████████████████████████████████████████| 40/40 [00:02<00:00, 13.77it/s]\n",
      "100%|██████████████████████████████████████████████████████████████████████████████████| 14/14 [00:00<00:00, 56.34it/s]\n",
      "  5%|████▏                                                                              | 2/40 [00:00<00:02, 13.90it/s]"
     ]
    },
    {
     "name": "stdout",
     "output_type": "stream",
     "text": [
      "Acc at dev is : 0.793\n",
      "ROC is : 0.7936728713052636,  prec 0.7980833473736804,  recall 0.7936728713052636, f-score 0.7924060589619155\n",
      "Acc at epoch : 359 is : 0.8120510578155518, loss : 16.031714603304863\n"
     ]
    },
    {
     "name": "stderr",
     "output_type": "stream",
     "text": [
      "100%|██████████████████████████████████████████████████████████████████████████████████| 40/40 [00:02<00:00, 13.83it/s]\n",
      "100%|██████████████████████████████████████████████████████████████████████████████████| 14/14 [00:00<00:00, 58.20it/s]\n",
      "  5%|████▏                                                                              | 2/40 [00:00<00:02, 13.91it/s]"
     ]
    },
    {
     "name": "stdout",
     "output_type": "stream",
     "text": [
      "Acc at dev is : 0.787\n",
      "ROC is : 0.7868786775648511,  prec 0.7875106124228448,  recall 0.7868786775648511, f-score 0.7869057165769274\n",
      "Acc at epoch : 360 is : 0.8024740815162659, loss : 16.51289850473404\n"
     ]
    },
    {
     "name": "stderr",
     "output_type": "stream",
     "text": [
      "100%|██████████████████████████████████████████████████████████████████████████████████| 40/40 [00:02<00:00, 13.73it/s]\n",
      "100%|██████████████████████████████████████████████████████████████████████████████████| 14/14 [00:00<00:00, 56.25it/s]\n",
      "  5%|████▏                                                                              | 2/40 [00:00<00:02, 13.88it/s]"
     ]
    },
    {
     "name": "stdout",
     "output_type": "stream",
     "text": [
      "Acc at dev is : 0.791\n",
      "ROC is : 0.7908224008059161,  prec 0.790997290997291,  recall 0.7908224008059161, f-score 0.790655179173696\n",
      "Acc at epoch : 361 is : 0.8072625994682312, loss : 16.219029888510704\n"
     ]
    },
    {
     "name": "stderr",
     "output_type": "stream",
     "text": [
      "100%|██████████████████████████████████████████████████████████████████████████████████| 40/40 [00:02<00:00, 13.80it/s]\n",
      "100%|██████████████████████████████████████████████████████████████████████████████████| 14/14 [00:00<00:00, 52.24it/s]\n",
      "  5%|████▏                                                                              | 2/40 [00:00<00:02, 13.51it/s]"
     ]
    },
    {
     "name": "stdout",
     "output_type": "stream",
     "text": [
      "Acc at dev is : 0.800\n",
      "ROC is : 0.8006445039723423,  prec 0.8025023756731073,  recall 0.8006445039723424, f-score 0.7999985674481236\n",
      "Acc at epoch : 362 is : 0.8044692873954773, loss : 16.299091339111328\n"
     ]
    },
    {
     "name": "stderr",
     "output_type": "stream",
     "text": [
      "100%|██████████████████████████████████████████████████████████████████████████████████| 40/40 [00:02<00:00, 13.55it/s]\n",
      "100%|██████████████████████████████████████████████████████████████████████████████████| 14/14 [00:00<00:00, 48.96it/s]\n",
      "  5%|████▏                                                                              | 2/40 [00:00<00:02, 12.94it/s]"
     ]
    },
    {
     "name": "stdout",
     "output_type": "stream",
     "text": [
      "Acc at dev is : 0.793\n",
      "ROC is : 0.7938102433775214,  prec 0.8006119879359316,  recall 0.7938102433775214, f-score 0.7920263439816512\n",
      "Acc at epoch : 363 is : 0.7992817163467407, loss : 16.300519317388535\n"
     ]
    },
    {
     "name": "stderr",
     "output_type": "stream",
     "text": [
      "100%|██████████████████████████████████████████████████████████████████████████████████| 40/40 [00:03<00:00, 13.12it/s]\n",
      "100%|██████████████████████████████████████████████████████████████████████████████████| 14/14 [00:00<00:00, 50.62it/s]\n",
      "  5%|████▏                                                                              | 2/40 [00:00<00:02, 13.33it/s]"
     ]
    },
    {
     "name": "stdout",
     "output_type": "stream",
     "text": [
      "Acc at dev is : 0.792\n",
      "ROC is : 0.791526432676237,  prec 0.7932181922855498,  recall 0.791526432676237, f-score 0.7914793577981651\n",
      "Acc at epoch : 364 is : 0.8080606460571289, loss : 16.205495208501816\n"
     ]
    },
    {
     "name": "stderr",
     "output_type": "stream",
     "text": [
      "100%|██████████████████████████████████████████████████████████████████████████████████| 40/40 [00:03<00:00, 13.03it/s]\n",
      "100%|██████████████████████████████████████████████████████████████████████████████████| 14/14 [00:00<00:00, 51.32it/s]\n",
      "  5%|████▏                                                                              | 2/40 [00:00<00:02, 13.52it/s]"
     ]
    },
    {
     "name": "stdout",
     "output_type": "stream",
     "text": [
      "Acc at dev is : 0.782\n",
      "ROC is : 0.7829635735055064,  prec 0.7881087255519035,  recall 0.7829635735055063, f-score 0.7814510939510939\n",
      "Acc at epoch : 365 is : 0.8000798225402832, loss : 16.61405172944069\n"
     ]
    },
    {
     "name": "stderr",
     "output_type": "stream",
     "text": [
      "100%|██████████████████████████████████████████████████████████████████████████████████| 40/40 [00:02<00:00, 13.44it/s]\n",
      "100%|██████████████████████████████████████████████████████████████████████████████████| 14/14 [00:00<00:00, 49.13it/s]\n",
      "  5%|████▏                                                                              | 2/40 [00:00<00:02, 13.16it/s]"
     ]
    },
    {
     "name": "stdout",
     "output_type": "stream",
     "text": [
      "Acc at dev is : 0.776\n",
      "ROC is : 0.7758488449298258,  prec 0.7787736804049168,  recall 0.7758488449298258, f-score 0.7756065492825328\n",
      "Acc at epoch : 366 is : 0.80686354637146, loss : 16.078229650855064\n"
     ]
    },
    {
     "name": "stderr",
     "output_type": "stream",
     "text": [
      "100%|██████████████████████████████████████████████████████████████████████████████████| 40/40 [00:02<00:00, 13.46it/s]\n",
      "100%|██████████████████████████████████████████████████████████████████████████████████| 14/14 [00:00<00:00, 45.60it/s]\n",
      "  5%|████▏                                                                              | 2/40 [00:00<00:02, 12.99it/s]"
     ]
    },
    {
     "name": "stdout",
     "output_type": "stream",
     "text": [
      "Acc at dev is : 0.791\n",
      "ROC is : 0.7909139821874213,  prec 0.7914895935490901,  recall 0.7909139821874213, f-score 0.7906024437825528\n",
      "Acc at epoch : 367 is : 0.8076615929603577, loss : 16.174828723073006\n"
     ]
    },
    {
     "name": "stderr",
     "output_type": "stream",
     "text": [
      "100%|██████████████████████████████████████████████████████████████████████████████████| 40/40 [00:03<00:00, 13.04it/s]\n",
      "100%|██████████████████████████████████████████████████████████████████████████████████| 14/14 [00:00<00:00, 48.57it/s]\n",
      "  5%|████▏                                                                              | 2/40 [00:00<00:03, 12.66it/s]"
     ]
    },
    {
     "name": "stdout",
     "output_type": "stream",
     "text": [
      "Acc at dev is : 0.789\n",
      "ROC is : 0.7901412642809716,  prec 0.7954169289227685,  recall 0.7901412642809718, f-score 0.7886560029417173\n",
      "Acc at epoch : 368 is : 0.8064644932746887, loss : 16.365081518888474\n"
     ]
    },
    {
     "name": "stderr",
     "output_type": "stream",
     "text": [
      "100%|██████████████████████████████████████████████████████████████████████████████████| 40/40 [00:02<00:00, 13.41it/s]\n",
      "100%|██████████████████████████████████████████████████████████████████████████████████| 14/14 [00:00<00:00, 54.46it/s]\n",
      "  5%|████▏                                                                              | 2/40 [00:00<00:02, 13.38it/s]"
     ]
    },
    {
     "name": "stdout",
     "output_type": "stream",
     "text": [
      "Acc at dev is : 0.789\n",
      "ROC is : 0.7902786363532293,  prec 0.7981422692533804,  recall 0.7902786363532294, f-score 0.7882325849165228\n",
      "Acc at epoch : 369 is : 0.8048683404922485, loss : 16.12545883655548\n"
     ]
    },
    {
     "name": "stderr",
     "output_type": "stream",
     "text": [
      "100%|██████████████████████████████████████████████████████████████████████████████████| 40/40 [00:02<00:00, 13.58it/s]\n",
      "100%|██████████████████████████████████████████████████████████████████████████████████| 14/14 [00:00<00:00, 54.66it/s]\n",
      "  5%|████▏                                                                              | 2/40 [00:00<00:02, 13.32it/s]"
     ]
    },
    {
     "name": "stdout",
     "output_type": "stream",
     "text": [
      "Acc at dev is : 0.786\n",
      "ROC is : 0.7865180758751745,  prec 0.7911729633830672,  recall 0.7865180758751746, f-score 0.7851470577678232\n",
      "Acc at epoch : 370 is : 0.8088587522506714, loss : 15.989953689277172\n"
     ]
    },
    {
     "name": "stderr",
     "output_type": "stream",
     "text": [
      "100%|██████████████████████████████████████████████████████████████████████████████████| 40/40 [00:02<00:00, 13.68it/s]\n",
      "100%|██████████████████████████████████████████████████████████████████████████████████| 14/14 [00:00<00:00, 54.38it/s]\n",
      "  5%|████▏                                                                              | 2/40 [00:00<00:02, 13.85it/s]"
     ]
    },
    {
     "name": "stdout",
     "output_type": "stream",
     "text": [
      "Acc at dev is : 0.792\n",
      "ROC is : 0.7919385488930101,  prec 0.7919385488930101,  recall 0.7919385488930101, f-score 0.7918660287081339\n",
      "Acc at epoch : 371 is : 0.8028731346130371, loss : 16.551047891378403\n"
     ]
    },
    {
     "name": "stderr",
     "output_type": "stream",
     "text": [
      "100%|██████████████████████████████████████████████████████████████████████████████████| 40/40 [00:02<00:00, 13.74it/s]\n",
      "100%|██████████████████████████████████████████████████████████████████████████████████| 14/14 [00:00<00:00, 55.51it/s]\n",
      "  5%|████▏                                                                              | 2/40 [00:00<00:02, 13.72it/s]"
     ]
    },
    {
     "name": "stdout",
     "output_type": "stream",
     "text": [
      "Acc at dev is : 0.781\n",
      "ROC is : 0.7819619021452938,  prec 0.7908055137400749,  recall 0.7819619021452939, f-score 0.7795990693453003\n",
      "Acc at epoch : 372 is : 0.8116520643234253, loss : 15.95635125041008\n"
     ]
    },
    {
     "name": "stderr",
     "output_type": "stream",
     "text": [
      "100%|██████████████████████████████████████████████████████████████████████████████████| 40/40 [00:02<00:00, 13.62it/s]\n",
      "100%|██████████████████████████████████████████████████████████████████████████████████| 14/14 [00:00<00:00, 54.69it/s]\n",
      "  5%|████▏                                                                              | 2/40 [00:00<00:02, 13.23it/s]"
     ]
    },
    {
     "name": "stdout",
     "output_type": "stream",
     "text": [
      "Acc at dev is : 0.792\n",
      "ROC is : 0.7921446070013967,  prec 0.7929292929292929,  recall 0.7921446070013967, f-score 0.7917694954850754\n",
      "Acc at epoch : 373 is : 0.8108539581298828, loss : 16.490155175328255\n"
     ]
    },
    {
     "name": "stderr",
     "output_type": "stream",
     "text": [
      "100%|██████████████████████████████████████████████████████████████████████████████████| 40/40 [00:02<00:00, 13.63it/s]\n",
      "100%|██████████████████████████████████████████████████████████████████████████████████| 14/14 [00:00<00:00, 56.09it/s]\n",
      "  5%|████▏                                                                              | 2/40 [00:00<00:02, 13.74it/s]"
     ]
    },
    {
     "name": "stdout",
     "output_type": "stream",
     "text": [
      "Acc at dev is : 0.780\n",
      "ROC is : 0.7798612542070198,  prec 0.7798932954753618,  recall 0.7798612542070198, f-score 0.779872809804292\n",
      "Acc at epoch : 374 is : 0.8044692873954773, loss : 16.2542787194252\n"
     ]
    },
    {
     "name": "stderr",
     "output_type": "stream",
     "text": [
      "100%|██████████████████████████████████████████████████████████████████████████████████| 40/40 [00:02<00:00, 13.74it/s]\n",
      "100%|██████████████████████████████████████████████████████████████████████████████████| 14/14 [00:00<00:00, 52.49it/s]\n",
      "  5%|████▏                                                                              | 2/40 [00:00<00:02, 13.32it/s]"
     ]
    },
    {
     "name": "stdout",
     "output_type": "stream",
     "text": [
      "Acc at dev is : 0.794\n",
      "ROC is : 0.794262426448703,  prec 0.7942422161172161,  recall 0.794262426448703, f-score 0.7942477749477721\n",
      "Acc at epoch : 375 is : 0.8028731346130371, loss : 16.28552034497261\n"
     ]
    },
    {
     "name": "stderr",
     "output_type": "stream",
     "text": [
      "100%|██████████████████████████████████████████████████████████████████████████████████| 40/40 [00:02<00:00, 13.61it/s]\n",
      "100%|██████████████████████████████████████████████████████████████████████████████████| 14/14 [00:00<00:00, 52.03it/s]\n",
      "  5%|████▏                                                                              | 2/40 [00:00<00:02, 13.63it/s]"
     ]
    },
    {
     "name": "stdout",
     "output_type": "stream",
     "text": [
      "Acc at dev is : 0.780\n",
      "ROC is : 0.780456533186803,  prec 0.7838686503522432,  recall 0.7804565331868031, f-score 0.77934738327892\n",
      "Acc at epoch : 376 is : 0.8024740815162659, loss : 16.18302819132805\n"
     ]
    },
    {
     "name": "stderr",
     "output_type": "stream",
     "text": [
      "100%|██████████████████████████████████████████████████████████████████████████████████| 40/40 [00:02<00:00, 13.66it/s]\n",
      "100%|██████████████████████████████████████████████████████████████████████████████████| 14/14 [00:00<00:00, 55.24it/s]\n",
      "  5%|████▏                                                                              | 2/40 [00:00<00:02, 13.75it/s]"
     ]
    },
    {
     "name": "stdout",
     "output_type": "stream",
     "text": [
      "Acc at dev is : 0.797\n",
      "ROC is : 0.7970442109119215,  prec 0.7987679907887162,  recall 0.7970442109119216, f-score 0.7964223505683902\n",
      "Acc at epoch : 377 is : 0.8144453167915344, loss : 16.35433739423752\n"
     ]
    },
    {
     "name": "stderr",
     "output_type": "stream",
     "text": [
      "100%|██████████████████████████████████████████████████████████████████████████████████| 40/40 [00:02<00:00, 13.70it/s]\n",
      "100%|██████████████████████████████████████████████████████████████████████████████████| 14/14 [00:00<00:00, 55.00it/s]\n",
      "  5%|████▏                                                                              | 2/40 [00:00<00:02, 13.80it/s]"
     ]
    },
    {
     "name": "stdout",
     "output_type": "stream",
     "text": [
      "Acc at dev is : 0.793\n",
      "ROC is : 0.7937644526867688,  prec 0.7997086012274954,  recall 0.7937644526867688, f-score 0.792162627843379\n",
      "Acc at epoch : 378 is : 0.8024740815162659, loss : 16.1781165599823\n"
     ]
    },
    {
     "name": "stderr",
     "output_type": "stream",
     "text": [
      "100%|██████████████████████████████████████████████████████████████████████████████████| 40/40 [00:02<00:00, 13.67it/s]\n",
      "100%|██████████████████████████████████████████████████████████████████████████████████| 14/14 [00:00<00:00, 52.53it/s]\n",
      "  5%|████▏                                                                              | 2/40 [00:00<00:02, 13.13it/s]"
     ]
    },
    {
     "name": "stdout",
     "output_type": "stream",
     "text": [
      "Acc at dev is : 0.794\n",
      "ROC is : 0.7947432287016049,  prec 0.797439985212911,  recall 0.794743228701605, f-score 0.7938761467889909\n",
      "Acc at epoch : 379 is : 0.8024740815162659, loss : 16.27177757024765\n"
     ]
    },
    {
     "name": "stderr",
     "output_type": "stream",
     "text": [
      "100%|██████████████████████████████████████████████████████████████████████████████████| 40/40 [00:02<00:00, 13.51it/s]\n",
      "100%|██████████████████████████████████████████████████████████████████████████████████| 14/14 [00:00<00:00, 54.73it/s]\n",
      "  5%|████▏                                                                              | 2/40 [00:00<00:02, 13.61it/s]"
     ]
    },
    {
     "name": "stdout",
     "output_type": "stream",
     "text": [
      "Acc at dev is : 0.789\n",
      "ROC is : 0.7899809968633377,  prec 0.7929116558741905,  recall 0.7899809968633377, f-score 0.7890378119211072\n",
      "Acc at epoch : 380 is : 0.8008778691291809, loss : 16.76367735862732\n"
     ]
    },
    {
     "name": "stderr",
     "output_type": "stream",
     "text": [
      "100%|██████████████████████████████████████████████████████████████████████████████████| 40/40 [00:02<00:00, 13.57it/s]\n",
      "100%|██████████████████████████████████████████████████████████████████████████████████| 14/14 [00:00<00:00, 54.91it/s]\n",
      "  5%|████▏                                                                              | 2/40 [00:00<00:02, 13.75it/s]"
     ]
    },
    {
     "name": "stdout",
     "output_type": "stream",
     "text": [
      "Acc at dev is : 0.791\n",
      "ROC is : 0.7912345170226892,  prec 0.7949366721734341,  recall 0.7912345170226893, f-score 0.7901145833781653\n",
      "Acc at epoch : 381 is : 0.8028731346130371, loss : 16.523470014333725\n"
     ]
    },
    {
     "name": "stderr",
     "output_type": "stream",
     "text": [
      "100%|██████████████████████████████████████████████████████████████████████████████████| 40/40 [00:02<00:00, 13.68it/s]\n",
      "100%|██████████████████████████████████████████████████████████████████████████████████| 14/14 [00:00<00:00, 56.01it/s]\n",
      "  5%|████▏                                                                              | 2/40 [00:00<00:02, 13.65it/s]"
     ]
    },
    {
     "name": "stdout",
     "output_type": "stream",
     "text": [
      "Acc at dev is : 0.792\n",
      "ROC is : 0.7919156535476337,  prec 0.7918956043956045,  recall 0.7919156535476337, f-score 0.7918648374856201\n",
      "Acc at epoch : 382 is : 0.8036711812019348, loss : 16.120366483926773\n"
     ]
    },
    {
     "name": "stderr",
     "output_type": "stream",
     "text": [
      "100%|██████████████████████████████████████████████████████████████████████████████████| 40/40 [00:02<00:00, 13.65it/s]\n",
      "100%|██████████████████████████████████████████████████████████████████████████████████| 14/14 [00:00<00:00, 54.78it/s]\n",
      "  5%|████▏                                                                              | 2/40 [00:00<00:02, 13.76it/s]"
     ]
    },
    {
     "name": "stdout",
     "output_type": "stream",
     "text": [
      "Acc at dev is : 0.781\n",
      "ROC is : 0.780771344185727,  prec 0.7822983028607932,  recall 0.780771344185727, f-score 0.7807161255090149\n",
      "Acc at epoch : 383 is : 0.8080606460571289, loss : 16.271383076906204\n"
     ]
    },
    {
     "name": "stderr",
     "output_type": "stream",
     "text": [
      "100%|██████████████████████████████████████████████████████████████████████████████████| 40/40 [00:02<00:00, 13.74it/s]\n",
      "100%|██████████████████████████████████████████████████████████████████████████████████| 14/14 [00:00<00:00, 56.89it/s]\n",
      "  5%|████▏                                                                              | 2/40 [00:00<00:02, 13.77it/s]"
     ]
    },
    {
     "name": "stdout",
     "output_type": "stream",
     "text": [
      "Acc at dev is : 0.789\n",
      "ROC is : 0.7900496828994665,  prec 0.7938986196496927,  recall 0.7900496828994665, f-score 0.788888888888889\n",
      "Acc at epoch : 384 is : 0.8084596991539001, loss : 16.24347886443138\n"
     ]
    },
    {
     "name": "stderr",
     "output_type": "stream",
     "text": [
      "100%|██████████████████████████████████████████████████████████████████████████████████| 40/40 [00:02<00:00, 13.74it/s]\n",
      "100%|██████████████████████████████████████████████████████████████████████████████████| 14/14 [00:00<00:00, 55.36it/s]\n",
      "  5%|████▏                                                                              | 2/40 [00:00<00:02, 13.00it/s]"
     ]
    },
    {
     "name": "stdout",
     "output_type": "stream",
     "text": [
      "Acc at dev is : 0.794\n",
      "ROC is : 0.7944455892117133,  prec 0.794749266593326,  recall 0.7944455892117133, f-score 0.794228930904012\n",
      "Acc at epoch : 385 is : 0.8076615929603577, loss : 16.092073619365692\n"
     ]
    },
    {
     "name": "stderr",
     "output_type": "stream",
     "text": [
      "100%|██████████████████████████████████████████████████████████████████████████████████| 40/40 [00:02<00:00, 13.45it/s]\n",
      "100%|██████████████████████████████████████████████████████████████████████████████████| 14/14 [00:00<00:00, 47.96it/s]\n",
      "  5%|████▏                                                                              | 2/40 [00:00<00:02, 13.17it/s]"
     ]
    },
    {
     "name": "stdout",
     "output_type": "stream",
     "text": [
      "Acc at dev is : 0.795\n",
      "ROC is : 0.7958135860979463,  prec 0.7972170942530322,  recall 0.7958135860979463, f-score 0.7952714633716709\n",
      "Acc at epoch : 386 is : 0.8096567988395691, loss : 16.191072523593903\n"
     ]
    },
    {
     "name": "stderr",
     "output_type": "stream",
     "text": [
      "100%|██████████████████████████████████████████████████████████████████████████████████| 40/40 [00:02<00:00, 13.47it/s]\n",
      "100%|██████████████████████████████████████████████████████████████████████████████████| 14/14 [00:00<00:00, 52.83it/s]\n",
      "  5%|████▏                                                                              | 2/40 [00:00<00:02, 13.21it/s]"
     ]
    },
    {
     "name": "stdout",
     "output_type": "stream",
     "text": [
      "Acc at dev is : 0.795\n",
      "ROC is : 0.7956762140256886,  prec 0.7961389629374839,  recall 0.7956762140256886, f-score 0.7954050723673194\n",
      "Acc at epoch : 387 is : 0.811253011226654, loss : 16.220048874616623\n"
     ]
    },
    {
     "name": "stderr",
     "output_type": "stream",
     "text": [
      "100%|██████████████████████████████████████████████████████████████████████████████████| 40/40 [00:02<00:00, 13.64it/s]\n",
      "100%|██████████████████████████████████████████████████████████████████████████████████| 14/14 [00:00<00:00, 54.86it/s]\n",
      "  5%|████▏                                                                              | 2/40 [00:00<00:02, 13.91it/s]"
     ]
    },
    {
     "name": "stdout",
     "output_type": "stream",
     "text": [
      "Acc at dev is : 0.788\n",
      "ROC is : 0.7880177209973214,  prec 0.7890252097944273,  recall 0.7880177209973213, f-score 0.7880224337623827\n",
      "Acc at epoch : 388 is : 0.8064644932746887, loss : 15.967286333441734\n"
     ]
    },
    {
     "name": "stderr",
     "output_type": "stream",
     "text": [
      "100%|██████████████████████████████████████████████████████████████████████████████████| 40/40 [00:02<00:00, 13.72it/s]\n",
      "100%|██████████████████████████████████████████████████████████████████████████████████| 14/14 [00:00<00:00, 54.13it/s]\n",
      "  5%|████▏                                                                              | 2/40 [00:00<00:02, 13.63it/s]"
     ]
    },
    {
     "name": "stdout",
     "output_type": "stream",
     "text": [
      "Acc at dev is : 0.789\n",
      "ROC is : 0.7901870549717243,  prec 0.7962646969449054,  recall 0.7901870549717243, f-score 0.7885247786593078\n",
      "Acc at epoch : 389 is : 0.8104549050331116, loss : 16.463777869939804\n"
     ]
    },
    {
     "name": "stderr",
     "output_type": "stream",
     "text": [
      "100%|██████████████████████████████████████████████████████████████████████████████████| 40/40 [00:02<00:00, 13.65it/s]\n",
      "100%|██████████████████████████████████████████████████████████████████████████████████| 14/14 [00:00<00:00, 53.80it/s]\n",
      "  5%|████▏                                                                              | 2/40 [00:00<00:02, 13.82it/s]"
     ]
    },
    {
     "name": "stdout",
     "output_type": "stream",
     "text": [
      "Acc at dev is : 0.783\n",
      "ROC is : 0.7838736634842136,  prec 0.7854174939428993,  recall 0.7838736634842136, f-score 0.783266754229289\n",
      "Acc at epoch : 390 is : 0.805267333984375, loss : 16.16031900048256\n"
     ]
    },
    {
     "name": "stderr",
     "output_type": "stream",
     "text": [
      "100%|██████████████████████████████████████████████████████████████████████████████████| 40/40 [00:02<00:00, 13.70it/s]\n",
      "100%|██████████████████████████████████████████████████████████████████████████████████| 14/14 [00:00<00:00, 53.72it/s]\n",
      "  5%|████▏                                                                              | 2/40 [00:00<00:02, 13.65it/s]"
     ]
    },
    {
     "name": "stdout",
     "output_type": "stream",
     "text": [
      "Acc at dev is : 0.793\n",
      "ROC is : 0.7938102433775214,  prec 0.8006119879359316,  recall 0.7938102433775214, f-score 0.7920263439816512\n",
      "Acc at epoch : 391 is : 0.8056663870811462, loss : 15.951682686805725\n"
     ]
    },
    {
     "name": "stderr",
     "output_type": "stream",
     "text": [
      "100%|██████████████████████████████████████████████████████████████████████████████████| 40/40 [00:02<00:00, 13.58it/s]\n",
      "100%|██████████████████████████████████████████████████████████████████████████████████| 14/14 [00:00<00:00, 54.67it/s]\n",
      "  5%|████▏                                                                              | 2/40 [00:00<00:02, 13.66it/s]"
     ]
    },
    {
     "name": "stdout",
     "output_type": "stream",
     "text": [
      "Acc at dev is : 0.788\n",
      "ROC is : 0.7890938022300066,  prec 0.7971646770179392,  recall 0.7890938022300067, f-score 0.7869898124435883\n",
      "Acc at epoch : 392 is : 0.8088587522506714, loss : 16.14826610684395\n"
     ]
    },
    {
     "name": "stderr",
     "output_type": "stream",
     "text": [
      "100%|██████████████████████████████████████████████████████████████████████████████████| 40/40 [00:02<00:00, 13.67it/s]\n",
      "100%|██████████████████████████████████████████████████████████████████████████████████| 14/14 [00:00<00:00, 52.46it/s]\n",
      "  5%|████▏                                                                              | 2/40 [00:00<00:02, 13.58it/s]"
     ]
    },
    {
     "name": "stdout",
     "output_type": "stream",
     "text": [
      "Acc at dev is : 0.783\n",
      "ROC is : 0.7838736634842136,  prec 0.7854174939428993,  recall 0.7838736634842136, f-score 0.783266754229289\n",
      "Acc at epoch : 393 is : 0.8084596991539001, loss : 16.287994891405106\n"
     ]
    },
    {
     "name": "stderr",
     "output_type": "stream",
     "text": [
      "100%|██████████████████████████████████████████████████████████████████████████████████| 40/40 [00:02<00:00, 13.60it/s]\n",
      "100%|██████████████████████████████████████████████████████████████████████████████████| 14/14 [00:00<00:00, 54.69it/s]\n",
      "  5%|████▏                                                                              | 2/40 [00:00<00:02, 13.82it/s]"
     ]
    },
    {
     "name": "stdout",
     "output_type": "stream",
     "text": [
      "Acc at dev is : 0.786\n",
      "ROC is : 0.7861746456945302,  prec 0.7870174230029565,  recall 0.7861746456945302, f-score 0.7857745138038895\n",
      "Acc at epoch : 394 is : 0.8084596991539001, loss : 16.408532291650772\n"
     ]
    },
    {
     "name": "stderr",
     "output_type": "stream",
     "text": [
      "100%|██████████████████████████████████████████████████████████████████████████████████| 40/40 [00:02<00:00, 13.70it/s]\n",
      "100%|██████████████████████████████████████████████████████████████████████████████████| 14/14 [00:00<00:00, 55.90it/s]\n",
      "  5%|████▏                                                                              | 2/40 [00:00<00:02, 13.81it/s]"
     ]
    },
    {
     "name": "stdout",
     "output_type": "stream",
     "text": [
      "Acc at dev is : 0.795\n",
      "ROC is : 0.7957449000618175,  prec 0.7966158615344872,  recall 0.7957449000618174, f-score 0.7953488372093023\n",
      "Acc at epoch : 395 is : 0.8128491640090942, loss : 16.06827661395073\n"
     ]
    },
    {
     "name": "stderr",
     "output_type": "stream",
     "text": [
      "100%|██████████████████████████████████████████████████████████████████████████████████| 40/40 [00:02<00:00, 13.59it/s]\n",
      "100%|██████████████████████████████████████████████████████████████████████████████████| 14/14 [00:00<00:00, 53.59it/s]\n",
      "  5%|████▏                                                                              | 2/40 [00:00<00:02, 13.69it/s]"
     ]
    },
    {
     "name": "stdout",
     "output_type": "stream",
     "text": [
      "Acc at dev is : 0.793\n",
      "ROC is : 0.793627080614511,  prec 0.7973596498855172,  recall 0.7936270806145111, f-score 0.7925132738538434\n",
      "Acc at epoch : 396 is : 0.8104549050331116, loss : 16.249583691358566\n"
     ]
    },
    {
     "name": "stderr",
     "output_type": "stream",
     "text": [
      "100%|██████████████████████████████████████████████████████████████████████████████████| 40/40 [00:02<00:00, 13.70it/s]\n",
      "100%|██████████████████████████████████████████████████████████████████████████████████| 14/14 [00:00<00:00, 56.64it/s]\n",
      "  5%|████▏                                                                              | 2/40 [00:00<00:02, 13.78it/s]"
     ]
    },
    {
     "name": "stdout",
     "output_type": "stream",
     "text": [
      "Acc at dev is : 0.776\n",
      "ROC is : 0.7758946356205784,  prec 0.7782919464443456,  recall 0.7758946356205784, f-score 0.7757224405240967\n",
      "Acc at epoch : 397 is : 0.8072625994682312, loss : 16.079718381166458\n"
     ]
    },
    {
     "name": "stderr",
     "output_type": "stream",
     "text": [
      "100%|██████████████████████████████████████████████████████████████████████████████████| 40/40 [00:02<00:00, 13.68it/s]\n",
      "100%|██████████████████████████████████████████████████████████████████████████████████| 14/14 [00:00<00:00, 54.06it/s]\n",
      "  5%|████▏                                                                              | 2/40 [00:00<00:02, 13.14it/s]"
     ]
    },
    {
     "name": "stdout",
     "output_type": "stream",
     "text": [
      "Acc at dev is : 0.794\n",
      "ROC is : 0.7943769031755844,  prec 0.7944578037329669,  recall 0.7943769031755844, f-score 0.794253663003663\n",
      "Acc at epoch : 398 is : 0.8056663870811462, loss : 16.81336146593094\n"
     ]
    },
    {
     "name": "stderr",
     "output_type": "stream",
     "text": [
      "100%|██████████████████████████████████████████████████████████████████████████████████| 40/40 [00:02<00:00, 13.62it/s]\n",
      "100%|██████████████████████████████████████████████████████████████████████████████████| 14/14 [00:00<00:00, 56.43it/s]\n",
      "  5%|████▏                                                                              | 2/40 [00:00<00:02, 13.84it/s]"
     ]
    },
    {
     "name": "stdout",
     "output_type": "stream",
     "text": [
      "Acc at dev is : 0.792\n",
      "ROC is : 0.7921675023467729,  prec 0.7931070124262123,  recall 0.7921675023467729, f-score 0.7917468389224849\n",
      "Acc at epoch : 399 is : 0.8088587522506714, loss : 16.462854266166687\n"
     ]
    },
    {
     "name": "stderr",
     "output_type": "stream",
     "text": [
      "100%|██████████████████████████████████████████████████████████████████████████████████| 40/40 [00:02<00:00, 13.65it/s]\n",
      "100%|██████████████████████████████████████████████████████████████████████████████████| 14/14 [00:00<00:00, 55.31it/s]\n"
     ]
    },
    {
     "name": "stdout",
     "output_type": "stream",
     "text": [
      "Acc at dev is : 0.782\n",
      "ROC is : 0.7826888293609909,  prec 0.784329303396661,  recall 0.7826888293609909, f-score 0.7820521635496883\n",
      "Acc at epoch : 400 is : 0.8048683404922485, loss : 16.135922461748123\n"
     ]
    }
   ],
   "source": [
    "import torch.nn as nn\n",
    "from ognnet import train_model\n",
    "\n",
    "gnn_model = train_model(input_dim=1,\n",
    "            adj_matrix=adj_matrix, \n",
    "            train_dataloader=train_dataloader,\n",
    "            val_dataloader=val_dataloader,\n",
    "            data_name=data_name,\n",
    "            num_classes=1,\n",
    "            num_epochs=400,\n",
    "            learning_rate=1e-04,\n",
    "            normalize_adj=False)\n"
   ]
  },
  {
   "cell_type": "markdown",
   "id": "e10c8cff",
   "metadata": {},
   "source": [
    "## Evaluate the trained model on the test set"
   ]
  },
  {
   "cell_type": "code",
   "execution_count": 11,
   "id": "a9323f2a",
   "metadata": {},
   "outputs": [
    {
     "name": "stderr",
     "output_type": "stream",
     "text": [
      " 14%|███████████▊                                                                       | 2/14 [00:00<00:00, 18.77it/s]"
     ]
    },
    {
     "name": "stdout",
     "output_type": "stream",
     "text": [
      "*** Testing : ****\n"
     ]
    },
    {
     "name": "stderr",
     "output_type": "stream",
     "text": [
      "100%|██████████████████████████████████████████████████████████████████████████████████| 14/14 [00:00<00:00, 32.71it/s]"
     ]
    },
    {
     "name": "stdout",
     "output_type": "stream",
     "text": [
      "AUC is : 0.8825552373394063,  prec 0.8055996914326506,  recall 0.8052833465603901, f-score 0.8054228998849253\n"
     ]
    },
    {
     "name": "stderr",
     "output_type": "stream",
     "text": [
      "\n"
     ]
    }
   ],
   "source": [
    "import torch.nn as nn\n",
    "from ognnet import OGNNet\n",
    "from tqdm import tqdm\n",
    "\n",
    "\n",
    "\n",
    "device = torch.device('cuda' if torch.cuda.is_available() else 'cpu')\n",
    "\n",
    "input_dim = 1 \n",
    "adj_matrix = torch.FloatTensor(adj_matrix)\n",
    "\n",
    "gnn_model = OGNNet(input_dim, adj_matrix[0].shape[0], adj_matrix.to(device), 1).to(device)\n",
    "\n",
    "torch.cuda.empty_cache()\n",
    "\n",
    "gnn_model.load_state_dict(torch.load(f'{data_name}/ognnet-epoch[131]-0.807.model'))\n",
    "\n",
    "print('*** Testing : ****')\n",
    "gnn_model.eval()\n",
    "\n",
    "correct = 0\n",
    "count = 0\n",
    "count_2 = 0\n",
    "\n",
    "list_prediction = []\n",
    "list_pob_pred = []\n",
    "y_test = []\n",
    "\n",
    "for i, data in tqdm(list(enumerate(test_dataloader))):\n",
    "    inputs, labels = data\n",
    "\n",
    "    inputs = inputs.to(device)\n",
    "    labels = labels.to(device)\n",
    "\n",
    "    outputs = gnn_model(inputs)\n",
    "    list_pob_pred.extend(outputs.tolist())\n",
    "\n",
    "    preds = (outputs.reshape(-1) > 0.5) * 1\n",
    "\n",
    "    list_prediction.extend(preds.tolist())\n",
    "\n",
    "    count+= torch.sum(preds == labels.data)\n",
    "\n",
    "    for i in range(len(preds)):\n",
    "        if preds[i] == labels[i] == 1:\n",
    "            count_2 += 1\n",
    "\n",
    "    y_test.extend(labels.tolist())\n",
    "\n",
    "    torch.cuda.empty_cache()\n",
    "\n",
    "\n",
    "roc = roc_auc_score(y_test, list_pob_pred)\n",
    "prec = precision_score(y_test, list_prediction, average='macro')\n",
    "recall = recall_score(y_test, list_prediction, average='macro')\n",
    "f_score = f1_score(y_test, list_prediction, average='macro')\n",
    "\n",
    "print('AUC is : {},  prec {},  recall {}, f-score {}' .format(roc, prec, recall, f_score))"
   ]
  },
  {
   "cell_type": "code",
   "execution_count": null,
   "id": "566247eb",
   "metadata": {},
   "outputs": [],
   "source": []
  }
 ],
 "metadata": {
  "kernelspec": {
   "display_name": "Python 3",
   "language": "python",
   "name": "python3"
  },
  "language_info": {
   "codemirror_mode": {
    "name": "ipython",
    "version": 3
   },
   "file_extension": ".py",
   "mimetype": "text/x-python",
   "name": "python",
   "nbconvert_exporter": "python",
   "pygments_lexer": "ipython3",
   "version": "3.8.8"
  }
 },
 "nbformat": 4,
 "nbformat_minor": 5
}
