{
 "cells": [
  {
   "cell_type": "code",
   "execution_count": 1,
   "id": "34f98c97",
   "metadata": {
    "scrolled": true
   },
   "outputs": [
    {
     "name": "stderr",
     "output_type": "stream",
     "text": [
      "c:\\users\\amr20\\appdata\\local\\programs\\python\\python38\\lib\\site-packages\\openml\\datasets\\functions.py:438: FutureWarning: Starting from Version 0.15 `download_data`, `download_qualities`, and `download_features_meta_data` will all be ``False`` instead of ``True`` by default to enable lazy loading. To disable this message until version 0.15 explicitly set `download_data`, `download_qualities`, and `download_features_meta_data` to a bool while calling `get_dataset`.\n",
      "  warnings.warn(\n"
     ]
    }
   ],
   "source": [
    "import pandas as pd\n",
    "import openml\n",
    "import data_preprocess as dp\n",
    "\n",
    "data_name = 'abalone'\n",
    "\n",
    "data = openml.datasets.get_dataset(720)\n",
    "\n",
    "X, y, categorical_indicator, attribute_names = data.get_data(\n",
    "    target=data.default_target_attribute, dataset_format=\"dataframe\"\n",
    ")"
   ]
  },
  {
   "cell_type": "markdown",
   "id": "a854335e",
   "metadata": {},
   "source": [
    "# Data Preprocessing"
   ]
  },
  {
   "cell_type": "code",
   "execution_count": 2,
   "id": "b83124ce",
   "metadata": {},
   "outputs": [
    {
     "data": {
      "text/html": [
       "<div>\n",
       "<style scoped>\n",
       "    .dataframe tbody tr th:only-of-type {\n",
       "        vertical-align: middle;\n",
       "    }\n",
       "\n",
       "    .dataframe tbody tr th {\n",
       "        vertical-align: top;\n",
       "    }\n",
       "\n",
       "    .dataframe thead th {\n",
       "        text-align: right;\n",
       "    }\n",
       "</style>\n",
       "<table border=\"1\" class=\"dataframe\">\n",
       "  <thead>\n",
       "    <tr style=\"text-align: right;\">\n",
       "      <th></th>\n",
       "      <th>Length</th>\n",
       "      <th>Diameter</th>\n",
       "      <th>Height</th>\n",
       "      <th>Whole weight</th>\n",
       "      <th>Shucked weight</th>\n",
       "      <th>Viscera weight</th>\n",
       "      <th>Shell weight</th>\n",
       "      <th>Sex_M</th>\n",
       "      <th>Sex_F</th>\n",
       "      <th>Sex_I</th>\n",
       "    </tr>\n",
       "  </thead>\n",
       "  <tbody>\n",
       "    <tr>\n",
       "      <th>0</th>\n",
       "      <td>0.455</td>\n",
       "      <td>0.365</td>\n",
       "      <td>0.095</td>\n",
       "      <td>0.5140</td>\n",
       "      <td>0.2245</td>\n",
       "      <td>0.1010</td>\n",
       "      <td>0.1500</td>\n",
       "      <td>1</td>\n",
       "      <td>0</td>\n",
       "      <td>0</td>\n",
       "    </tr>\n",
       "    <tr>\n",
       "      <th>1</th>\n",
       "      <td>0.350</td>\n",
       "      <td>0.265</td>\n",
       "      <td>0.090</td>\n",
       "      <td>0.2255</td>\n",
       "      <td>0.0995</td>\n",
       "      <td>0.0485</td>\n",
       "      <td>0.0700</td>\n",
       "      <td>1</td>\n",
       "      <td>0</td>\n",
       "      <td>0</td>\n",
       "    </tr>\n",
       "    <tr>\n",
       "      <th>2</th>\n",
       "      <td>0.530</td>\n",
       "      <td>0.420</td>\n",
       "      <td>0.135</td>\n",
       "      <td>0.6770</td>\n",
       "      <td>0.2565</td>\n",
       "      <td>0.1415</td>\n",
       "      <td>0.2100</td>\n",
       "      <td>0</td>\n",
       "      <td>1</td>\n",
       "      <td>0</td>\n",
       "    </tr>\n",
       "    <tr>\n",
       "      <th>3</th>\n",
       "      <td>0.440</td>\n",
       "      <td>0.365</td>\n",
       "      <td>0.125</td>\n",
       "      <td>0.5160</td>\n",
       "      <td>0.2155</td>\n",
       "      <td>0.1140</td>\n",
       "      <td>0.1550</td>\n",
       "      <td>1</td>\n",
       "      <td>0</td>\n",
       "      <td>0</td>\n",
       "    </tr>\n",
       "    <tr>\n",
       "      <th>4</th>\n",
       "      <td>0.330</td>\n",
       "      <td>0.255</td>\n",
       "      <td>0.080</td>\n",
       "      <td>0.2050</td>\n",
       "      <td>0.0895</td>\n",
       "      <td>0.0395</td>\n",
       "      <td>0.0550</td>\n",
       "      <td>0</td>\n",
       "      <td>0</td>\n",
       "      <td>1</td>\n",
       "    </tr>\n",
       "    <tr>\n",
       "      <th>...</th>\n",
       "      <td>...</td>\n",
       "      <td>...</td>\n",
       "      <td>...</td>\n",
       "      <td>...</td>\n",
       "      <td>...</td>\n",
       "      <td>...</td>\n",
       "      <td>...</td>\n",
       "      <td>...</td>\n",
       "      <td>...</td>\n",
       "      <td>...</td>\n",
       "    </tr>\n",
       "    <tr>\n",
       "      <th>4172</th>\n",
       "      <td>0.565</td>\n",
       "      <td>0.450</td>\n",
       "      <td>0.165</td>\n",
       "      <td>0.8870</td>\n",
       "      <td>0.3700</td>\n",
       "      <td>0.2390</td>\n",
       "      <td>0.2490</td>\n",
       "      <td>0</td>\n",
       "      <td>1</td>\n",
       "      <td>0</td>\n",
       "    </tr>\n",
       "    <tr>\n",
       "      <th>4173</th>\n",
       "      <td>0.590</td>\n",
       "      <td>0.440</td>\n",
       "      <td>0.135</td>\n",
       "      <td>0.9660</td>\n",
       "      <td>0.4390</td>\n",
       "      <td>0.2145</td>\n",
       "      <td>0.2605</td>\n",
       "      <td>1</td>\n",
       "      <td>0</td>\n",
       "      <td>0</td>\n",
       "    </tr>\n",
       "    <tr>\n",
       "      <th>4174</th>\n",
       "      <td>0.600</td>\n",
       "      <td>0.475</td>\n",
       "      <td>0.205</td>\n",
       "      <td>1.1760</td>\n",
       "      <td>0.5255</td>\n",
       "      <td>0.2875</td>\n",
       "      <td>0.3080</td>\n",
       "      <td>1</td>\n",
       "      <td>0</td>\n",
       "      <td>0</td>\n",
       "    </tr>\n",
       "    <tr>\n",
       "      <th>4175</th>\n",
       "      <td>0.625</td>\n",
       "      <td>0.485</td>\n",
       "      <td>0.150</td>\n",
       "      <td>1.0945</td>\n",
       "      <td>0.5310</td>\n",
       "      <td>0.2610</td>\n",
       "      <td>0.2960</td>\n",
       "      <td>0</td>\n",
       "      <td>1</td>\n",
       "      <td>0</td>\n",
       "    </tr>\n",
       "    <tr>\n",
       "      <th>4176</th>\n",
       "      <td>0.710</td>\n",
       "      <td>0.555</td>\n",
       "      <td>0.195</td>\n",
       "      <td>1.9485</td>\n",
       "      <td>0.9455</td>\n",
       "      <td>0.3765</td>\n",
       "      <td>0.4950</td>\n",
       "      <td>1</td>\n",
       "      <td>0</td>\n",
       "      <td>0</td>\n",
       "    </tr>\n",
       "  </tbody>\n",
       "</table>\n",
       "<p>4177 rows × 10 columns</p>\n",
       "</div>"
      ],
      "text/plain": [
       "      Length  Diameter  Height  Whole weight  Shucked weight  Viscera weight  \\\n",
       "0      0.455     0.365   0.095        0.5140          0.2245          0.1010   \n",
       "1      0.350     0.265   0.090        0.2255          0.0995          0.0485   \n",
       "2      0.530     0.420   0.135        0.6770          0.2565          0.1415   \n",
       "3      0.440     0.365   0.125        0.5160          0.2155          0.1140   \n",
       "4      0.330     0.255   0.080        0.2050          0.0895          0.0395   \n",
       "...      ...       ...     ...           ...             ...             ...   \n",
       "4172   0.565     0.450   0.165        0.8870          0.3700          0.2390   \n",
       "4173   0.590     0.440   0.135        0.9660          0.4390          0.2145   \n",
       "4174   0.600     0.475   0.205        1.1760          0.5255          0.2875   \n",
       "4175   0.625     0.485   0.150        1.0945          0.5310          0.2610   \n",
       "4176   0.710     0.555   0.195        1.9485          0.9455          0.3765   \n",
       "\n",
       "      Shell weight  Sex_M  Sex_F  Sex_I  \n",
       "0           0.1500      1      0      0  \n",
       "1           0.0700      1      0      0  \n",
       "2           0.2100      0      1      0  \n",
       "3           0.1550      1      0      0  \n",
       "4           0.0550      0      0      1  \n",
       "...            ...    ...    ...    ...  \n",
       "4172        0.2490      0      1      0  \n",
       "4173        0.2605      1      0      0  \n",
       "4174        0.3080      1      0      0  \n",
       "4175        0.2960      0      1      0  \n",
       "4176        0.4950      1      0      0  \n",
       "\n",
       "[4177 rows x 10 columns]"
      ]
     },
     "execution_count": 2,
     "metadata": {},
     "output_type": "execute_result"
    }
   ],
   "source": [
    "\n",
    "nominal = [b for a, b in zip(categorical_indicator, attribute_names) if a]\n",
    "dummied_data = pd.get_dummies(X, columns=nominal)\n",
    "\n",
    "columns = dummied_data.columns\n",
    "updates = {}\n",
    "for col in columns:\n",
    "    if any(x in col for x in set(('[', ']', '<', '>'))):\n",
    "        updates[col] = col.replace(',', '_').replace('[', '_').replace(']', '_').replace('<', 'less').replace('>', 'greater')\n",
    "dummied_data = dummied_data.rename(columns=updates)\n",
    "\n",
    "dummied_data.fillna(0, inplace=True)\n",
    "dummied_data"
   ]
  },
  {
   "cell_type": "code",
   "execution_count": 3,
   "id": "e5c57b9c",
   "metadata": {},
   "outputs": [],
   "source": [
    "mapping = {'P': 1, 'N': 0}\n",
    "\n",
    "y = y.replace(mapping)"
   ]
  },
  {
   "cell_type": "code",
   "execution_count": 4,
   "id": "747e1b0a",
   "metadata": {},
   "outputs": [
    {
     "name": "stdout",
     "output_type": "stream",
     "text": [
      "train shape: (2506, 10)\n",
      " test shape: (835, 10)\n",
      " dev shape: (836, 10)\n"
     ]
    }
   ],
   "source": [
    "import numpy as np\n",
    "from sklearn.model_selection import train_test_split\n",
    "\n",
    "train_data, left_out, train_label, y_left_out = train_test_split(dummied_data, y, test_size=0.4, random_state=42)\n",
    "test_data, dev_data, test_label, dev_label = train_test_split(left_out, y_left_out, test_size=0.5, random_state=42)\n",
    "\n",
    "print(f'train shape: {train_data.shape}\\n test shape: {test_data.shape}\\n dev shape: {dev_data.shape}')"
   ]
  },
  {
   "cell_type": "code",
   "execution_count": 5,
   "id": "cfa7fd8f",
   "metadata": {},
   "outputs": [],
   "source": [
    "normalized_train_data = dp.min_max_normalize(train_data, train_data)\n",
    "\n",
    "normalized_test_data = dp.min_max_normalize(test_data, train_data)\n",
    "\n",
    "normalized_dev_data = dp.min_max_normalize(dev_data, train_data)"
   ]
  },
  {
   "cell_type": "code",
   "execution_count": 6,
   "id": "36a366ec",
   "metadata": {},
   "outputs": [],
   "source": [
    "\n",
    "def plot_roc(clf, X, Y):\n",
    "    import matplotlib.pyplot as plt  \n",
    "    from sklearn.metrics import RocCurveDisplay, roc_curve, auc\n",
    "    \n",
    "    RocCurveDisplay.from_estimator(clf, X, Y)\n",
    "    plt.show()"
   ]
  },
  {
   "cell_type": "code",
   "execution_count": 7,
   "id": "e6b7bbad",
   "metadata": {},
   "outputs": [],
   "source": [
    "from sklearn.utils import shuffle\n",
    "\n",
    "#oversampled_normalized_data, oversampled_normalized_labels = dp.oversample(normalized_train_data, train_label, oversampled_class=1, num_folds=2)\n",
    "#oversampled_data, oversampled_labels = dp.oversample(train_data, train_label, oversampled_class=1, num_folds=2)\n",
    "\n",
    "normalized_train_data, normalized_train_label = shuffle(normalized_train_data, train_label, random_state=0)"
   ]
  },
  {
   "cell_type": "markdown",
   "id": "eb30012c",
   "metadata": {},
   "source": [
    "# Baseline Models"
   ]
  },
  {
   "cell_type": "markdown",
   "id": "00a1d08a",
   "metadata": {},
   "source": [
    "## TabNet"
   ]
  },
  {
   "cell_type": "code",
   "execution_count": 8,
   "id": "a554ccaf",
   "metadata": {
    "scrolled": true
   },
   "outputs": [
    {
     "name": "stderr",
     "output_type": "stream",
     "text": [
      "c:\\users\\amr20\\appdata\\local\\programs\\python\\python38\\lib\\site-packages\\pytorch_tabnet\\abstract_model.py:75: UserWarning: Device used : cuda\n",
      "  warnings.warn(f\"Device used : {self.device}\")\n"
     ]
    },
    {
     "name": "stdout",
     "output_type": "stream",
     "text": [
      "epoch 0  | loss: 0.79032 | val_0_auc: 0.73974 |  0:00:01s\n",
      "epoch 1  | loss: 0.5729  | val_0_auc: 0.78392 |  0:00:02s\n",
      "epoch 2  | loss: 0.52948 | val_0_auc: 0.76643 |  0:00:02s\n",
      "epoch 3  | loss: 0.50504 | val_0_auc: 0.76712 |  0:00:02s\n",
      "epoch 4  | loss: 0.48395 | val_0_auc: 0.76386 |  0:00:02s\n",
      "epoch 5  | loss: 0.49059 | val_0_auc: 0.74627 |  0:00:02s\n",
      "epoch 6  | loss: 0.46777 | val_0_auc: 0.72975 |  0:00:02s\n",
      "epoch 7  | loss: 0.46974 | val_0_auc: 0.68017 |  0:00:02s\n",
      "epoch 8  | loss: 0.47196 | val_0_auc: 0.6345  |  0:00:03s\n",
      "epoch 9  | loss: 0.46459 | val_0_auc: 0.6499  |  0:00:03s\n",
      "epoch 10 | loss: 0.45667 | val_0_auc: 0.62029 |  0:00:03s\n",
      "epoch 11 | loss: 0.4568  | val_0_auc: 0.57882 |  0:00:03s\n",
      "epoch 12 | loss: 0.44627 | val_0_auc: 0.58385 |  0:00:03s\n",
      "epoch 13 | loss: 0.4466  | val_0_auc: 0.60542 |  0:00:03s\n",
      "epoch 14 | loss: 0.43772 | val_0_auc: 0.67363 |  0:00:03s\n",
      "epoch 15 | loss: 0.44982 | val_0_auc: 0.71101 |  0:00:03s\n",
      "epoch 16 | loss: 0.45342 | val_0_auc: 0.73514 |  0:00:04s\n",
      "epoch 17 | loss: 0.45778 | val_0_auc: 0.75315 |  0:00:04s\n",
      "epoch 18 | loss: 0.45369 | val_0_auc: 0.77533 |  0:00:04s\n",
      "epoch 19 | loss: 0.44477 | val_0_auc: 0.79155 |  0:00:04s\n",
      "epoch 20 | loss: 0.43814 | val_0_auc: 0.79099 |  0:00:04s\n",
      "epoch 21 | loss: 0.44192 | val_0_auc: 0.80316 |  0:00:04s\n",
      "epoch 22 | loss: 0.43851 | val_0_auc: 0.81846 |  0:00:04s\n",
      "epoch 23 | loss: 0.42656 | val_0_auc: 0.80868 |  0:00:05s\n",
      "epoch 24 | loss: 0.43796 | val_0_auc: 0.78775 |  0:00:05s\n",
      "epoch 25 | loss: 0.4173  | val_0_auc: 0.77219 |  0:00:05s\n",
      "epoch 26 | loss: 0.42964 | val_0_auc: 0.78277 |  0:00:05s\n",
      "epoch 27 | loss: 0.43528 | val_0_auc: 0.80134 |  0:00:05s\n",
      "epoch 28 | loss: 0.42661 | val_0_auc: 0.82605 |  0:00:05s\n",
      "epoch 29 | loss: 0.43245 | val_0_auc: 0.83035 |  0:00:05s\n",
      "epoch 30 | loss: 0.42604 | val_0_auc: 0.82796 |  0:00:06s\n",
      "epoch 31 | loss: 0.42739 | val_0_auc: 0.82305 |  0:00:06s\n",
      "epoch 32 | loss: 0.43146 | val_0_auc: 0.80525 |  0:00:06s\n",
      "epoch 33 | loss: 0.42262 | val_0_auc: 0.79665 |  0:00:06s\n",
      "epoch 34 | loss: 0.41672 | val_0_auc: 0.79193 |  0:00:06s\n",
      "epoch 35 | loss: 0.42772 | val_0_auc: 0.77843 |  0:00:06s\n",
      "epoch 36 | loss: 0.44084 | val_0_auc: 0.77017 |  0:00:06s\n",
      "epoch 37 | loss: 0.4287  | val_0_auc: 0.78102 |  0:00:07s\n",
      "epoch 38 | loss: 0.42365 | val_0_auc: 0.7925  |  0:00:07s\n",
      "epoch 39 | loss: 0.42783 | val_0_auc: 0.81738 |  0:00:07s\n",
      "epoch 40 | loss: 0.43935 | val_0_auc: 0.82871 |  0:00:07s\n",
      "epoch 41 | loss: 0.43137 | val_0_auc: 0.81764 |  0:00:07s\n",
      "epoch 42 | loss: 0.43633 | val_0_auc: 0.80083 |  0:00:07s\n",
      "epoch 43 | loss: 0.43349 | val_0_auc: 0.82137 |  0:00:07s\n",
      "epoch 44 | loss: 0.42874 | val_0_auc: 0.84475 |  0:00:07s\n",
      "epoch 45 | loss: 0.43345 | val_0_auc: 0.84859 |  0:00:08s\n",
      "epoch 46 | loss: 0.4202  | val_0_auc: 0.84176 |  0:00:08s\n",
      "epoch 47 | loss: 0.42419 | val_0_auc: 0.83393 |  0:00:08s\n",
      "epoch 48 | loss: 0.4322  | val_0_auc: 0.84124 |  0:00:08s\n",
      "epoch 49 | loss: 0.42122 | val_0_auc: 0.84323 |  0:00:08s\n",
      "epoch 50 | loss: 0.41985 | val_0_auc: 0.84933 |  0:00:08s\n",
      "epoch 51 | loss: 0.41286 | val_0_auc: 0.84742 |  0:00:08s\n",
      "epoch 52 | loss: 0.41306 | val_0_auc: 0.8447  |  0:00:09s\n",
      "epoch 53 | loss: 0.41367 | val_0_auc: 0.8414  |  0:00:09s\n",
      "epoch 54 | loss: 0.4291  | val_0_auc: 0.82755 |  0:00:09s\n",
      "epoch 55 | loss: 0.42523 | val_0_auc: 0.84014 |  0:00:09s\n",
      "epoch 56 | loss: 0.42495 | val_0_auc: 0.85572 |  0:00:09s\n",
      "epoch 57 | loss: 0.40943 | val_0_auc: 0.85599 |  0:00:09s\n",
      "epoch 58 | loss: 0.42042 | val_0_auc: 0.8452  |  0:00:09s\n",
      "epoch 59 | loss: 0.40839 | val_0_auc: 0.84504 |  0:00:10s\n",
      "epoch 60 | loss: 0.41661 | val_0_auc: 0.84721 |  0:00:10s\n",
      "epoch 61 | loss: 0.41554 | val_0_auc: 0.80813 |  0:00:10s\n",
      "epoch 62 | loss: 0.41763 | val_0_auc: 0.79225 |  0:00:10s\n",
      "epoch 63 | loss: 0.43989 | val_0_auc: 0.81813 |  0:00:10s\n",
      "epoch 64 | loss: 0.42965 | val_0_auc: 0.81351 |  0:00:10s\n",
      "epoch 65 | loss: 0.42188 | val_0_auc: 0.8     |  0:00:10s\n",
      "epoch 66 | loss: 0.41824 | val_0_auc: 0.82039 |  0:00:11s\n",
      "epoch 67 | loss: 0.40862 | val_0_auc: 0.81539 |  0:00:11s\n",
      "epoch 68 | loss: 0.41745 | val_0_auc: 0.80969 |  0:00:11s\n",
      "epoch 69 | loss: 0.41921 | val_0_auc: 0.80138 |  0:00:11s\n",
      "epoch 70 | loss: 0.40878 | val_0_auc: 0.8083  |  0:00:11s\n",
      "epoch 71 | loss: 0.42904 | val_0_auc: 0.80639 |  0:00:11s\n",
      "epoch 72 | loss: 0.42067 | val_0_auc: 0.77882 |  0:00:11s\n",
      "epoch 73 | loss: 0.42144 | val_0_auc: 0.76042 |  0:00:11s\n",
      "epoch 74 | loss: 0.41925 | val_0_auc: 0.7795  |  0:00:12s\n",
      "epoch 75 | loss: 0.41383 | val_0_auc: 0.80842 |  0:00:12s\n",
      "epoch 76 | loss: 0.40218 | val_0_auc: 0.81936 |  0:00:12s\n",
      "epoch 77 | loss: 0.40894 | val_0_auc: 0.80656 |  0:00:12s\n",
      "\n",
      "Early stopping occurred at epoch 77 with best_epoch = 57 and best_val_0_auc = 0.85599\n",
      "roc is : 0.8569867614414042\n",
      "prec 0.757865540652426\n",
      "recall 0.7328450824103148\n",
      "f-score 0.7195957389648768\n"
     ]
    },
    {
     "name": "stderr",
     "output_type": "stream",
     "text": [
      "c:\\users\\amr20\\appdata\\local\\programs\\python\\python38\\lib\\site-packages\\pytorch_tabnet\\callbacks.py:172: UserWarning: Best weights from best epoch are automatically used!\n",
      "  warnings.warn(wrn_msg)\n"
     ]
    }
   ],
   "source": [
    "from sklearn.metrics import f1_score, precision_score, recall_score, roc_auc_score\n",
    "from pytorch_tabnet.tab_model import TabNetClassifier\n",
    "\n",
    "clf = TabNetClassifier()\n",
    "clf.fit(\n",
    "  normalized_train_data.values, normalized_train_label.values,\n",
    "  eval_set=[(normalized_dev_data.values, dev_label.values)],\n",
    "  patience = 20\n",
    ")\n",
    "preds = clf.predict(normalized_test_data.values)\n",
    "\n",
    "tabnet_pred_prob = [i[1] for i in clf.predict_proba(normalized_test_data.values)]\n",
    "\n",
    "roc = roc_auc_score(test_label.tolist(), tabnet_pred_prob)\n",
    "prec = precision_score(test_label.tolist(), preds.tolist(), average='macro')\n",
    "recall = recall_score(test_label.tolist(), preds.tolist(), average='macro')\n",
    "f_score = f1_score(test_label.tolist(), preds.tolist(), average='macro')\n",
    "\n",
    "\n",
    "print('roc is : {}\\nprec {}\\nrecall {}\\nf-score {}' .format(roc, prec, recall, f_score))"
   ]
  },
  {
   "cell_type": "markdown",
   "id": "fbefcc21",
   "metadata": {},
   "source": [
    "## MLP"
   ]
  },
  {
   "cell_type": "code",
   "execution_count": 9,
   "id": "357ab6ce",
   "metadata": {
    "scrolled": true
   },
   "outputs": [
    {
     "name": "stdout",
     "output_type": "stream",
     "text": [
      "Iteration 1, loss = 0.58235792\n",
      "Validation score: 0.764179\n",
      "Iteration 2, loss = 0.53506473\n",
      "Validation score: 0.770149\n",
      "Iteration 3, loss = 0.50837603\n",
      "Validation score: 0.785075\n",
      "Iteration 4, loss = 0.50267695\n",
      "Validation score: 0.794030\n",
      "Iteration 5, loss = 0.49346915\n",
      "Validation score: 0.808955\n",
      "Iteration 6, loss = 0.50255768\n",
      "Validation score: 0.764179\n",
      "Iteration 7, loss = 0.49992347\n",
      "Validation score: 0.797015\n",
      "Iteration 8, loss = 0.47981520\n",
      "Validation score: 0.800000\n",
      "Iteration 9, loss = 0.47347578\n",
      "Validation score: 0.791045\n",
      "Iteration 10, loss = 0.46884265\n",
      "Validation score: 0.817910\n",
      "Iteration 11, loss = 0.45682703\n",
      "Validation score: 0.802985\n",
      "Iteration 12, loss = 0.45269987\n",
      "Validation score: 0.805970\n",
      "Iteration 13, loss = 0.45754726\n",
      "Validation score: 0.794030\n",
      "Iteration 14, loss = 0.44685746\n",
      "Validation score: 0.820896\n",
      "Iteration 15, loss = 0.44638865\n",
      "Validation score: 0.805970\n",
      "Iteration 16, loss = 0.46230067\n",
      "Validation score: 0.820896\n",
      "Iteration 17, loss = 0.46149385\n",
      "Validation score: 0.826866\n",
      "Iteration 18, loss = 0.45773227\n",
      "Validation score: 0.823881\n",
      "Iteration 19, loss = 0.45119097\n",
      "Validation score: 0.805970\n",
      "Iteration 20, loss = 0.44013662\n",
      "Validation score: 0.800000\n",
      "Iteration 21, loss = 0.45751837\n",
      "Validation score: 0.820896\n",
      "Iteration 22, loss = 0.44846951\n",
      "Validation score: 0.835821\n",
      "Iteration 23, loss = 0.44684440\n",
      "Validation score: 0.811940\n",
      "Iteration 24, loss = 0.45867571\n",
      "Validation score: 0.802985\n",
      "Iteration 25, loss = 0.44180507\n",
      "Validation score: 0.814925\n",
      "Iteration 26, loss = 0.43559968\n",
      "Validation score: 0.820896\n",
      "Iteration 27, loss = 0.44046994\n",
      "Validation score: 0.841791\n",
      "Iteration 28, loss = 0.43897389\n",
      "Validation score: 0.791045\n",
      "Iteration 29, loss = 0.43641608\n",
      "Validation score: 0.832836\n",
      "Iteration 30, loss = 0.45643101\n",
      "Validation score: 0.814925\n",
      "Iteration 31, loss = 0.43433354\n",
      "Validation score: 0.835821\n",
      "Iteration 32, loss = 0.42986640\n",
      "Validation score: 0.832836\n",
      "Iteration 33, loss = 0.43008362\n",
      "Validation score: 0.811940\n",
      "Iteration 34, loss = 0.44127811\n",
      "Validation score: 0.820896\n",
      "Iteration 35, loss = 0.43139280\n",
      "Validation score: 0.823881\n",
      "Iteration 36, loss = 0.44454843\n",
      "Validation score: 0.835821\n",
      "Iteration 37, loss = 0.44358692\n",
      "Validation score: 0.811940\n",
      "Iteration 38, loss = 0.43089033\n",
      "Validation score: 0.814925\n",
      "Validation score did not improve more than tol=0.000100 for 10 consecutive epochs. Stopping.\n",
      "XGB test_acc: 0.7916167664670659\n",
      "recall: 0.7926457564151226\n",
      "precision: 0.7919908650646101\n",
      "f_score: 0.7915494978479196\n",
      "\n",
      "ROC: 0.8772414110394166\n"
     ]
    },
    {
     "data": {
      "image/png": "[encoded data removed]",
      "text/plain": [
       "<Figure size 432x288 with 1 Axes>"
      ]
     },
     "metadata": {
      "needs_background": "light"
     },
     "output_type": "display_data"
    }
   ],
   "source": [
    "from sklearn.neural_network import MLPClassifier\n",
    "\n",
    "mlp_data = pd.concat([normalized_train_data, normalized_dev_data])\n",
    "mlp_labels = pd.concat([normalized_train_label, dev_label])\n",
    "\n",
    "mlp_clf = MLPClassifier(hidden_layer_sizes=(1024,1024,), random_state=1, \n",
    "                        early_stopping=True, validation_fraction=0.1, verbose=True).fit(mlp_data, mlp_labels)\n",
    "\n",
    "mlp_pred = mlp_clf.predict(normalized_test_data)\n",
    "\n",
    "test_ac = mlp_clf.score(normalized_test_data, test_label)\n",
    "f_score = f1_score(test_label, mlp_pred, average='macro')\n",
    "prec = precision_score(test_label, mlp_pred, average='macro')\n",
    "recall = recall_score(test_label, mlp_pred, average='macro')\n",
    "\n",
    "print(f'XGB test_acc: {test_ac}\\nrecall: {recall}\\nprecision: {prec}\\nf_score: {f_score}\\n')\n",
    "mlp_pred_prob = [i[1] for i in mlp_clf.predict_proba(normalized_test_data)]\n",
    "roc = roc_auc_score(test_label, mlp_pred_prob)\n",
    "print(f'ROC: {roc}')\n",
    "plot_roc(mlp_clf, normalized_test_data, test_label)"
   ]
  },
  {
   "cell_type": "markdown",
   "id": "d144549c",
   "metadata": {},
   "source": [
    "## Random Forest"
   ]
  },
  {
   "cell_type": "code",
   "execution_count": 10,
   "id": "a130c3a4",
   "metadata": {},
   "outputs": [
    {
     "name": "stdout",
     "output_type": "stream",
     "text": [
      "XGB test_acc: 0.7916167664670659\n",
      "recall: 0.7926457564151226\n",
      "precision: 0.7919908650646101\n",
      "f_score: 0.7915494978479196\n",
      "\n",
      "ROC: 0.8756052816212921\n"
     ]
    },
    {
     "data": {
      "image/png": "[encoded data removed]",
      "text/plain": [
       "<Figure size 432x288 with 1 Axes>"
      ]
     },
     "metadata": {
      "needs_background": "light"
     },
     "output_type": "display_data"
    }
   ],
   "source": [
    "from sklearn.ensemble import RandomForestClassifier\n",
    "from tqdm import tqdm\n",
    "\n",
    "comb_data = pd.concat([train_data, dev_data])\n",
    "comb_labels = pd.concat([train_label, dev_label])\n",
    "\n",
    "rf_clf = RandomForestClassifier(random_state=0).fit(comb_data, comb_labels)\n",
    "\n",
    "rf_pred = rf_clf.predict(test_data)\n",
    "\n",
    "test_ac = rf_clf.score(test_data, test_label)\n",
    "f_score = f1_score(test_label, rf_pred, average='macro')\n",
    "prec = precision_score(test_label, rf_pred, average='macro')\n",
    "recall = recall_score(test_label, rf_pred, average='macro')\n",
    "\n",
    "print(f'XGB test_acc: {test_ac}\\nrecall: {recall}\\nprecision: {prec}\\nf_score: {f_score}\\n')\n",
    "rf_pred_prob = [i[1] for i in rf_clf.predict_proba(test_data)]\n",
    "roc = roc_auc_score(test_label, rf_pred_prob)\n",
    "print(f'ROC: {roc}')\n",
    "plot_roc(rf_clf, test_data, test_label)"
   ]
  },
  {
   "cell_type": "markdown",
   "id": "9196ea7e",
   "metadata": {},
   "source": [
    "## XGBoost"
   ]
  },
  {
   "cell_type": "code",
   "execution_count": 11,
   "id": "f8974349",
   "metadata": {},
   "outputs": [
    {
     "name": "stdout",
     "output_type": "stream",
     "text": [
      "[10:10:16] WARNING: C:/Users/Administrator/workspace/xgboost-win64_release_1.4.0/src/learner.cc:1095: Starting in XGBoost 1.3.0, the default evaluation metric used with the objective 'binary:logistic' was changed from 'error' to 'logloss'. Explicitly set eval_metric if you'd like to restore the old behavior.\n",
      "XGB test_acc: 0.7892215568862275\n",
      "recall: 0.7901268647274651\n",
      "precision: 0.7894477147807727\n",
      "f_score: 0.7891341529207847\n",
      "\n",
      "ROC: 0.8685288062293688\n"
     ]
    },
    {
     "data": {
      "image/png": "[encoded data removed]",
      "text/plain": [
       "<Figure size 432x288 with 1 Axes>"
      ]
     },
     "metadata": {
      "needs_background": "light"
     },
     "output_type": "display_data"
    }
   ],
   "source": [
    "import xgboost as xgb\n",
    "from sklearn.metrics import f1_score, precision_score, recall_score, roc_auc_score\n",
    "\n",
    "xg_boost = xgb.XGBClassifier(objective='binary:logistic', use_label_encoder=False)\n",
    "\n",
    "comb_data = pd.concat([train_data, dev_data])\n",
    "comb_labels = pd.concat([train_label, dev_label])\n",
    "\n",
    "xgb_clf = xg_boost.fit(comb_data, comb_labels)\n",
    "test_ac = xgb_clf.score(test_data, test_label)\n",
    "pred = xgb_clf.predict(test_data)\n",
    "f_score = f1_score(test_label, pred, average='macro')\n",
    "prec = precision_score(test_label, pred, average='macro')\n",
    "recall = recall_score(test_label, pred, average='macro')\n",
    "\n",
    "print(f'XGB test_acc: {test_ac}\\nrecall: {recall}\\nprecision: {prec}\\nf_score: {f_score}\\n')\n",
    "pred_prob = [i[1] for i in xgb_clf.predict_proba(test_data)]\n",
    "roc = roc_auc_score(test_label, pred_prob)\n",
    "print(f'ROC: {roc}')\n",
    "plot_roc(xgb_clf, test_data, test_label)"
   ]
  },
  {
   "cell_type": "code",
   "execution_count": null,
   "id": "87e27cad",
   "metadata": {},
   "outputs": [],
   "source": []
  }
 ],
 "metadata": {
  "kernelspec": {
   "display_name": "Python 3",
   "language": "python",
   "name": "python3"
  },
  "language_info": {
   "codemirror_mode": {
    "name": "ipython",
    "version": 3
   },
   "file_extension": ".py",
   "mimetype": "text/x-python",
   "name": "python",
   "nbconvert_exporter": "python",
   "pygments_lexer": "ipython3",
   "version": "3.8.8"
  }
 },
 "nbformat": 4,
 "nbformat_minor": 5
}
